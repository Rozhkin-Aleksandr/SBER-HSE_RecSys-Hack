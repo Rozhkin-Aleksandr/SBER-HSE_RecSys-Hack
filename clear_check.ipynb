{
 "cells": [
  {
   "cell_type": "code",
   "execution_count": 2,
   "id": "e5d82c8e-7efa-4cd1-a83b-c6d8d160c128",
   "metadata": {},
   "outputs": [],
   "source": [
    "import pandas as pd\n",
    "\n",
    "from sklearn.neighbors import NearestNeighbors\n",
    "import numpy as np\n",
    "import implicit\n",
    "from scipy.sparse import csr_matrix, save_npz, load_npz\n",
    "from tqdm.notebook import trange"
   ]
  },
  {
   "cell_type": "code",
   "execution_count": 6,
   "id": "37c506e4-582e-432b-beb2-f9959522eda1",
   "metadata": {},
   "outputs": [],
   "source": [
    "data = load_npz(\"csr_user_item.npz\")"
   ]
  },
  {
   "cell_type": "code",
   "execution_count": 7,
   "id": "87c50c9a-ccc1-415d-bf4c-242112d583bb",
   "metadata": {},
   "outputs": [
    {
     "data": {
      "text/plain": [
       "<76446x31916 sparse matrix of type '<class 'numpy.float64'>'\n",
       "\twith 1920530 stored elements in Compressed Sparse Row format>"
      ]
     },
     "execution_count": 7,
     "metadata": {},
     "output_type": "execute_result"
    }
   ],
   "source": [
    "data"
   ]
  },
  {
   "cell_type": "code",
   "execution_count": 8,
   "id": "764da375-4469-4a11-985b-6d640f017c1e",
   "metadata": {},
   "outputs": [
    {
     "name": "stderr",
     "output_type": "stream",
     "text": [
      "C:\\Users\\Александр\\AppData\\Roaming\\Python\\Python311\\site-packages\\implicit\\cpu\\als.py:95: RuntimeWarning: OpenBLAS is configured to use 12 threads. It is highly recommended to disable its internal threadpool by setting the environment variable 'OPENBLAS_NUM_THREADS=1' or by calling 'threadpoolctl.threadpool_limits(1, \"blas\")'. Having OpenBLAS use a threadpool can lead to severe performance issues here.\n",
      "  check_blas_config()\n"
     ]
    },
    {
     "data": {
      "application/vnd.jupyter.widget-view+json": {
       "model_id": "0cbf1724e99b44bdb64a9e11adf85c01",
       "version_major": 2,
       "version_minor": 0
      },
      "text/plain": [
       "  0%|          | 0/10 [00:00<?, ?it/s]"
      ]
     },
     "metadata": {},
     "output_type": "display_data"
    },
    {
     "name": "stdout",
     "output_type": "stream",
     "text": [
      "[ 840 4052 1882 2416 8141 1392 2771 3332  532  456]\n",
      "CPU times: total: 3min 14s\n",
      "Wall time: 19.3 s\n"
     ]
    }
   ],
   "source": [
    "%%time\n",
    "\n",
    "\n",
    "a=0\n",
    "for i in range(1):\n",
    "    R = data\n",
    "\n",
    "    # Создаем и обучаем модель\n",
    "    model = implicit.als.AlternatingLeastSquares(factors=20, regularization=0.1, iterations=10)\n",
    "    model.fit(R)\n",
    "\n",
    "    \n",
    "    # Рекомендуем элементы для пользователя\n",
    "    user_id = 1488\n",
    "    recommended, _ = model.recommend(user_id, R[user_id])\n",
    "    print(recommended)"
   ]
  },
  {
   "cell_type": "code",
   "execution_count": 9,
   "id": "0fd565ae-91b2-42ea-bcef-752a027fd437",
   "metadata": {},
   "outputs": [],
   "source": [
    "uf = model.user_factors"
   ]
  },
  {
   "cell_type": "code",
   "execution_count": 10,
   "id": "49f98bef-44a6-494d-9950-5e1b6fa57ffd",
   "metadata": {},
   "outputs": [
    {
     "data": {
      "text/plain": [
       "(76446, 20)"
      ]
     },
     "execution_count": 10,
     "metadata": {},
     "output_type": "execute_result"
    }
   ],
   "source": [
    "uf.shape"
   ]
  },
  {
   "cell_type": "code",
   "execution_count": 11,
   "id": "0cdd52ae-ac06-43fb-8a05-0aeb8c03f19a",
   "metadata": {},
   "outputs": [],
   "source": [
    "nbrs = NearestNeighbors(algorithm='brute', metric = 'cosine').fit(uf)\n"
   ]
  },
  {
   "cell_type": "code",
   "execution_count": 12,
   "id": "7515a86e-663f-4f46-85c0-b596e0ea6dc4",
   "metadata": {},
   "outputs": [],
   "source": [
    "def predict(i, n_neighb):\n",
    "    d, ind = nbrs.kneighbors(uf[i].reshape(1,-1), n_neighbors=n_neighb+1)\n",
    "    print(d)\n",
    "    print(uf[i])\n",
    "    print('='*30)\n",
    "    for i in ind[0][1:]:\n",
    "        print(i)"
   ]
  },
  {
   "cell_type": "code",
   "execution_count": 13,
   "id": "62410ecb-d112-48ef-97ef-af4cb572f9fa",
   "metadata": {},
   "outputs": [
    {
     "name": "stdout",
     "output_type": "stream",
     "text": [
      "[[0.         0.1634075  0.16666478 0.16891724 0.16894197 0.18025142]]\n",
      "[  3.3207808   -1.8830144   -1.6475973   10.702188    -0.31295276\n",
      "  37.14653      0.10665691  27.259357   -12.426449     7.7998204\n",
      "  -5.5771866   16.650562     4.6062255    7.3677645   21.1869\n",
      "  15.577896   -22.95684     -6.201458    -2.4522011    5.6838007 ]\n",
      "==============================\n",
      "6122\n",
      "17012\n",
      "36907\n",
      "20308\n",
      "11782\n"
     ]
    }
   ],
   "source": [
    "predict(1486, 5)"
   ]
  },
  {
   "cell_type": "code",
   "execution_count": 14,
   "id": "19ac4b3f-1156-4863-9e66-53522903e93c",
   "metadata": {},
   "outputs": [
    {
     "name": "stdout",
     "output_type": "stream",
     "text": [
      "81\n"
     ]
    }
   ],
   "source": [
    "a = np.nonzero(data[23736])[1]\n",
    "\n",
    "b = np.nonzero(data[1486])[1]\n",
    "k=0\n",
    "for i in np.concatenate([a,b]):\n",
    "    if i in a and i in b:\n",
    "        k+=1\n",
    "print(k//2)"
   ]
  },
  {
   "cell_type": "code",
   "execution_count": 18,
   "id": "cd5a4d80-d2c0-43e8-bbbf-090c2b1de408",
   "metadata": {},
   "outputs": [],
   "source": [
    "datalil = data.tolil()"
   ]
  },
  {
   "cell_type": "code",
   "execution_count": 19,
   "id": "33cae88c-cc57-4b7c-af1f-0d36a8754838",
   "metadata": {},
   "outputs": [
    {
     "data": {
      "text/plain": [
       "<76446x31916 sparse matrix of type '<class 'numpy.float64'>'\n",
       "\twith 1921287 stored elements in List of Lists format>"
      ]
     },
     "execution_count": 19,
     "metadata": {},
     "output_type": "execute_result"
    }
   ],
   "source": [
    "datalil"
   ]
  },
  {
   "cell_type": "code",
   "execution_count": 20,
   "id": "822b8d82-005a-4cce-a482-64e6bd4ec14b",
   "metadata": {},
   "outputs": [],
   "source": [
    "def predict_cnt(i, n_neighb, net):\n",
    "    d, ind = nbrs.kneighbors(uf[i].reshape(1,-1), n_neighbors=n_neighb+1)\n",
    "    a = net[ind[0][0]]\n",
    "    for ii in ind[0][1:]:\n",
    "        a+=net[ii]\n",
    "        #print('-'*30)\n",
    "    for j in range(a.shape[1]):\n",
    "        if a[0, j] != 0:  # Добавляем только ненулевые значения\n",
    "            net[i, j] = a[0, j]\n",
    "    \n"
   ]
  },
  {
   "cell_type": "code",
   "execution_count": 21,
   "id": "92b8ac6b-8f2d-46a9-98b5-4b015dd46afd",
   "metadata": {},
   "outputs": [
    {
     "data": {
      "application/vnd.jupyter.widget-view+json": {
       "model_id": "c096fb6014d54d78a0200467702b05a7",
       "version_major": 2,
       "version_minor": 0
      },
      "text/plain": [
       "  0%|          | 0/100 [00:00<?, ?it/s]"
      ]
     },
     "metadata": {},
     "output_type": "display_data"
    },
    {
     "name": "stdout",
     "output_type": "stream",
     "text": [
      "CPU times: total: 11.5 s\n",
      "Wall time: 11.4 s\n"
     ]
    }
   ],
   "source": [
    "%%time\n",
    "for i in trange(100):\n",
    "    predict_cnt(i, 5, datalil)"
   ]
  },
  {
   "cell_type": "code",
   "execution_count": 33,
   "id": "b2222825-d84f-4d9a-b5bf-369e2b02a940",
   "metadata": {},
   "outputs": [
    {
     "data": {
      "text/plain": [
       "<76446x31916 sparse matrix of type '<class 'numpy.float64'>'\n",
       "\twith 1924213 stored elements in List of Lists format>"
      ]
     },
     "execution_count": 33,
     "metadata": {},
     "output_type": "execute_result"
    }
   ],
   "source": []
  },
  {
   "cell_type": "code",
   "execution_count": 62,
   "id": "10b00bcb-439f-488e-8448-9fd48fe10f2f",
   "metadata": {},
   "outputs": [],
   "source": [
    "VIDEO = pd.read_csv(\"data/24tv_video_2024_11_11.csv\")"
   ]
  },
  {
   "cell_type": "code",
   "execution_count": null,
   "id": "690f5041-7f52-4203-943b-586848de46a0",
   "metadata": {},
   "outputs": [],
   "source": [
    "uf"
   ]
  },
  {
   "cell_type": "code",
   "execution_count": 70,
   "id": "f391fa28-dba0-48dc-bb2d-4a72c9d63c3f",
   "metadata": {},
   "outputs": [
    {
     "data": {
      "text/html": [
       "<div>\n",
       "<style scoped>\n",
       "    .dataframe tbody tr th:only-of-type {\n",
       "        vertical-align: middle;\n",
       "    }\n",
       "\n",
       "    .dataframe tbody tr th {\n",
       "        vertical-align: top;\n",
       "    }\n",
       "\n",
       "    .dataframe thead th {\n",
       "        text-align: right;\n",
       "    }\n",
       "</style>\n",
       "<table border=\"1\" class=\"dataframe\">\n",
       "  <thead>\n",
       "    <tr style=\"text-align: right;\">\n",
       "      <th></th>\n",
       "      <th>id</th>\n",
       "      <th>uuid</th>\n",
       "      <th>external_stat_id</th>\n",
       "      <th>user</th>\n",
       "      <th>profile</th>\n",
       "      <th>device</th>\n",
       "      <th>device_type</th>\n",
       "      <th>video</th>\n",
       "      <th>episode</th>\n",
       "      <th>history</th>\n",
       "      <th>...</th>\n",
       "      <th>started_at</th>\n",
       "      <th>ended_at</th>\n",
       "      <th>preview</th>\n",
       "      <th>session_id</th>\n",
       "      <th>library_id</th>\n",
       "      <th>access_token</th>\n",
       "      <th>app_version</th>\n",
       "      <th>cause</th>\n",
       "      <th>content</th>\n",
       "      <th>top_parent</th>\n",
       "    </tr>\n",
       "  </thead>\n",
       "  <tbody>\n",
       "    <tr>\n",
       "      <th>0</th>\n",
       "      <td>UInt64</td>\n",
       "      <td>Nullable(UUID)</td>\n",
       "      <td>Nullable(UUID)</td>\n",
       "      <td>UInt64</td>\n",
       "      <td>Nullable(FixedString(36))</td>\n",
       "      <td>Nullable(FixedString(36))</td>\n",
       "      <td>Nullable(String)</td>\n",
       "      <td>UInt32</td>\n",
       "      <td>UInt32</td>\n",
       "      <td>Nullable(UInt64)</td>\n",
       "      <td>...</td>\n",
       "      <td>DateTime</td>\n",
       "      <td>Nullable(DateTime)</td>\n",
       "      <td>Nullable(UInt8)</td>\n",
       "      <td>Nullable(UUID)</td>\n",
       "      <td>Nullable(UInt32)</td>\n",
       "      <td>Nullable(String)</td>\n",
       "      <td>Nullable(UInt32)</td>\n",
       "      <td>Nullable(String)</td>\n",
       "      <td>Nullable(UInt64)</td>\n",
       "      <td>Nullable(UInt64)</td>\n",
       "    </tr>\n",
       "    <tr>\n",
       "      <th>1</th>\n",
       "      <td>1056990830854268768</td>\n",
       "      <td>97943a99-5407-4dca-930f-d2057021d969</td>\n",
       "      <td>\\N</td>\n",
       "      <td>16821584</td>\n",
       "      <td>45c35ba0-69bb-4dbd-99af-c25037e9337e</td>\n",
       "      <td>ae857ffb-a744-4323-9dc3-2f23b733c0fe</td>\n",
       "      <td>tv</td>\n",
       "      <td>0</td>\n",
       "      <td>0</td>\n",
       "      <td>1056990830774560372</td>\n",
       "      <td>...</td>\n",
       "      <td>2024-11-11 00:00:02</td>\n",
       "      <td>2024-11-11 00:06:14</td>\n",
       "      <td>0</td>\n",
       "      <td>97943a99-5407-4dca-930f-d2057021d969</td>\n",
       "      <td>8</td>\n",
       "      <td>a2c32020368bf91b9b1c7734b802f1d52febef88</td>\n",
       "      <td>320462</td>\n",
       "      <td>\\N</td>\n",
       "      <td>546590812041904598</td>\n",
       "      <td>546321152977404315</td>\n",
       "    </tr>\n",
       "    <tr>\n",
       "      <th>2</th>\n",
       "      <td>1056990837064925237</td>\n",
       "      <td>8c4e0084-da2c-46da-b141-6f20d0ce31ad</td>\n",
       "      <td>\\N</td>\n",
       "      <td>10586519</td>\n",
       "      <td>d3e89d3b-31fc-44b4-aa35-4c45e0b16980</td>\n",
       "      <td>c2af1171-443e-4b57-b80a-67cc02e5a67e</td>\n",
       "      <td>stb</td>\n",
       "      <td>0</td>\n",
       "      <td>0</td>\n",
       "      <td>\\N</td>\n",
       "      <td>...</td>\n",
       "      <td>2024-11-11 00:00:03</td>\n",
       "      <td>2024-11-11 00:00:03</td>\n",
       "      <td>1</td>\n",
       "      <td>8c4e0084-da2c-46da-b141-6f20d0ce31ad</td>\n",
       "      <td>8</td>\n",
       "      <td>4dab0abe45cb2de45c861657fcee86e9dda93839</td>\n",
       "      <td>3552</td>\n",
       "      <td>\\N</td>\n",
       "      <td>852503324376609050</td>\n",
       "      <td>852503316713302252</td>\n",
       "    </tr>\n",
       "    <tr>\n",
       "      <th>3</th>\n",
       "      <td>1056990837351001036</td>\n",
       "      <td>69423891-8d07-4dab-aaeb-900078f177b9</td>\n",
       "      <td>\\N</td>\n",
       "      <td>17636978</td>\n",
       "      <td>09ab3d2f-2cbc-4812-9730-203004731f1a</td>\n",
       "      <td>2639eb3a-c0c5-4302-a449-4ffcce770a87</td>\n",
       "      <td>stb</td>\n",
       "      <td>0</td>\n",
       "      <td>0</td>\n",
       "      <td>1056990965091705690</td>\n",
       "      <td>...</td>\n",
       "      <td>2024-11-11 00:00:03</td>\n",
       "      <td>2024-11-11 00:02:04</td>\n",
       "      <td>0</td>\n",
       "      <td>69423891-8d07-4dab-aaeb-900078f177b9</td>\n",
       "      <td>8</td>\n",
       "      <td>f69c1801698324a3976eb77d9426bc5c1fa08b2c</td>\n",
       "      <td>3626</td>\n",
       "      <td>\\N</td>\n",
       "      <td>547476653031293513</td>\n",
       "      <td>546312519552074714</td>\n",
       "    </tr>\n",
       "    <tr>\n",
       "      <th>4</th>\n",
       "      <td>1056990842169545753</td>\n",
       "      <td>1552a414-e2af-4c71-aaa2-5a0fea1a4e89</td>\n",
       "      <td>\\N</td>\n",
       "      <td>10586519</td>\n",
       "      <td>d3e89d3b-31fc-44b4-aa35-4c45e0b16980</td>\n",
       "      <td>c2af1171-443e-4b57-b80a-67cc02e5a67e</td>\n",
       "      <td>stb</td>\n",
       "      <td>0</td>\n",
       "      <td>0</td>\n",
       "      <td>\\N</td>\n",
       "      <td>...</td>\n",
       "      <td>2024-11-11 00:00:04</td>\n",
       "      <td>2024-11-11 00:00:04</td>\n",
       "      <td>1</td>\n",
       "      <td>1552a414-e2af-4c71-aaa2-5a0fea1a4e89</td>\n",
       "      <td>8</td>\n",
       "      <td>4dab0abe45cb2de45c861657fcee86e9dda93839</td>\n",
       "      <td>3552</td>\n",
       "      <td>\\N</td>\n",
       "      <td>852503324376609050</td>\n",
       "      <td>852503316713302252</td>\n",
       "    </tr>\n",
       "    <tr>\n",
       "      <th>...</th>\n",
       "      <td>...</td>\n",
       "      <td>...</td>\n",
       "      <td>...</td>\n",
       "      <td>...</td>\n",
       "      <td>...</td>\n",
       "      <td>...</td>\n",
       "      <td>...</td>\n",
       "      <td>...</td>\n",
       "      <td>...</td>\n",
       "      <td>...</td>\n",
       "      <td>...</td>\n",
       "      <td>...</td>\n",
       "      <td>...</td>\n",
       "      <td>...</td>\n",
       "      <td>...</td>\n",
       "      <td>...</td>\n",
       "      <td>...</td>\n",
       "      <td>...</td>\n",
       "      <td>...</td>\n",
       "      <td>...</td>\n",
       "      <td>...</td>\n",
       "    </tr>\n",
       "    <tr>\n",
       "      <th>20133</th>\n",
       "      <td>1057344547674041516</td>\n",
       "      <td>d3e80c26-b64d-440c-a697-a020fff4175a</td>\n",
       "      <td>\\N</td>\n",
       "      <td>18013555</td>\n",
       "      <td>0d9b3703-4693-4cac-96a5-ae50cec19f1d</td>\n",
       "      <td>b1b37492-7a2c-4fd4-9421-8d5b19a35c89</td>\n",
       "      <td>stb</td>\n",
       "      <td>0</td>\n",
       "      <td>0</td>\n",
       "      <td>1057005576805563500</td>\n",
       "      <td>...</td>\n",
       "      <td>2024-11-11 23:59:18</td>\n",
       "      <td>2024-11-12 00:22:30</td>\n",
       "      <td>0</td>\n",
       "      <td>d3e80c26-b64d-440c-a697-a020fff4175a</td>\n",
       "      <td>8</td>\n",
       "      <td>22bda082753e55e1974328f679f966924bc2a678</td>\n",
       "      <td>3619</td>\n",
       "      <td>\\N</td>\n",
       "      <td>546592870862160781</td>\n",
       "      <td>546592793108152401</td>\n",
       "    </tr>\n",
       "    <tr>\n",
       "      <th>20134</th>\n",
       "      <td>1057344604727032729</td>\n",
       "      <td>42071226-cc34-4aed-a68d-baec06b1e288</td>\n",
       "      <td>\\N</td>\n",
       "      <td>17946789</td>\n",
       "      <td>016d3f0a-70b0-4974-b00b-36183c2c3da3</td>\n",
       "      <td>e2bcbb16-c688-447f-be99-19ce07e75752</td>\n",
       "      <td>tv</td>\n",
       "      <td>0</td>\n",
       "      <td>0</td>\n",
       "      <td>1057344501131391191</td>\n",
       "      <td>...</td>\n",
       "      <td>2024-11-11 23:59:32</td>\n",
       "      <td>2024-11-12 00:45:59</td>\n",
       "      <td>0</td>\n",
       "      <td>42071226-cc34-4aed-a68d-baec06b1e288</td>\n",
       "      <td>8</td>\n",
       "      <td>5f6739e3b13f82455c10bdb19cae0255af074c84</td>\n",
       "      <td>324514</td>\n",
       "      <td>\\N</td>\n",
       "      <td>900305172996443183</td>\n",
       "      <td>893939246198514494</td>\n",
       "    </tr>\n",
       "    <tr>\n",
       "      <th>20135</th>\n",
       "      <td>1057344650293952199</td>\n",
       "      <td>69cf448e-cad2-4274-a8fe-0470fa31b90b</td>\n",
       "      <td>\\N</td>\n",
       "      <td>10830926</td>\n",
       "      <td>402b0391-0748-45c6-83d2-b745e33d5406</td>\n",
       "      <td>12c2490e-e202-47cb-bc96-daad335badc2</td>\n",
       "      <td>tv</td>\n",
       "      <td>0</td>\n",
       "      <td>0</td>\n",
       "      <td>1057344650215350569</td>\n",
       "      <td>...</td>\n",
       "      <td>2024-11-11 23:59:43</td>\n",
       "      <td>2024-11-12 00:48:24</td>\n",
       "      <td>0</td>\n",
       "      <td>69cf448e-cad2-4274-a8fe-0470fa31b90b</td>\n",
       "      <td>1</td>\n",
       "      <td>487ff2ce5b8a247df3e4987cba67fcd129ce6c19</td>\n",
       "      <td>324514</td>\n",
       "      <td>\\N</td>\n",
       "      <td>904170163763909279</td>\n",
       "      <td>904170150282979823</td>\n",
       "    </tr>\n",
       "    <tr>\n",
       "      <th>20136</th>\n",
       "      <td>1057344652125909572</td>\n",
       "      <td>327a8455-23ad-47eb-b3eb-3c31b800feb9</td>\n",
       "      <td>\\N</td>\n",
       "      <td>18148002</td>\n",
       "      <td>dbdbf499-fd3e-49e2-a8c2-17465f59ba60</td>\n",
       "      <td>78acc625-dea0-467d-b66c-a41ba1e5e4f2</td>\n",
       "      <td>phone</td>\n",
       "      <td>0</td>\n",
       "      <td>0</td>\n",
       "      <td>1057344652025678704</td>\n",
       "      <td>...</td>\n",
       "      <td>2024-11-11 23:59:44</td>\n",
       "      <td>2024-11-12 00:19:05</td>\n",
       "      <td>0</td>\n",
       "      <td>327a8455-23ad-47eb-b3eb-3c31b800feb9</td>\n",
       "      <td>8</td>\n",
       "      <td>6e47fab5c22afa454634fbd518a40e4e188a5223</td>\n",
       "      <td>\\N</td>\n",
       "      <td>\\N</td>\n",
       "      <td>546317004336791957</td>\n",
       "      <td>546316996308894013</td>\n",
       "    </tr>\n",
       "    <tr>\n",
       "      <th>20137</th>\n",
       "      <td>1057344684718257882</td>\n",
       "      <td>9b3036a6-6a88-471e-b43c-3113bee265a2</td>\n",
       "      <td>\\N</td>\n",
       "      <td>18162845</td>\n",
       "      <td>08ae2784-f194-40d2-ac75-7612abf9a034</td>\n",
       "      <td>c0d08a69-eef1-4737-b683-ae22aaacd543</td>\n",
       "      <td>pc</td>\n",
       "      <td>0</td>\n",
       "      <td>0</td>\n",
       "      <td>1057344457595476011</td>\n",
       "      <td>...</td>\n",
       "      <td>2024-11-11 23:59:52</td>\n",
       "      <td>2024-11-12 00:00:01</td>\n",
       "      <td>0</td>\n",
       "      <td>9b3036a6-6a88-471e-b43c-3113bee265a2</td>\n",
       "      <td>8</td>\n",
       "      <td>9e7be6e3a856a9bfadd6300b2b910bacf01e5e6e</td>\n",
       "      <td>167</td>\n",
       "      <td>\\N</td>\n",
       "      <td>679491221802706173</td>\n",
       "      <td>679491220685187004</td>\n",
       "    </tr>\n",
       "  </tbody>\n",
       "</table>\n",
       "<p>20138 rows × 29 columns</p>\n",
       "</div>"
      ],
      "text/plain": [
       "                        id                                  uuid  \\\n",
       "0                   UInt64                        Nullable(UUID)   \n",
       "1      1056990830854268768  97943a99-5407-4dca-930f-d2057021d969   \n",
       "2      1056990837064925237  8c4e0084-da2c-46da-b141-6f20d0ce31ad   \n",
       "3      1056990837351001036  69423891-8d07-4dab-aaeb-900078f177b9   \n",
       "4      1056990842169545753  1552a414-e2af-4c71-aaa2-5a0fea1a4e89   \n",
       "...                    ...                                   ...   \n",
       "20133  1057344547674041516  d3e80c26-b64d-440c-a697-a020fff4175a   \n",
       "20134  1057344604727032729  42071226-cc34-4aed-a68d-baec06b1e288   \n",
       "20135  1057344650293952199  69cf448e-cad2-4274-a8fe-0470fa31b90b   \n",
       "20136  1057344652125909572  327a8455-23ad-47eb-b3eb-3c31b800feb9   \n",
       "20137  1057344684718257882  9b3036a6-6a88-471e-b43c-3113bee265a2   \n",
       "\n",
       "      external_stat_id      user                               profile  \\\n",
       "0       Nullable(UUID)    UInt64             Nullable(FixedString(36))   \n",
       "1                   \\N  16821584  45c35ba0-69bb-4dbd-99af-c25037e9337e   \n",
       "2                   \\N  10586519  d3e89d3b-31fc-44b4-aa35-4c45e0b16980   \n",
       "3                   \\N  17636978  09ab3d2f-2cbc-4812-9730-203004731f1a   \n",
       "4                   \\N  10586519  d3e89d3b-31fc-44b4-aa35-4c45e0b16980   \n",
       "...                ...       ...                                   ...   \n",
       "20133               \\N  18013555  0d9b3703-4693-4cac-96a5-ae50cec19f1d   \n",
       "20134               \\N  17946789  016d3f0a-70b0-4974-b00b-36183c2c3da3   \n",
       "20135               \\N  10830926  402b0391-0748-45c6-83d2-b745e33d5406   \n",
       "20136               \\N  18148002  dbdbf499-fd3e-49e2-a8c2-17465f59ba60   \n",
       "20137               \\N  18162845  08ae2784-f194-40d2-ac75-7612abf9a034   \n",
       "\n",
       "                                     device       device_type   video episode  \\\n",
       "0                 Nullable(FixedString(36))  Nullable(String)  UInt32  UInt32   \n",
       "1      ae857ffb-a744-4323-9dc3-2f23b733c0fe                tv       0       0   \n",
       "2      c2af1171-443e-4b57-b80a-67cc02e5a67e               stb       0       0   \n",
       "3      2639eb3a-c0c5-4302-a449-4ffcce770a87               stb       0       0   \n",
       "4      c2af1171-443e-4b57-b80a-67cc02e5a67e               stb       0       0   \n",
       "...                                     ...               ...     ...     ...   \n",
       "20133  b1b37492-7a2c-4fd4-9421-8d5b19a35c89               stb       0       0   \n",
       "20134  e2bcbb16-c688-447f-be99-19ce07e75752                tv       0       0   \n",
       "20135  12c2490e-e202-47cb-bc96-daad335badc2                tv       0       0   \n",
       "20136  78acc625-dea0-467d-b66c-a41ba1e5e4f2             phone       0       0   \n",
       "20137  c0d08a69-eef1-4737-b683-ae22aaacd543                pc       0       0   \n",
       "\n",
       "                   history  ...           started_at             ended_at  \\\n",
       "0         Nullable(UInt64)  ...             DateTime   Nullable(DateTime)   \n",
       "1      1056990830774560372  ...  2024-11-11 00:00:02  2024-11-11 00:06:14   \n",
       "2                       \\N  ...  2024-11-11 00:00:03  2024-11-11 00:00:03   \n",
       "3      1056990965091705690  ...  2024-11-11 00:00:03  2024-11-11 00:02:04   \n",
       "4                       \\N  ...  2024-11-11 00:00:04  2024-11-11 00:00:04   \n",
       "...                    ...  ...                  ...                  ...   \n",
       "20133  1057005576805563500  ...  2024-11-11 23:59:18  2024-11-12 00:22:30   \n",
       "20134  1057344501131391191  ...  2024-11-11 23:59:32  2024-11-12 00:45:59   \n",
       "20135  1057344650215350569  ...  2024-11-11 23:59:43  2024-11-12 00:48:24   \n",
       "20136  1057344652025678704  ...  2024-11-11 23:59:44  2024-11-12 00:19:05   \n",
       "20137  1057344457595476011  ...  2024-11-11 23:59:52  2024-11-12 00:00:01   \n",
       "\n",
       "               preview                            session_id  \\\n",
       "0      Nullable(UInt8)                        Nullable(UUID)   \n",
       "1                    0  97943a99-5407-4dca-930f-d2057021d969   \n",
       "2                    1  8c4e0084-da2c-46da-b141-6f20d0ce31ad   \n",
       "3                    0  69423891-8d07-4dab-aaeb-900078f177b9   \n",
       "4                    1  1552a414-e2af-4c71-aaa2-5a0fea1a4e89   \n",
       "...                ...                                   ...   \n",
       "20133                0  d3e80c26-b64d-440c-a697-a020fff4175a   \n",
       "20134                0  42071226-cc34-4aed-a68d-baec06b1e288   \n",
       "20135                0  69cf448e-cad2-4274-a8fe-0470fa31b90b   \n",
       "20136                0  327a8455-23ad-47eb-b3eb-3c31b800feb9   \n",
       "20137                0  9b3036a6-6a88-471e-b43c-3113bee265a2   \n",
       "\n",
       "             library_id                              access_token  \\\n",
       "0      Nullable(UInt32)                          Nullable(String)   \n",
       "1                     8  a2c32020368bf91b9b1c7734b802f1d52febef88   \n",
       "2                     8  4dab0abe45cb2de45c861657fcee86e9dda93839   \n",
       "3                     8  f69c1801698324a3976eb77d9426bc5c1fa08b2c   \n",
       "4                     8  4dab0abe45cb2de45c861657fcee86e9dda93839   \n",
       "...                 ...                                       ...   \n",
       "20133                 8  22bda082753e55e1974328f679f966924bc2a678   \n",
       "20134                 8  5f6739e3b13f82455c10bdb19cae0255af074c84   \n",
       "20135                 1  487ff2ce5b8a247df3e4987cba67fcd129ce6c19   \n",
       "20136                 8  6e47fab5c22afa454634fbd518a40e4e188a5223   \n",
       "20137                 8  9e7be6e3a856a9bfadd6300b2b910bacf01e5e6e   \n",
       "\n",
       "            app_version             cause             content  \\\n",
       "0      Nullable(UInt32)  Nullable(String)    Nullable(UInt64)   \n",
       "1                320462                \\N  546590812041904598   \n",
       "2                  3552                \\N  852503324376609050   \n",
       "3                  3626                \\N  547476653031293513   \n",
       "4                  3552                \\N  852503324376609050   \n",
       "...                 ...               ...                 ...   \n",
       "20133              3619                \\N  546592870862160781   \n",
       "20134            324514                \\N  900305172996443183   \n",
       "20135            324514                \\N  904170163763909279   \n",
       "20136                \\N                \\N  546317004336791957   \n",
       "20137               167                \\N  679491221802706173   \n",
       "\n",
       "               top_parent  \n",
       "0        Nullable(UInt64)  \n",
       "1      546321152977404315  \n",
       "2      852503316713302252  \n",
       "3      546312519552074714  \n",
       "4      852503316713302252  \n",
       "...                   ...  \n",
       "20133  546592793108152401  \n",
       "20134  893939246198514494  \n",
       "20135  904170150282979823  \n",
       "20136  546316996308894013  \n",
       "20137  679491220685187004  \n",
       "\n",
       "[20138 rows x 29 columns]"
      ]
     },
     "execution_count": 70,
     "metadata": {},
     "output_type": "execute_result"
    }
   ],
   "source": [
    "VIDEO"
   ]
  },
  {
   "cell_type": "code",
   "execution_count": null,
   "id": "c894c189-921c-43be-98e9-55f647c14f6e",
   "metadata": {},
   "outputs": [],
   "source": []
  },
  {
   "cell_type": "code",
   "execution_count": null,
   "id": "a0421100-bc88-426d-890d-82cffa14bb65",
   "metadata": {},
   "outputs": [],
   "source": []
  },
  {
   "cell_type": "code",
   "execution_count": null,
   "id": "3fb2594a-b975-4cc4-84d4-3312ba2e2afa",
   "metadata": {},
   "outputs": [],
   "source": [
    "import numpy as np\n",
    "from scipy.sparse import lil_matrix, coo_matrix\n",
    "\n",
    "# Пример данных\n",
    "data = {\n",
    "    'row': [0, 0, 1, 1, 2, 2],\n",
    "    'col': [0, 1, 0, 1, 0, 1],\n",
    "    'value': [1, 2, 3, 4, 5, 6]\n",
    "}\n",
    "\n",
    "# Извлечение данных\n",
    "rows = np.array(data['row'])\n",
    "cols = np.array(data['col'])\n",
    "values = np.array(data['value'])\n",
    "\n",
    "# Создание COO матрицы\n",
    "coo = coo_matrix((values, (rows, cols)), shape=(3, 2))\n",
    "\n",
    "# Преобразование в LIL матрицу\n",
    "lil_mat = coo.tolil()\n",
    "\n",
    "# Вывод результата\n",
    "print(\"LIL Matrix:\")\n",
    "print(lil_mat)"
   ]
  }
 ],
 "metadata": {
  "kernelspec": {
   "display_name": "Python 3 (ipykernel)",
   "language": "python",
   "name": "python3"
  },
  "language_info": {
   "codemirror_mode": {
    "name": "ipython",
    "version": 3
   },
   "file_extension": ".py",
   "mimetype": "text/x-python",
   "name": "python",
   "nbconvert_exporter": "python",
   "pygments_lexer": "ipython3",
   "version": "3.11.3"
  }
 },
 "nbformat": 4,
 "nbformat_minor": 5
}
