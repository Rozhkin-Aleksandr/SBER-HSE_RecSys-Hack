{
 "cells": [
  {
   "cell_type": "code",
   "execution_count": null,
   "id": "64885106-2dbe-4467-858c-401856a2901e",
   "metadata": {},
   "outputs": [],
   "source": []
  },
  {
   "cell_type": "code",
   "execution_count": 2,
   "id": "756d0167-73df-4cff-8bfd-d0ef8016f00a",
   "metadata": {},
   "outputs": [],
   "source": [
    "import pandas as pd\n",
    "\n",
    "from sklearn.neighbors import NearestNeighbors\n",
    "import numpy as np\n",
    "import implicit\n",
    "from scipy.sparse import csr_matrix, save_npz\n",
    "from tqdm import trange\n",
    "import nmslib"
   ]
  },
  {
   "cell_type": "code",
   "execution_count": 3,
   "id": "3d39668d-9194-4a37-957f-fd89b0d8026c",
   "metadata": {},
   "outputs": [
    {
     "ename": "FileNotFoundError",
     "evalue": "[Errno 2] No such file or directory: 'data/24tv_channel_2024_11_11.csv'",
     "output_type": "error",
     "traceback": [
      "\u001b[1;31m---------------------------------------------------------------------------\u001b[0m",
      "\u001b[1;31mFileNotFoundError\u001b[0m                         Traceback (most recent call last)",
      "File \u001b[1;32m<timed exec>:1\u001b[0m\n",
      "File \u001b[1;32m~\\AppData\\Roaming\\Python\\Python311\\site-packages\\pandas\\io\\parsers\\readers.py:1026\u001b[0m, in \u001b[0;36mread_csv\u001b[1;34m(filepath_or_buffer, sep, delimiter, header, names, index_col, usecols, dtype, engine, converters, true_values, false_values, skipinitialspace, skiprows, skipfooter, nrows, na_values, keep_default_na, na_filter, verbose, skip_blank_lines, parse_dates, infer_datetime_format, keep_date_col, date_parser, date_format, dayfirst, cache_dates, iterator, chunksize, compression, thousands, decimal, lineterminator, quotechar, quoting, doublequote, escapechar, comment, encoding, encoding_errors, dialect, on_bad_lines, delim_whitespace, low_memory, memory_map, float_precision, storage_options, dtype_backend)\u001b[0m\n\u001b[0;32m   1013\u001b[0m kwds_defaults \u001b[38;5;241m=\u001b[39m _refine_defaults_read(\n\u001b[0;32m   1014\u001b[0m     dialect,\n\u001b[0;32m   1015\u001b[0m     delimiter,\n\u001b[1;32m   (...)\u001b[0m\n\u001b[0;32m   1022\u001b[0m     dtype_backend\u001b[38;5;241m=\u001b[39mdtype_backend,\n\u001b[0;32m   1023\u001b[0m )\n\u001b[0;32m   1024\u001b[0m kwds\u001b[38;5;241m.\u001b[39mupdate(kwds_defaults)\n\u001b[1;32m-> 1026\u001b[0m \u001b[38;5;28;01mreturn\u001b[39;00m \u001b[43m_read\u001b[49m\u001b[43m(\u001b[49m\u001b[43mfilepath_or_buffer\u001b[49m\u001b[43m,\u001b[49m\u001b[43m \u001b[49m\u001b[43mkwds\u001b[49m\u001b[43m)\u001b[49m\n",
      "File \u001b[1;32m~\\AppData\\Roaming\\Python\\Python311\\site-packages\\pandas\\io\\parsers\\readers.py:620\u001b[0m, in \u001b[0;36m_read\u001b[1;34m(filepath_or_buffer, kwds)\u001b[0m\n\u001b[0;32m    617\u001b[0m _validate_names(kwds\u001b[38;5;241m.\u001b[39mget(\u001b[38;5;124m\"\u001b[39m\u001b[38;5;124mnames\u001b[39m\u001b[38;5;124m\"\u001b[39m, \u001b[38;5;28;01mNone\u001b[39;00m))\n\u001b[0;32m    619\u001b[0m \u001b[38;5;66;03m# Create the parser.\u001b[39;00m\n\u001b[1;32m--> 620\u001b[0m parser \u001b[38;5;241m=\u001b[39m \u001b[43mTextFileReader\u001b[49m\u001b[43m(\u001b[49m\u001b[43mfilepath_or_buffer\u001b[49m\u001b[43m,\u001b[49m\u001b[43m \u001b[49m\u001b[38;5;241;43m*\u001b[39;49m\u001b[38;5;241;43m*\u001b[39;49m\u001b[43mkwds\u001b[49m\u001b[43m)\u001b[49m\n\u001b[0;32m    622\u001b[0m \u001b[38;5;28;01mif\u001b[39;00m chunksize \u001b[38;5;129;01mor\u001b[39;00m iterator:\n\u001b[0;32m    623\u001b[0m     \u001b[38;5;28;01mreturn\u001b[39;00m parser\n",
      "File \u001b[1;32m~\\AppData\\Roaming\\Python\\Python311\\site-packages\\pandas\\io\\parsers\\readers.py:1620\u001b[0m, in \u001b[0;36mTextFileReader.__init__\u001b[1;34m(self, f, engine, **kwds)\u001b[0m\n\u001b[0;32m   1617\u001b[0m     \u001b[38;5;28mself\u001b[39m\u001b[38;5;241m.\u001b[39moptions[\u001b[38;5;124m\"\u001b[39m\u001b[38;5;124mhas_index_names\u001b[39m\u001b[38;5;124m\"\u001b[39m] \u001b[38;5;241m=\u001b[39m kwds[\u001b[38;5;124m\"\u001b[39m\u001b[38;5;124mhas_index_names\u001b[39m\u001b[38;5;124m\"\u001b[39m]\n\u001b[0;32m   1619\u001b[0m \u001b[38;5;28mself\u001b[39m\u001b[38;5;241m.\u001b[39mhandles: IOHandles \u001b[38;5;241m|\u001b[39m \u001b[38;5;28;01mNone\u001b[39;00m \u001b[38;5;241m=\u001b[39m \u001b[38;5;28;01mNone\u001b[39;00m\n\u001b[1;32m-> 1620\u001b[0m \u001b[38;5;28mself\u001b[39m\u001b[38;5;241m.\u001b[39m_engine \u001b[38;5;241m=\u001b[39m \u001b[38;5;28;43mself\u001b[39;49m\u001b[38;5;241;43m.\u001b[39;49m\u001b[43m_make_engine\u001b[49m\u001b[43m(\u001b[49m\u001b[43mf\u001b[49m\u001b[43m,\u001b[49m\u001b[43m \u001b[49m\u001b[38;5;28;43mself\u001b[39;49m\u001b[38;5;241;43m.\u001b[39;49m\u001b[43mengine\u001b[49m\u001b[43m)\u001b[49m\n",
      "File \u001b[1;32m~\\AppData\\Roaming\\Python\\Python311\\site-packages\\pandas\\io\\parsers\\readers.py:1880\u001b[0m, in \u001b[0;36mTextFileReader._make_engine\u001b[1;34m(self, f, engine)\u001b[0m\n\u001b[0;32m   1878\u001b[0m     \u001b[38;5;28;01mif\u001b[39;00m \u001b[38;5;124m\"\u001b[39m\u001b[38;5;124mb\u001b[39m\u001b[38;5;124m\"\u001b[39m \u001b[38;5;129;01mnot\u001b[39;00m \u001b[38;5;129;01min\u001b[39;00m mode:\n\u001b[0;32m   1879\u001b[0m         mode \u001b[38;5;241m+\u001b[39m\u001b[38;5;241m=\u001b[39m \u001b[38;5;124m\"\u001b[39m\u001b[38;5;124mb\u001b[39m\u001b[38;5;124m\"\u001b[39m\n\u001b[1;32m-> 1880\u001b[0m \u001b[38;5;28mself\u001b[39m\u001b[38;5;241m.\u001b[39mhandles \u001b[38;5;241m=\u001b[39m \u001b[43mget_handle\u001b[49m\u001b[43m(\u001b[49m\n\u001b[0;32m   1881\u001b[0m \u001b[43m    \u001b[49m\u001b[43mf\u001b[49m\u001b[43m,\u001b[49m\n\u001b[0;32m   1882\u001b[0m \u001b[43m    \u001b[49m\u001b[43mmode\u001b[49m\u001b[43m,\u001b[49m\n\u001b[0;32m   1883\u001b[0m \u001b[43m    \u001b[49m\u001b[43mencoding\u001b[49m\u001b[38;5;241;43m=\u001b[39;49m\u001b[38;5;28;43mself\u001b[39;49m\u001b[38;5;241;43m.\u001b[39;49m\u001b[43moptions\u001b[49m\u001b[38;5;241;43m.\u001b[39;49m\u001b[43mget\u001b[49m\u001b[43m(\u001b[49m\u001b[38;5;124;43m\"\u001b[39;49m\u001b[38;5;124;43mencoding\u001b[39;49m\u001b[38;5;124;43m\"\u001b[39;49m\u001b[43m,\u001b[49m\u001b[43m \u001b[49m\u001b[38;5;28;43;01mNone\u001b[39;49;00m\u001b[43m)\u001b[49m\u001b[43m,\u001b[49m\n\u001b[0;32m   1884\u001b[0m \u001b[43m    \u001b[49m\u001b[43mcompression\u001b[49m\u001b[38;5;241;43m=\u001b[39;49m\u001b[38;5;28;43mself\u001b[39;49m\u001b[38;5;241;43m.\u001b[39;49m\u001b[43moptions\u001b[49m\u001b[38;5;241;43m.\u001b[39;49m\u001b[43mget\u001b[49m\u001b[43m(\u001b[49m\u001b[38;5;124;43m\"\u001b[39;49m\u001b[38;5;124;43mcompression\u001b[39;49m\u001b[38;5;124;43m\"\u001b[39;49m\u001b[43m,\u001b[49m\u001b[43m \u001b[49m\u001b[38;5;28;43;01mNone\u001b[39;49;00m\u001b[43m)\u001b[49m\u001b[43m,\u001b[49m\n\u001b[0;32m   1885\u001b[0m \u001b[43m    \u001b[49m\u001b[43mmemory_map\u001b[49m\u001b[38;5;241;43m=\u001b[39;49m\u001b[38;5;28;43mself\u001b[39;49m\u001b[38;5;241;43m.\u001b[39;49m\u001b[43moptions\u001b[49m\u001b[38;5;241;43m.\u001b[39;49m\u001b[43mget\u001b[49m\u001b[43m(\u001b[49m\u001b[38;5;124;43m\"\u001b[39;49m\u001b[38;5;124;43mmemory_map\u001b[39;49m\u001b[38;5;124;43m\"\u001b[39;49m\u001b[43m,\u001b[49m\u001b[43m \u001b[49m\u001b[38;5;28;43;01mFalse\u001b[39;49;00m\u001b[43m)\u001b[49m\u001b[43m,\u001b[49m\n\u001b[0;32m   1886\u001b[0m \u001b[43m    \u001b[49m\u001b[43mis_text\u001b[49m\u001b[38;5;241;43m=\u001b[39;49m\u001b[43mis_text\u001b[49m\u001b[43m,\u001b[49m\n\u001b[0;32m   1887\u001b[0m \u001b[43m    \u001b[49m\u001b[43merrors\u001b[49m\u001b[38;5;241;43m=\u001b[39;49m\u001b[38;5;28;43mself\u001b[39;49m\u001b[38;5;241;43m.\u001b[39;49m\u001b[43moptions\u001b[49m\u001b[38;5;241;43m.\u001b[39;49m\u001b[43mget\u001b[49m\u001b[43m(\u001b[49m\u001b[38;5;124;43m\"\u001b[39;49m\u001b[38;5;124;43mencoding_errors\u001b[39;49m\u001b[38;5;124;43m\"\u001b[39;49m\u001b[43m,\u001b[49m\u001b[43m \u001b[49m\u001b[38;5;124;43m\"\u001b[39;49m\u001b[38;5;124;43mstrict\u001b[39;49m\u001b[38;5;124;43m\"\u001b[39;49m\u001b[43m)\u001b[49m\u001b[43m,\u001b[49m\n\u001b[0;32m   1888\u001b[0m \u001b[43m    \u001b[49m\u001b[43mstorage_options\u001b[49m\u001b[38;5;241;43m=\u001b[39;49m\u001b[38;5;28;43mself\u001b[39;49m\u001b[38;5;241;43m.\u001b[39;49m\u001b[43moptions\u001b[49m\u001b[38;5;241;43m.\u001b[39;49m\u001b[43mget\u001b[49m\u001b[43m(\u001b[49m\u001b[38;5;124;43m\"\u001b[39;49m\u001b[38;5;124;43mstorage_options\u001b[39;49m\u001b[38;5;124;43m\"\u001b[39;49m\u001b[43m,\u001b[49m\u001b[43m \u001b[49m\u001b[38;5;28;43;01mNone\u001b[39;49;00m\u001b[43m)\u001b[49m\u001b[43m,\u001b[49m\n\u001b[0;32m   1889\u001b[0m \u001b[43m\u001b[49m\u001b[43m)\u001b[49m\n\u001b[0;32m   1890\u001b[0m \u001b[38;5;28;01massert\u001b[39;00m \u001b[38;5;28mself\u001b[39m\u001b[38;5;241m.\u001b[39mhandles \u001b[38;5;129;01mis\u001b[39;00m \u001b[38;5;129;01mnot\u001b[39;00m \u001b[38;5;28;01mNone\u001b[39;00m\n\u001b[0;32m   1891\u001b[0m f \u001b[38;5;241m=\u001b[39m \u001b[38;5;28mself\u001b[39m\u001b[38;5;241m.\u001b[39mhandles\u001b[38;5;241m.\u001b[39mhandle\n",
      "File \u001b[1;32m~\\AppData\\Roaming\\Python\\Python311\\site-packages\\pandas\\io\\common.py:873\u001b[0m, in \u001b[0;36mget_handle\u001b[1;34m(path_or_buf, mode, encoding, compression, memory_map, is_text, errors, storage_options)\u001b[0m\n\u001b[0;32m    868\u001b[0m \u001b[38;5;28;01melif\u001b[39;00m \u001b[38;5;28misinstance\u001b[39m(handle, \u001b[38;5;28mstr\u001b[39m):\n\u001b[0;32m    869\u001b[0m     \u001b[38;5;66;03m# Check whether the filename is to be opened in binary mode.\u001b[39;00m\n\u001b[0;32m    870\u001b[0m     \u001b[38;5;66;03m# Binary mode does not support 'encoding' and 'newline'.\u001b[39;00m\n\u001b[0;32m    871\u001b[0m     \u001b[38;5;28;01mif\u001b[39;00m ioargs\u001b[38;5;241m.\u001b[39mencoding \u001b[38;5;129;01mand\u001b[39;00m \u001b[38;5;124m\"\u001b[39m\u001b[38;5;124mb\u001b[39m\u001b[38;5;124m\"\u001b[39m \u001b[38;5;129;01mnot\u001b[39;00m \u001b[38;5;129;01min\u001b[39;00m ioargs\u001b[38;5;241m.\u001b[39mmode:\n\u001b[0;32m    872\u001b[0m         \u001b[38;5;66;03m# Encoding\u001b[39;00m\n\u001b[1;32m--> 873\u001b[0m         handle \u001b[38;5;241m=\u001b[39m \u001b[38;5;28;43mopen\u001b[39;49m\u001b[43m(\u001b[49m\n\u001b[0;32m    874\u001b[0m \u001b[43m            \u001b[49m\u001b[43mhandle\u001b[49m\u001b[43m,\u001b[49m\n\u001b[0;32m    875\u001b[0m \u001b[43m            \u001b[49m\u001b[43mioargs\u001b[49m\u001b[38;5;241;43m.\u001b[39;49m\u001b[43mmode\u001b[49m\u001b[43m,\u001b[49m\n\u001b[0;32m    876\u001b[0m \u001b[43m            \u001b[49m\u001b[43mencoding\u001b[49m\u001b[38;5;241;43m=\u001b[39;49m\u001b[43mioargs\u001b[49m\u001b[38;5;241;43m.\u001b[39;49m\u001b[43mencoding\u001b[49m\u001b[43m,\u001b[49m\n\u001b[0;32m    877\u001b[0m \u001b[43m            \u001b[49m\u001b[43merrors\u001b[49m\u001b[38;5;241;43m=\u001b[39;49m\u001b[43merrors\u001b[49m\u001b[43m,\u001b[49m\n\u001b[0;32m    878\u001b[0m \u001b[43m            \u001b[49m\u001b[43mnewline\u001b[49m\u001b[38;5;241;43m=\u001b[39;49m\u001b[38;5;124;43m\"\u001b[39;49m\u001b[38;5;124;43m\"\u001b[39;49m\u001b[43m,\u001b[49m\n\u001b[0;32m    879\u001b[0m \u001b[43m        \u001b[49m\u001b[43m)\u001b[49m\n\u001b[0;32m    880\u001b[0m     \u001b[38;5;28;01melse\u001b[39;00m:\n\u001b[0;32m    881\u001b[0m         \u001b[38;5;66;03m# Binary mode\u001b[39;00m\n\u001b[0;32m    882\u001b[0m         handle \u001b[38;5;241m=\u001b[39m \u001b[38;5;28mopen\u001b[39m(handle, ioargs\u001b[38;5;241m.\u001b[39mmode)\n",
      "\u001b[1;31mFileNotFoundError\u001b[0m: [Errno 2] No such file or directory: 'data/24tv_channel_2024_11_11.csv'"
     ]
    }
   ],
   "source": [
    "%%time\n",
    "data = pd.read_csv(\"data/24tv_channel_2024_11_11.csv\")\n",
    "data.shape\n"
   ]
  },
  {
   "cell_type": "code",
   "execution_count": 4,
   "id": "d110af63-6cf7-470e-a3e2-04f22be59b60",
   "metadata": {},
   "outputs": [
    {
     "data": {
      "text/plain": [
       "362230"
      ]
     },
     "execution_count": 4,
     "metadata": {},
     "output_type": "execute_result"
    }
   ],
   "source": [
    "data.profile.nunique()"
   ]
  },
  {
   "cell_type": "code",
   "execution_count": 5,
   "id": "14ae808c-b42f-49cb-b262-d5b6ef8e306e",
   "metadata": {},
   "outputs": [
    {
     "data": {
      "text/plain": [
       "374502"
      ]
     },
     "execution_count": 5,
     "metadata": {},
     "output_type": "execute_result"
    }
   ],
   "source": [
    "data.user.nunique()"
   ]
  },
  {
   "cell_type": "code",
   "execution_count": 6,
   "id": "980c5d10-06e3-4cfd-b490-0df3878ad527",
   "metadata": {},
   "outputs": [
    {
     "data": {
      "text/plain": [
       "is_guest\n",
       "0                  8079224\n",
       "1                  2325663\n",
       "0                    24802\n",
       "1                     7965\n",
       "Nullable(UInt8)          1\n",
       "Name: count, dtype: int64"
      ]
     },
     "execution_count": 6,
     "metadata": {},
     "output_type": "execute_result"
    }
   ],
   "source": [
    "data.is_guest.value_counts()"
   ]
  },
  {
   "cell_type": "code",
   "execution_count": 18,
   "id": "92701dd2-fa88-4f05-8ad1-f97d6c055455",
   "metadata": {},
   "outputs": [
    {
     "data": {
      "text/plain": [
       "Index(['id', 'uuid', 'external_stat_id', 'user', 'profile', 'device',\n",
       "       'device_type', 'channel', 'schedule', 'history', 'timestamp',\n",
       "       'duration', 'streamer', 'stream_type', 'client_ip', 'provider',\n",
       "       'is_guest', 'user_state', 'application_type', 'is_live', 'started_at',\n",
       "       'ended_at', 'preview', 'session_id', 'access_token', 'app_version',\n",
       "       'cause', 'content', 'top_parent'],\n",
       "      dtype='object')"
      ]
     },
     "execution_count": 18,
     "metadata": {},
     "output_type": "execute_result"
    }
   ],
   "source": [
    "data.columns"
   ]
  },
  {
   "cell_type": "code",
   "execution_count": 9,
   "id": "bb26c05d-6db6-4a48-ba7a-531d0760c664",
   "metadata": {
    "scrolled": true
   },
   "outputs": [
    {
     "data": {
      "text/plain": [
       "19685"
      ]
     },
     "execution_count": 9,
     "metadata": {},
     "output_type": "execute_result"
    }
   ],
   "source": [
    "list(data.duration).count('0')\n"
   ]
  },
  {
   "cell_type": "code",
   "execution_count": 20,
   "id": "150e4fd4-6c12-4fb2-ad24-731a17276afa",
   "metadata": {},
   "outputs": [
    {
     "data": {
      "text/plain": [
       "0     UInt32\n",
       "1          0\n",
       "2          0\n",
       "3          0\n",
       "4          0\n",
       "5          0\n",
       "6          0\n",
       "7          0\n",
       "8          0\n",
       "9          0\n",
       "10         0\n",
       "11         0\n",
       "12         0\n",
       "13         0\n",
       "14         0\n",
       "15         0\n",
       "16         0\n",
       "17         0\n",
       "18         0\n",
       "19       217\n",
       "20         0\n",
       "21       117\n",
       "22         0\n",
       "23         0\n",
       "24        21\n",
       "25         0\n",
       "26       113\n",
       "27         0\n",
       "28         0\n",
       "29         0\n",
       "30       706\n",
       "31         0\n",
       "32         0\n",
       "33         0\n",
       "34        30\n",
       "35         0\n",
       "36        37\n",
       "37         0\n",
       "38     86597\n",
       "39         0\n",
       "40         0\n",
       "41         0\n",
       "42        92\n",
       "43         0\n",
       "44        14\n",
       "45         0\n",
       "46         0\n",
       "47        37\n",
       "48         0\n",
       "49       191\n",
       "Name: duration, dtype: object"
      ]
     },
     "execution_count": 20,
     "metadata": {},
     "output_type": "execute_result"
    }
   ],
   "source": [
    "data.duration.head(50)"
   ]
  },
  {
   "cell_type": "code",
   "execution_count": 23,
   "id": "be87afae-04f5-4c59-82ce-8a2b1ae5523b",
   "metadata": {},
   "outputs": [
    {
     "data": {
      "text/plain": [
       "id                                       1057300220916611289\n",
       "uuid                    223f70ed-783a-45d1-9ddc-151776eefaf5\n",
       "external_stat_id                                          \\N\n",
       "user                                                10748167\n",
       "profile                 690fb585-2144-4553-a579-fbdd2eb59f70\n",
       "device                  f30bfce8-01f4-40e1-91c2-1e97513c1800\n",
       "device_type                                              stb\n",
       "channel                                                 3946\n",
       "schedule                                    0039461731345900\n",
       "history                                                   \\N\n",
       "timestamp                                                  0\n",
       "duration                                                   0\n",
       "streamer                                                  36\n",
       "stream_type                                           config\n",
       "client_ip                                    212.113.114.113\n",
       "provider                                                   2\n",
       "is_guest                                                   1\n",
       "user_state                                             guest\n",
       "application_type                                  android-tv\n",
       "is_live                                                    1\n",
       "started_at                               2024-11-11 20:58:56\n",
       "ended_at                                 2024-11-11 20:58:56\n",
       "preview                                                    1\n",
       "session_id              223f70ed-783a-45d1-9ddc-151776eefaf5\n",
       "access_token        6d14e1656df6760dffb84cc8bf1aa277bb4f6df4\n",
       "app_version                                             3562\n",
       "cause                                                     \\N\n",
       "content                                  1056180190248229160\n",
       "top_parent                                925165178208766737\n",
       "Name: 39, dtype: object"
      ]
     },
     "execution_count": 23,
     "metadata": {},
     "output_type": "execute_result"
    }
   ],
   "source": [
    "data.iloc[39, :]"
   ]
  },
  {
   "cell_type": "code",
   "execution_count": 3,
   "id": "b43b18f3-8a8a-4ad7-a35c-b51895b58aca",
   "metadata": {},
   "outputs": [
    {
     "name": "stdout",
     "output_type": "stream",
     "text": [
      "1569.0\n"
     ]
    }
   ],
   "source": [
    "from datetime import datetime\n",
    "\n",
    "def time_difference(datetime_str1, datetime_str2):\n",
    "    # Преобразуем строки в объекты datetime\n",
    "    dt1 = datetime.strptime(datetime_str1, '%Y-%m-%d %H:%M:%S')\n",
    "    dt2 = datetime.strptime(datetime_str2, '%Y-%m-%d %H:%M:%S')\n",
    "    \n",
    "    # Вычисляем разницу во времени\n",
    "    difference = abs((dt2 - dt1).total_seconds())\n",
    "    \n",
    "    return difference\n",
    "\n",
    "# Пример использования\n",
    "datetime1 = '2024-11-11 19:33:51'\n",
    "datetime2 = '2024-11-11 20:00:00'\n",
    "print(time_difference(datetime1, datetime2))  # Вывод: 1569.0\n"
   ]
  },
  {
   "cell_type": "code",
   "execution_count": 4,
   "id": "bdc85545-d86d-4ae5-8a0c-a57c92284f9b",
   "metadata": {},
   "outputs": [],
   "source": [
    "dats = data[ data['started_at'] != data['ended_at']]"
   ]
  },
  {
   "cell_type": "code",
   "execution_count": 12,
   "id": "9fb37939-fdb9-40a6-b7c5-d92a956ceb14",
   "metadata": {},
   "outputs": [
    {
     "data": {
      "text/plain": [
       "232555"
      ]
     },
     "execution_count": 12,
     "metadata": {},
     "output_type": "execute_result"
    }
   ],
   "source": [
    "dats.profile.nunique()"
   ]
  },
  {
   "cell_type": "code",
   "execution_count": 7,
   "id": "9f856fb3-05ab-4f0f-b947-bceb4d93a6cc",
   "metadata": {},
   "outputs": [
    {
     "data": {
      "text/html": [
       "<div>\n",
       "<style scoped>\n",
       "    .dataframe tbody tr th:only-of-type {\n",
       "        vertical-align: middle;\n",
       "    }\n",
       "\n",
       "    .dataframe tbody tr th {\n",
       "        vertical-align: top;\n",
       "    }\n",
       "\n",
       "    .dataframe thead th {\n",
       "        text-align: right;\n",
       "    }\n",
       "</style>\n",
       "<table border=\"1\" class=\"dataframe\">\n",
       "  <thead>\n",
       "    <tr style=\"text-align: right;\">\n",
       "      <th></th>\n",
       "      <th>id</th>\n",
       "      <th>uuid</th>\n",
       "      <th>external_stat_id</th>\n",
       "      <th>user</th>\n",
       "      <th>profile</th>\n",
       "      <th>device</th>\n",
       "      <th>device_type</th>\n",
       "      <th>channel</th>\n",
       "      <th>schedule</th>\n",
       "      <th>history</th>\n",
       "      <th>...</th>\n",
       "      <th>is_live</th>\n",
       "      <th>started_at</th>\n",
       "      <th>ended_at</th>\n",
       "      <th>preview</th>\n",
       "      <th>session_id</th>\n",
       "      <th>access_token</th>\n",
       "      <th>app_version</th>\n",
       "      <th>cause</th>\n",
       "      <th>content</th>\n",
       "      <th>top_parent</th>\n",
       "    </tr>\n",
       "  </thead>\n",
       "  <tbody>\n",
       "    <tr>\n",
       "      <th>0</th>\n",
       "      <td>UInt64</td>\n",
       "      <td>Nullable(UUID)</td>\n",
       "      <td>Nullable(UUID)</td>\n",
       "      <td>UInt64</td>\n",
       "      <td>Nullable(FixedString(36))</td>\n",
       "      <td>Nullable(FixedString(36))</td>\n",
       "      <td>Nullable(String)</td>\n",
       "      <td>UInt32</td>\n",
       "      <td>Nullable(FixedString(32))</td>\n",
       "      <td>Nullable(UInt64)</td>\n",
       "      <td>...</td>\n",
       "      <td>Nullable(UInt8)</td>\n",
       "      <td>DateTime</td>\n",
       "      <td>Nullable(DateTime)</td>\n",
       "      <td>Nullable(UInt8)</td>\n",
       "      <td>Nullable(UUID)</td>\n",
       "      <td>Nullable(String)</td>\n",
       "      <td>Nullable(UInt32)</td>\n",
       "      <td>Nullable(String)</td>\n",
       "      <td>Nullable(UInt64)</td>\n",
       "      <td>Nullable(UInt64)</td>\n",
       "    </tr>\n",
       "    <tr>\n",
       "      <th>5</th>\n",
       "      <td>1057300220071140962</td>\n",
       "      <td>fb38bb95-d0b5-4e75-b516-12550b8927ee</td>\n",
       "      <td>\\N</td>\n",
       "      <td>18159553</td>\n",
       "      <td>9ec826f2-6f15-4b3c-8bce-b9475370ff3f</td>\n",
       "      <td>a72e7af9-4ba8-402e-9958-45bc4c4506d0</td>\n",
       "      <td>stb</td>\n",
       "      <td>3572</td>\n",
       "      <td>0035721731348000</td>\n",
       "      <td>1057300601860866919</td>\n",
       "      <td>...</td>\n",
       "      <td>1</td>\n",
       "      <td>2024-11-11 21:00:29</td>\n",
       "      <td>2024-11-11 21:00:43</td>\n",
       "      <td>0</td>\n",
       "      <td>fb38bb95-d0b5-4e75-b516-12550b8927ee</td>\n",
       "      <td>04752dd5cf844177deb6b7522d5c4740ea0235d5</td>\n",
       "      <td>3626</td>\n",
       "      <td>switch</td>\n",
       "      <td>1056179973006797522</td>\n",
       "      <td>546310946419639028</td>\n",
       "    </tr>\n",
       "    <tr>\n",
       "      <th>19</th>\n",
       "      <td>1057300220486501819</td>\n",
       "      <td>cf42f37d-a9b1-4b04-88fd-1f6dee6d0e6e</td>\n",
       "      <td>\\N</td>\n",
       "      <td>12588293</td>\n",
       "      <td>20bfa900-b2d9-4d5a-ba19-004c8a75b750</td>\n",
       "      <td>d08a306c-fc5e-48d4-beb0-7423bc35cbfd</td>\n",
       "      <td>stb</td>\n",
       "      <td>228</td>\n",
       "      <td>0002281731348000</td>\n",
       "      <td>1057300457480348641</td>\n",
       "      <td>...</td>\n",
       "      <td>1</td>\n",
       "      <td>2024-11-11 21:02:55</td>\n",
       "      <td>2024-11-11 21:08:23</td>\n",
       "      <td>0</td>\n",
       "      <td>cf42f37d-a9b1-4b04-88fd-1f6dee6d0e6e</td>\n",
       "      <td>5f4e3c200ffdcfada3caa46a252abbe35d9c1511</td>\n",
       "      <td>3626</td>\n",
       "      <td>switch</td>\n",
       "      <td>764028576874067336</td>\n",
       "      <td>1013522749525350272</td>\n",
       "    </tr>\n",
       "    <tr>\n",
       "      <th>21</th>\n",
       "      <td>1057300220516557250</td>\n",
       "      <td>814b4686-2106-4a65-a6ec-86c29e2315e5</td>\n",
       "      <td>\\N</td>\n",
       "      <td>16969810</td>\n",
       "      <td>494fef0a-b759-422b-b0be-58bfb4acd7e4</td>\n",
       "      <td>51af3570-62dc-46a1-b620-c7b8e2c2fc60</td>\n",
       "      <td>phone</td>\n",
       "      <td>49</td>\n",
       "      <td>0000491731346800</td>\n",
       "      <td>1057300918383682787</td>\n",
       "      <td>...</td>\n",
       "      <td>1</td>\n",
       "      <td>2024-11-11 20:58:56</td>\n",
       "      <td>2024-11-11 21:03:05</td>\n",
       "      <td>0</td>\n",
       "      <td>814b4686-2106-4a65-a6ec-86c29e2315e5</td>\n",
       "      <td>1a7c7f87adfd3677e04e961a0703f58644b308f3</td>\n",
       "      <td>\\N</td>\n",
       "      <td>\\N</td>\n",
       "      <td>546313275189494771</td>\n",
       "      <td>\\N</td>\n",
       "    </tr>\n",
       "    <tr>\n",
       "      <th>24</th>\n",
       "      <td>1057300220532719674</td>\n",
       "      <td>1b586896-4a25-42b4-8712-543bd2d8bbf6</td>\n",
       "      <td>\\N</td>\n",
       "      <td>13476238</td>\n",
       "      <td>54a2be20-b55a-44c4-b748-05be736593a1</td>\n",
       "      <td>aefba572-5e1e-4cd9-b182-c4be315c7f9d</td>\n",
       "      <td>tv</td>\n",
       "      <td>149</td>\n",
       "      <td>0001491731687600</td>\n",
       "      <td>1057299500847387475</td>\n",
       "      <td>...</td>\n",
       "      <td>0</td>\n",
       "      <td>2024-11-11 20:58:24</td>\n",
       "      <td>2024-11-11 20:58:56</td>\n",
       "      <td>0</td>\n",
       "      <td>964c99c2-2b5d-4baf-9633-3eae47b0cdd4</td>\n",
       "      <td>90eefa8af65d9182c0f42c6579bd4e86c27106b9</td>\n",
       "      <td>324514</td>\n",
       "      <td>switch</td>\n",
       "      <td>791219009014729866</td>\n",
       "      <td>\\N</td>\n",
       "    </tr>\n",
       "  </tbody>\n",
       "</table>\n",
       "<p>5 rows × 29 columns</p>\n",
       "</div>"
      ],
      "text/plain": [
       "                     id                                  uuid  \\\n",
       "0                UInt64                        Nullable(UUID)   \n",
       "5   1057300220071140962  fb38bb95-d0b5-4e75-b516-12550b8927ee   \n",
       "19  1057300220486501819  cf42f37d-a9b1-4b04-88fd-1f6dee6d0e6e   \n",
       "21  1057300220516557250  814b4686-2106-4a65-a6ec-86c29e2315e5   \n",
       "24  1057300220532719674  1b586896-4a25-42b4-8712-543bd2d8bbf6   \n",
       "\n",
       "   external_stat_id      user                               profile  \\\n",
       "0    Nullable(UUID)    UInt64             Nullable(FixedString(36))   \n",
       "5                \\N  18159553  9ec826f2-6f15-4b3c-8bce-b9475370ff3f   \n",
       "19               \\N  12588293  20bfa900-b2d9-4d5a-ba19-004c8a75b750   \n",
       "21               \\N  16969810  494fef0a-b759-422b-b0be-58bfb4acd7e4   \n",
       "24               \\N  13476238  54a2be20-b55a-44c4-b748-05be736593a1   \n",
       "\n",
       "                                  device       device_type channel  \\\n",
       "0              Nullable(FixedString(36))  Nullable(String)  UInt32   \n",
       "5   a72e7af9-4ba8-402e-9958-45bc4c4506d0               stb    3572   \n",
       "19  d08a306c-fc5e-48d4-beb0-7423bc35cbfd               stb     228   \n",
       "21  51af3570-62dc-46a1-b620-c7b8e2c2fc60             phone      49   \n",
       "24  aefba572-5e1e-4cd9-b182-c4be315c7f9d                tv     149   \n",
       "\n",
       "                     schedule              history  ...          is_live  \\\n",
       "0   Nullable(FixedString(32))     Nullable(UInt64)  ...  Nullable(UInt8)   \n",
       "5            0035721731348000  1057300601860866919  ...                1   \n",
       "19           0002281731348000  1057300457480348641  ...                1   \n",
       "21           0000491731346800  1057300918383682787  ...                1   \n",
       "24           0001491731687600  1057299500847387475  ...                0   \n",
       "\n",
       "             started_at             ended_at          preview  \\\n",
       "0              DateTime   Nullable(DateTime)  Nullable(UInt8)   \n",
       "5   2024-11-11 21:00:29  2024-11-11 21:00:43                0   \n",
       "19  2024-11-11 21:02:55  2024-11-11 21:08:23                0   \n",
       "21  2024-11-11 20:58:56  2024-11-11 21:03:05                0   \n",
       "24  2024-11-11 20:58:24  2024-11-11 20:58:56                0   \n",
       "\n",
       "                              session_id  \\\n",
       "0                         Nullable(UUID)   \n",
       "5   fb38bb95-d0b5-4e75-b516-12550b8927ee   \n",
       "19  cf42f37d-a9b1-4b04-88fd-1f6dee6d0e6e   \n",
       "21  814b4686-2106-4a65-a6ec-86c29e2315e5   \n",
       "24  964c99c2-2b5d-4baf-9633-3eae47b0cdd4   \n",
       "\n",
       "                                access_token       app_version  \\\n",
       "0                           Nullable(String)  Nullable(UInt32)   \n",
       "5   04752dd5cf844177deb6b7522d5c4740ea0235d5              3626   \n",
       "19  5f4e3c200ffdcfada3caa46a252abbe35d9c1511              3626   \n",
       "21  1a7c7f87adfd3677e04e961a0703f58644b308f3                \\N   \n",
       "24  90eefa8af65d9182c0f42c6579bd4e86c27106b9            324514   \n",
       "\n",
       "               cause              content           top_parent  \n",
       "0   Nullable(String)     Nullable(UInt64)     Nullable(UInt64)  \n",
       "5             switch  1056179973006797522   546310946419639028  \n",
       "19            switch   764028576874067336  1013522749525350272  \n",
       "21                \\N   546313275189494771                   \\N  \n",
       "24            switch   791219009014729866                   \\N  \n",
       "\n",
       "[5 rows x 29 columns]"
      ]
     },
     "execution_count": 7,
     "metadata": {},
     "output_type": "execute_result"
    }
   ],
   "source": [
    "dats.head()"
   ]
  },
  {
   "cell_type": "code",
   "execution_count": 5,
   "id": "d525da17-768b-4c31-b152-76346a1d05fe",
   "metadata": {},
   "outputs": [],
   "source": [
    "def time_difference_row(row):\n",
    "    return time_difference(row['ended_at'], row['started_at'])"
   ]
  },
  {
   "cell_type": "code",
   "execution_count": 7,
   "id": "b42171ab-2fc2-4580-b085-b137d4e929af",
   "metadata": {},
   "outputs": [],
   "source": [
    "dats = dats.drop(index = 0)"
   ]
  },
  {
   "cell_type": "code",
   "execution_count": 29,
   "id": "8e5efedd-76e9-4277-b7bf-8dcb9cb91f56",
   "metadata": {},
   "outputs": [],
   "source": [
    "data  = data.iloc[:1000000, :]"
   ]
  },
  {
   "cell_type": "code",
   "execution_count": 31,
   "id": "ad621666-9519-4909-b7e6-031e3e5984d7",
   "metadata": {},
   "outputs": [
    {
     "data": {
      "text/plain": [
       "(1000000, 29)"
      ]
     },
     "execution_count": 31,
     "metadata": {},
     "output_type": "execute_result"
    }
   ],
   "source": [
    "data.shape"
   ]
  },
  {
   "cell_type": "code",
   "execution_count": 8,
   "id": "173e6e02-67cf-441e-9da5-f9092eb5a1f1",
   "metadata": {},
   "outputs": [],
   "source": [
    "dats['time_diff'] = dats.apply(time_difference_row, axis=1)\n"
   ]
  },
  {
   "cell_type": "code",
   "execution_count": 10,
   "id": "5616a2eb-a2b3-4aef-ac8b-1b9b1729ab1c",
   "metadata": {},
   "outputs": [
    {
     "data": {
      "text/plain": [
       "(5010311, 30)"
      ]
     },
     "execution_count": 10,
     "metadata": {},
     "output_type": "execute_result"
    }
   ],
   "source": [
    "dats.shape"
   ]
  },
  {
   "cell_type": "raw",
   "id": "983d5197-5744-4e97-a3ca-367e629f9ade",
   "metadata": {},
   "source": [
    "%%time\n",
    "a =[]\n",
    "for i in range(1, data.shape[0]):\n",
    "    a.append( time_difference(data.ended_at[i], data.started_at[i]))"
   ]
  },
  {
   "cell_type": "code",
   "execution_count": 28,
   "id": "0168fec8-1160-4dfa-8e06-138b2db20bc6",
   "metadata": {},
   "outputs": [
    {
     "data": {
      "text/plain": [
       "7221"
      ]
     },
     "execution_count": 28,
     "metadata": {},
     "output_type": "execute_result"
    }
   ],
   "source": [
    "a.count(0)"
   ]
  },
  {
   "cell_type": "code",
   "execution_count": 75,
   "id": "e99fe8d9-f383-4723-b1c4-70eaf2f70d4c",
   "metadata": {},
   "outputs": [
    {
     "data": {
      "text/plain": [
       "0         UInt32\n",
       "1              0\n",
       "2              0\n",
       "3              0\n",
       "4              0\n",
       "          ...   \n",
       "9996           0\n",
       "9997           0\n",
       "9998     1372271\n",
       "9999           0\n",
       "10000          0\n",
       "Name: video, Length: 10001, dtype: object"
      ]
     },
     "execution_count": 75,
     "metadata": {},
     "output_type": "execute_result"
    }
   ],
   "source": [
    "data.video"
   ]
  },
  {
   "cell_type": "code",
   "execution_count": 59,
   "id": "be86c90e-debd-4891-a90e-6404995be72c",
   "metadata": {},
   "outputs": [
    {
     "data": {
      "text/plain": [
       "Index(['id', 'uuid', 'external_stat_id', 'user', 'profile', 'device',\n",
       "       'device_type', 'channel', 'schedule', 'history', 'timestamp',\n",
       "       'duration', 'streamer', 'stream_type', 'client_ip', 'provider',\n",
       "       'is_guest', 'user_state', 'application_type', 'is_live', 'started_at',\n",
       "       'ended_at', 'preview', 'session_id', 'access_token', 'app_version',\n",
       "       'cause', 'content', 'top_parent'],\n",
       "      dtype='object')"
      ]
     },
     "execution_count": 59,
     "metadata": {},
     "output_type": "execute_result"
    }
   ],
   "source": [
    "data.columns"
   ]
  },
  {
   "cell_type": "code",
   "execution_count": 4,
   "id": "786dc51b-18e2-41cc-a7d2-a8d233604ef9",
   "metadata": {},
   "outputs": [
    {
     "data": {
      "text/html": [
       "<div>\n",
       "<style scoped>\n",
       "    .dataframe tbody tr th:only-of-type {\n",
       "        vertical-align: middle;\n",
       "    }\n",
       "\n",
       "    .dataframe tbody tr th {\n",
       "        vertical-align: top;\n",
       "    }\n",
       "\n",
       "    .dataframe thead th {\n",
       "        text-align: right;\n",
       "    }\n",
       "</style>\n",
       "<table border=\"1\" class=\"dataframe\">\n",
       "  <thead>\n",
       "    <tr style=\"text-align: right;\">\n",
       "      <th></th>\n",
       "      <th>profile</th>\n",
       "      <th>content_id</th>\n",
       "      <th>top_parent_id</th>\n",
       "      <th>seconds</th>\n",
       "      <th>viewed_at</th>\n",
       "      <th>duration</th>\n",
       "      <th>video_id</th>\n",
       "      <th>episode_id</th>\n",
       "      <th>program_id</th>\n",
       "      <th>object_id</th>\n",
       "      <th>content_type_id</th>\n",
       "      <th>percent_view</th>\n",
       "      <th>expired_at</th>\n",
       "      <th>user</th>\n",
       "    </tr>\n",
       "  </thead>\n",
       "  <tbody>\n",
       "    <tr>\n",
       "      <th>0</th>\n",
       "      <td>724d5ce2-0599-46e3-b1ad-0cd41e0cfd99</td>\n",
       "      <td>689642421974512523</td>\n",
       "      <td>546316123402928564</td>\n",
       "      <td>1614</td>\n",
       "      <td>2024-08-26 12:22:52</td>\n",
       "      <td>NaN</td>\n",
       "      <td>0</td>\n",
       "      <td>0</td>\n",
       "      <td>0</td>\n",
       "      <td>2.171720e+12</td>\n",
       "      <td>20</td>\n",
       "      <td>0</td>\n",
       "      <td>NaN</td>\n",
       "      <td>NaN</td>\n",
       "    </tr>\n",
       "    <tr>\n",
       "      <th>1</th>\n",
       "      <td>46095f79-20cd-4e61-86df-18efaf70badf</td>\n",
       "      <td>746615188702666611</td>\n",
       "      <td>654994236770384070</td>\n",
       "      <td>1235</td>\n",
       "      <td>2024-07-07 12:50:35</td>\n",
       "      <td>NaN</td>\n",
       "      <td>0</td>\n",
       "      <td>0</td>\n",
       "      <td>0</td>\n",
       "      <td>3.769172e+13</td>\n",
       "      <td>20</td>\n",
       "      <td>0</td>\n",
       "      <td>NaN</td>\n",
       "      <td>NaN</td>\n",
       "    </tr>\n",
       "    <tr>\n",
       "      <th>2</th>\n",
       "      <td>c1cce0b3-e344-4980-bc4b-82960d11f05e</td>\n",
       "      <td>546327070486037003</td>\n",
       "      <td>0</td>\n",
       "      <td>590</td>\n",
       "      <td>2024-08-31 10:09:50</td>\n",
       "      <td>NaN</td>\n",
       "      <td>0</td>\n",
       "      <td>0</td>\n",
       "      <td>0</td>\n",
       "      <td>7.172025e+10</td>\n",
       "      <td>20</td>\n",
       "      <td>0</td>\n",
       "      <td>NaN</td>\n",
       "      <td>NaN</td>\n",
       "    </tr>\n",
       "    <tr>\n",
       "      <th>3</th>\n",
       "      <td>f85d3865-2999-4b82-86f9-0e52ad1d7ea9</td>\n",
       "      <td>546311973344641608</td>\n",
       "      <td>562690200531108268</td>\n",
       "      <td>1952</td>\n",
       "      <td>2024-07-08 16:25:02</td>\n",
       "      <td>NaN</td>\n",
       "      <td>0</td>\n",
       "      <td>0</td>\n",
       "      <td>0</td>\n",
       "      <td>1.011517e+14</td>\n",
       "      <td>20</td>\n",
       "      <td>0</td>\n",
       "      <td>NaN</td>\n",
       "      <td>NaN</td>\n",
       "    </tr>\n",
       "    <tr>\n",
       "      <th>4</th>\n",
       "      <td>617ac18b-ddcb-4076-9bc5-5da844472962</td>\n",
       "      <td>558372338278596996</td>\n",
       "      <td>726674929764327360</td>\n",
       "      <td>6460</td>\n",
       "      <td>2024-07-10 23:17:37</td>\n",
       "      <td>NaN</td>\n",
       "      <td>0</td>\n",
       "      <td>0</td>\n",
       "      <td>0</td>\n",
       "      <td>1.011517e+14</td>\n",
       "      <td>20</td>\n",
       "      <td>0</td>\n",
       "      <td>NaN</td>\n",
       "      <td>NaN</td>\n",
       "    </tr>\n",
       "    <tr>\n",
       "      <th>...</th>\n",
       "      <td>...</td>\n",
       "      <td>...</td>\n",
       "      <td>...</td>\n",
       "      <td>...</td>\n",
       "      <td>...</td>\n",
       "      <td>...</td>\n",
       "      <td>...</td>\n",
       "      <td>...</td>\n",
       "      <td>...</td>\n",
       "      <td>...</td>\n",
       "      <td>...</td>\n",
       "      <td>...</td>\n",
       "      <td>...</td>\n",
       "      <td>...</td>\n",
       "    </tr>\n",
       "    <tr>\n",
       "      <th>1995</th>\n",
       "      <td>02a3dd82-5d84-4692-aee5-c0b0a1656668</td>\n",
       "      <td>1009112971570859916</td>\n",
       "      <td>546325163948376325</td>\n",
       "      <td>3590</td>\n",
       "      <td>2024-07-13 11:03:38</td>\n",
       "      <td>NaN</td>\n",
       "      <td>0</td>\n",
       "      <td>0</td>\n",
       "      <td>0</td>\n",
       "      <td>8.172025e+10</td>\n",
       "      <td>20</td>\n",
       "      <td>0</td>\n",
       "      <td>NaN</td>\n",
       "      <td>NaN</td>\n",
       "    </tr>\n",
       "    <tr>\n",
       "      <th>1996</th>\n",
       "      <td>8f1f6c9d-e6fc-438d-aa5e-eb86aded63a5</td>\n",
       "      <td>562690202083001302</td>\n",
       "      <td>562690200531108268</td>\n",
       "      <td>3096</td>\n",
       "      <td>2024-07-08 03:14:46</td>\n",
       "      <td>NaN</td>\n",
       "      <td>0</td>\n",
       "      <td>0</td>\n",
       "      <td>0</td>\n",
       "      <td>1.011517e+14</td>\n",
       "      <td>20</td>\n",
       "      <td>0</td>\n",
       "      <td>NaN</td>\n",
       "      <td>NaN</td>\n",
       "    </tr>\n",
       "    <tr>\n",
       "      <th>1997</th>\n",
       "      <td>07b6eef7-eb95-48a3-b2ff-e195e9700723</td>\n",
       "      <td>581457819828486821</td>\n",
       "      <td>575374350320927100</td>\n",
       "      <td>3495</td>\n",
       "      <td>2024-07-15 17:02:41</td>\n",
       "      <td>NaN</td>\n",
       "      <td>0</td>\n",
       "      <td>0</td>\n",
       "      <td>0</td>\n",
       "      <td>2.811720e+12</td>\n",
       "      <td>20</td>\n",
       "      <td>0</td>\n",
       "      <td>NaN</td>\n",
       "      <td>NaN</td>\n",
       "    </tr>\n",
       "    <tr>\n",
       "      <th>1998</th>\n",
       "      <td>4d1c2466-b2d5-4e67-b002-9570337ce3a9</td>\n",
       "      <td>560146620746826604</td>\n",
       "      <td>546310935006937179</td>\n",
       "      <td>3571</td>\n",
       "      <td>2024-07-10 17:13:46</td>\n",
       "      <td>NaN</td>\n",
       "      <td>0</td>\n",
       "      <td>0</td>\n",
       "      <td>0</td>\n",
       "      <td>3.579172e+13</td>\n",
       "      <td>20</td>\n",
       "      <td>0</td>\n",
       "      <td>NaN</td>\n",
       "      <td>NaN</td>\n",
       "    </tr>\n",
       "    <tr>\n",
       "      <th>1999</th>\n",
       "      <td>b2377e3b-eaba-4675-8deb-51973f09c4ab</td>\n",
       "      <td>754044827466918364</td>\n",
       "      <td>0</td>\n",
       "      <td>733</td>\n",
       "      <td>2024-08-02 14:12:32</td>\n",
       "      <td>NaN</td>\n",
       "      <td>0</td>\n",
       "      <td>0</td>\n",
       "      <td>0</td>\n",
       "      <td>5.513172e+13</td>\n",
       "      <td>20</td>\n",
       "      <td>0</td>\n",
       "      <td>NaN</td>\n",
       "      <td>NaN</td>\n",
       "    </tr>\n",
       "  </tbody>\n",
       "</table>\n",
       "<p>2000 rows × 14 columns</p>\n",
       "</div>"
      ],
      "text/plain": [
       "                                   profile           content_id  \\\n",
       "0     724d5ce2-0599-46e3-b1ad-0cd41e0cfd99   689642421974512523   \n",
       "1     46095f79-20cd-4e61-86df-18efaf70badf   746615188702666611   \n",
       "2     c1cce0b3-e344-4980-bc4b-82960d11f05e   546327070486037003   \n",
       "3     f85d3865-2999-4b82-86f9-0e52ad1d7ea9   546311973344641608   \n",
       "4     617ac18b-ddcb-4076-9bc5-5da844472962   558372338278596996   \n",
       "...                                    ...                  ...   \n",
       "1995  02a3dd82-5d84-4692-aee5-c0b0a1656668  1009112971570859916   \n",
       "1996  8f1f6c9d-e6fc-438d-aa5e-eb86aded63a5   562690202083001302   \n",
       "1997  07b6eef7-eb95-48a3-b2ff-e195e9700723   581457819828486821   \n",
       "1998  4d1c2466-b2d5-4e67-b002-9570337ce3a9   560146620746826604   \n",
       "1999  b2377e3b-eaba-4675-8deb-51973f09c4ab   754044827466918364   \n",
       "\n",
       "           top_parent_id  seconds            viewed_at  duration  video_id  \\\n",
       "0     546316123402928564     1614  2024-08-26 12:22:52       NaN         0   \n",
       "1     654994236770384070     1235  2024-07-07 12:50:35       NaN         0   \n",
       "2                      0      590  2024-08-31 10:09:50       NaN         0   \n",
       "3     562690200531108268     1952  2024-07-08 16:25:02       NaN         0   \n",
       "4     726674929764327360     6460  2024-07-10 23:17:37       NaN         0   \n",
       "...                  ...      ...                  ...       ...       ...   \n",
       "1995  546325163948376325     3590  2024-07-13 11:03:38       NaN         0   \n",
       "1996  562690200531108268     3096  2024-07-08 03:14:46       NaN         0   \n",
       "1997  575374350320927100     3495  2024-07-15 17:02:41       NaN         0   \n",
       "1998  546310935006937179     3571  2024-07-10 17:13:46       NaN         0   \n",
       "1999                   0      733  2024-08-02 14:12:32       NaN         0   \n",
       "\n",
       "      episode_id  program_id     object_id  content_type_id  percent_view  \\\n",
       "0              0           0  2.171720e+12               20             0   \n",
       "1              0           0  3.769172e+13               20             0   \n",
       "2              0           0  7.172025e+10               20             0   \n",
       "3              0           0  1.011517e+14               20             0   \n",
       "4              0           0  1.011517e+14               20             0   \n",
       "...          ...         ...           ...              ...           ...   \n",
       "1995           0           0  8.172025e+10               20             0   \n",
       "1996           0           0  1.011517e+14               20             0   \n",
       "1997           0           0  2.811720e+12               20             0   \n",
       "1998           0           0  3.579172e+13               20             0   \n",
       "1999           0           0  5.513172e+13               20             0   \n",
       "\n",
       "     expired_at  user  \n",
       "0           NaN   NaN  \n",
       "1           NaN   NaN  \n",
       "2           NaN   NaN  \n",
       "3           NaN   NaN  \n",
       "4           NaN   NaN  \n",
       "...         ...   ...  \n",
       "1995        NaN   NaN  \n",
       "1996        NaN   NaN  \n",
       "1997        NaN   NaN  \n",
       "1998        NaN   NaN  \n",
       "1999        NaN   NaN  \n",
       "\n",
       "[2000 rows x 14 columns]"
      ]
     },
     "execution_count": 4,
     "metadata": {},
     "output_type": "execute_result"
    }
   ],
   "source": [
    "da = pd.read_csv(\"data/history.csv\", sep='|')\n",
    "da\n"
   ]
  },
  {
   "cell_type": "code",
   "execution_count": 35,
   "id": "f2c161fb-251a-4c1d-aa8a-ca4d9c3dd74b",
   "metadata": {},
   "outputs": [
    {
     "data": {
      "text/plain": [
       "array([0], dtype=int64)"
      ]
     },
     "execution_count": 35,
     "metadata": {},
     "output_type": "execute_result"
    }
   ],
   "source": [
    "da.percent_view.unique()"
   ]
  },
  {
   "cell_type": "code",
   "execution_count": 45,
   "id": "1f80eabc-808b-4a0b-a816-4b6ce7a450f1",
   "metadata": {},
   "outputs": [
    {
     "data": {
      "text/plain": [
       "(473434, 30)"
      ]
     },
     "execution_count": 45,
     "metadata": {},
     "output_type": "execute_result"
    }
   ],
   "source": [
    "data.shape"
   ]
  },
  {
   "cell_type": "code",
   "execution_count": 44,
   "id": "ff8c2598-4181-4f07-81fd-3cb759082111",
   "metadata": {},
   "outputs": [],
   "source": [
    "data = data.drop_duplicates()"
   ]
  },
  {
   "cell_type": "code",
   "execution_count": 39,
   "id": "15ddc303-ae5b-4cf4-bdd1-8268ecefeeff",
   "metadata": {},
   "outputs": [],
   "source": [
    "data = data[data['time_diff'] !=0.0]\n"
   ]
  },
  {
   "cell_type": "code",
   "execution_count": 52,
   "id": "e1685a02-e335-40c4-82b1-fd7f51218ea2",
   "metadata": {},
   "outputs": [
    {
     "data": {
      "text/plain": [
       "(473434,)"
      ]
     },
     "execution_count": 52,
     "metadata": {},
     "output_type": "execute_result"
    }
   ],
   "source": [
    "data.time_diff.shape"
   ]
  },
  {
   "cell_type": "code",
   "execution_count": 187,
   "id": "95cc97cf-cfbb-4c41-bf93-f4bbde4eb8a4",
   "metadata": {},
   "outputs": [
    {
     "data": {
      "text/plain": [
       "(5010311, 30)"
      ]
     },
     "execution_count": 187,
     "metadata": {},
     "output_type": "execute_result"
    }
   ],
   "source": [
    "dats.shape"
   ]
  },
  {
   "cell_type": "code",
   "execution_count": 9,
   "id": "7a785ff8-8f41-4dce-a6bb-7a37b0682202",
   "metadata": {},
   "outputs": [],
   "source": [
    "row_indices = pd.factorize(dats['profile'])[0]\n",
    "col_indices = pd.factorize(dats['content'])[0]\n",
    "\n",
    "# Создаем CSR-матрицу\n",
    "csr_result = csr_matrix((dats['time_diff'], (row_indices, col_indices)), \n",
    "                         shape=(len(dats['profile'].unique()), len(dats['content'].unique())))"
   ]
  },
  {
   "cell_type": "code",
   "execution_count": 191,
   "id": "32b7e709-ebf4-429e-8e21-9d5ee7cbcaec",
   "metadata": {},
   "outputs": [],
   "source": [
    "dic = dats.iloc[row_indices, :]['profile']"
   ]
  },
  {
   "cell_type": "code",
   "execution_count": 196,
   "id": "f247734b-07ff-4378-9105-ea92527e123b",
   "metadata": {},
   "outputs": [
    {
     "data": {
      "text/plain": [
       "'138a3a5e-ab48-489c-94e5-90f164043224'"
      ]
     },
     "execution_count": 196,
     "metadata": {},
     "output_type": "execute_result"
    }
   ],
   "source": [
    "dic.iloc[1486]"
   ]
  },
  {
   "cell_type": "code",
   "execution_count": 195,
   "id": "f108dc0d-4c76-4d6e-aa79-476299701bb4",
   "metadata": {},
   "outputs": [
    {
     "data": {
      "text/plain": [
       "5         9ec826f2-6f15-4b3c-8bce-b9475370ff3f\n",
       "19        20bfa900-b2d9-4d5a-ba19-004c8a75b750\n",
       "21        494fef0a-b759-422b-b0be-58bfb4acd7e4\n",
       "24        54a2be20-b55a-44c4-b748-05be736593a1\n",
       "26        aabcbced-1e77-4372-86ce-e14841bba37a\n",
       "                          ...                 \n",
       "25785     cff9f87c-64d4-4105-a1e4-279df2e1fa3d\n",
       "65772     0e7d2889-492a-4eeb-b844-738c04f100b0\n",
       "85528     3f670131-9806-40cc-8f74-2f6777beafec\n",
       "85280     3b705524-82a6-4af6-b5e5-2f648b019120\n",
       "122723    afcaa5fa-8902-41be-a56b-68249a20d1b1\n",
       "Name: profile, Length: 5010311, dtype: object"
      ]
     },
     "execution_count": 195,
     "metadata": {},
     "output_type": "execute_result"
    }
   ],
   "source": []
  },
  {
   "cell_type": "code",
   "execution_count": 17,
   "id": "0fdc0a61-0c1c-4a89-85ae-5974c4f6ec25",
   "metadata": {},
   "outputs": [
    {
     "data": {
      "text/plain": [
       "<232554x31916 sparse matrix of type '<class 'numpy.float64'>'\n",
       "\twith 2513965 stored elements in Compressed Sparse Row format>"
      ]
     },
     "execution_count": 17,
     "metadata": {},
     "output_type": "execute_result"
    }
   ],
   "source": [
    "csr_result"
   ]
  },
  {
   "cell_type": "code",
   "execution_count": 48,
   "id": "6e703c47-f08c-44f0-b41d-6896aef6ef44",
   "metadata": {},
   "outputs": [
    {
     "data": {
      "text/html": [
       "<div>\n",
       "<style scoped>\n",
       "    .dataframe tbody tr th:only-of-type {\n",
       "        vertical-align: middle;\n",
       "    }\n",
       "\n",
       "    .dataframe tbody tr th {\n",
       "        vertical-align: top;\n",
       "    }\n",
       "\n",
       "    .dataframe thead th {\n",
       "        text-align: right;\n",
       "    }\n",
       "</style>\n",
       "<table border=\"1\" class=\"dataframe\">\n",
       "  <thead>\n",
       "    <tr style=\"text-align: right;\">\n",
       "      <th></th>\n",
       "      <th></th>\n",
       "      <th></th>\n",
       "      <th></th>\n",
       "      <th>id</th>\n",
       "      <th>uuid</th>\n",
       "      <th>external_stat_id</th>\n",
       "      <th>user</th>\n",
       "      <th>device</th>\n",
       "      <th>device_type</th>\n",
       "      <th>channel</th>\n",
       "      <th>schedule</th>\n",
       "      <th>history</th>\n",
       "      <th>timestamp</th>\n",
       "      <th>...</th>\n",
       "      <th>application_type</th>\n",
       "      <th>is_live</th>\n",
       "      <th>started_at</th>\n",
       "      <th>ended_at</th>\n",
       "      <th>preview</th>\n",
       "      <th>session_id</th>\n",
       "      <th>access_token</th>\n",
       "      <th>app_version</th>\n",
       "      <th>cause</th>\n",
       "      <th>top_parent</th>\n",
       "    </tr>\n",
       "    <tr>\n",
       "      <th></th>\n",
       "      <th>profile</th>\n",
       "      <th>content</th>\n",
       "      <th>time_diff</th>\n",
       "      <th></th>\n",
       "      <th></th>\n",
       "      <th></th>\n",
       "      <th></th>\n",
       "      <th></th>\n",
       "      <th></th>\n",
       "      <th></th>\n",
       "      <th></th>\n",
       "      <th></th>\n",
       "      <th></th>\n",
       "      <th></th>\n",
       "      <th></th>\n",
       "      <th></th>\n",
       "      <th></th>\n",
       "      <th></th>\n",
       "      <th></th>\n",
       "      <th></th>\n",
       "      <th></th>\n",
       "      <th></th>\n",
       "      <th></th>\n",
       "      <th></th>\n",
       "    </tr>\n",
       "  </thead>\n",
       "  <tbody>\n",
       "    <tr>\n",
       "      <th>5</th>\n",
       "      <th>9ec826f2-6f15-4b3c-8bce-b9475370ff3f</th>\n",
       "      <th>1056179973006797522</th>\n",
       "      <th>14.0</th>\n",
       "      <td>1057300220071140962</td>\n",
       "      <td>fb38bb95-d0b5-4e75-b516-12550b8927ee</td>\n",
       "      <td>\\N</td>\n",
       "      <td>18159553</td>\n",
       "      <td>a72e7af9-4ba8-402e-9958-45bc4c4506d0</td>\n",
       "      <td>stb</td>\n",
       "      <td>3572</td>\n",
       "      <td>0035721731348000</td>\n",
       "      <td>1057300601860866919</td>\n",
       "      <td>0</td>\n",
       "      <td>...</td>\n",
       "      <td>android-tv</td>\n",
       "      <td>1</td>\n",
       "      <td>2024-11-11 21:00:29</td>\n",
       "      <td>2024-11-11 21:00:43</td>\n",
       "      <td>0</td>\n",
       "      <td>fb38bb95-d0b5-4e75-b516-12550b8927ee</td>\n",
       "      <td>04752dd5cf844177deb6b7522d5c4740ea0235d5</td>\n",
       "      <td>3626</td>\n",
       "      <td>switch</td>\n",
       "      <td>546310946419639028</td>\n",
       "    </tr>\n",
       "    <tr>\n",
       "      <th>19</th>\n",
       "      <th>20bfa900-b2d9-4d5a-ba19-004c8a75b750</th>\n",
       "      <th>764028576874067336</th>\n",
       "      <th>328.0</th>\n",
       "      <td>1057300220486501819</td>\n",
       "      <td>cf42f37d-a9b1-4b04-88fd-1f6dee6d0e6e</td>\n",
       "      <td>\\N</td>\n",
       "      <td>12588293</td>\n",
       "      <td>d08a306c-fc5e-48d4-beb0-7423bc35cbfd</td>\n",
       "      <td>stb</td>\n",
       "      <td>228</td>\n",
       "      <td>0002281731348000</td>\n",
       "      <td>1057300457480348641</td>\n",
       "      <td>0</td>\n",
       "      <td>...</td>\n",
       "      <td>android-tv</td>\n",
       "      <td>1</td>\n",
       "      <td>2024-11-11 21:02:55</td>\n",
       "      <td>2024-11-11 21:08:23</td>\n",
       "      <td>0</td>\n",
       "      <td>cf42f37d-a9b1-4b04-88fd-1f6dee6d0e6e</td>\n",
       "      <td>5f4e3c200ffdcfada3caa46a252abbe35d9c1511</td>\n",
       "      <td>3626</td>\n",
       "      <td>switch</td>\n",
       "      <td>1013522749525350272</td>\n",
       "    </tr>\n",
       "    <tr>\n",
       "      <th>21</th>\n",
       "      <th>494fef0a-b759-422b-b0be-58bfb4acd7e4</th>\n",
       "      <th>546313275189494771</th>\n",
       "      <th>249.0</th>\n",
       "      <td>1057300220516557250</td>\n",
       "      <td>814b4686-2106-4a65-a6ec-86c29e2315e5</td>\n",
       "      <td>\\N</td>\n",
       "      <td>16969810</td>\n",
       "      <td>51af3570-62dc-46a1-b620-c7b8e2c2fc60</td>\n",
       "      <td>phone</td>\n",
       "      <td>49</td>\n",
       "      <td>0000491731346800</td>\n",
       "      <td>1057300918383682787</td>\n",
       "      <td>0</td>\n",
       "      <td>...</td>\n",
       "      <td>android-mobile</td>\n",
       "      <td>1</td>\n",
       "      <td>2024-11-11 20:58:56</td>\n",
       "      <td>2024-11-11 21:03:05</td>\n",
       "      <td>0</td>\n",
       "      <td>814b4686-2106-4a65-a6ec-86c29e2315e5</td>\n",
       "      <td>1a7c7f87adfd3677e04e961a0703f58644b308f3</td>\n",
       "      <td>\\N</td>\n",
       "      <td>\\N</td>\n",
       "      <td>\\N</td>\n",
       "    </tr>\n",
       "    <tr>\n",
       "      <th>24</th>\n",
       "      <th>54a2be20-b55a-44c4-b748-05be736593a1</th>\n",
       "      <th>791219009014729866</th>\n",
       "      <th>32.0</th>\n",
       "      <td>1057300220532719674</td>\n",
       "      <td>1b586896-4a25-42b4-8712-543bd2d8bbf6</td>\n",
       "      <td>\\N</td>\n",
       "      <td>13476238</td>\n",
       "      <td>aefba572-5e1e-4cd9-b182-c4be315c7f9d</td>\n",
       "      <td>tv</td>\n",
       "      <td>149</td>\n",
       "      <td>0001491731687600</td>\n",
       "      <td>1057299500847387475</td>\n",
       "      <td>1731687600</td>\n",
       "      <td>...</td>\n",
       "      <td>webkit</td>\n",
       "      <td>0</td>\n",
       "      <td>2024-11-11 20:58:24</td>\n",
       "      <td>2024-11-11 20:58:56</td>\n",
       "      <td>0</td>\n",
       "      <td>964c99c2-2b5d-4baf-9633-3eae47b0cdd4</td>\n",
       "      <td>90eefa8af65d9182c0f42c6579bd4e86c27106b9</td>\n",
       "      <td>324514</td>\n",
       "      <td>switch</td>\n",
       "      <td>\\N</td>\n",
       "    </tr>\n",
       "    <tr>\n",
       "      <th>26</th>\n",
       "      <th>aabcbced-1e77-4372-86ce-e14841bba37a</th>\n",
       "      <th>1056189497323061859</th>\n",
       "      <th>153.0</th>\n",
       "      <td>1057300220587773853</td>\n",
       "      <td>efb8d28f-0e13-4233-b19f-da9b9d3e69d0</td>\n",
       "      <td>\\N</td>\n",
       "      <td>11952324</td>\n",
       "      <td>f23c963f-1538-4c36-aab0-02ee79275ff3</td>\n",
       "      <td>stb</td>\n",
       "      <td>4833</td>\n",
       "      <td>0048331731346800</td>\n",
       "      <td>1057300570463967671</td>\n",
       "      <td>0</td>\n",
       "      <td>...</td>\n",
       "      <td>android-tv</td>\n",
       "      <td>1</td>\n",
       "      <td>2024-11-11 20:58:56</td>\n",
       "      <td>2024-11-11 21:01:29</td>\n",
       "      <td>0</td>\n",
       "      <td>efb8d28f-0e13-4233-b19f-da9b9d3e69d0</td>\n",
       "      <td>86aa194e4a653dde912310fb5e2044c8f6543591</td>\n",
       "      <td>3626</td>\n",
       "      <td>\\N</td>\n",
       "      <td>546309885382361316</td>\n",
       "    </tr>\n",
       "    <tr>\n",
       "      <th>...</th>\n",
       "      <th>...</th>\n",
       "      <th>...</th>\n",
       "      <th>...</th>\n",
       "      <td>...</td>\n",
       "      <td>...</td>\n",
       "      <td>...</td>\n",
       "      <td>...</td>\n",
       "      <td>...</td>\n",
       "      <td>...</td>\n",
       "      <td>...</td>\n",
       "      <td>...</td>\n",
       "      <td>...</td>\n",
       "      <td>...</td>\n",
       "      <td>...</td>\n",
       "      <td>...</td>\n",
       "      <td>...</td>\n",
       "      <td>...</td>\n",
       "      <td>...</td>\n",
       "      <td>...</td>\n",
       "      <td>...</td>\n",
       "      <td>...</td>\n",
       "      <td>...</td>\n",
       "      <td>...</td>\n",
       "      <td>...</td>\n",
       "    </tr>\n",
       "    <tr>\n",
       "      <th>999995</th>\n",
       "      <th>dd8b06bf-230e-421f-9a84-d7dcf77a0d88</th>\n",
       "      <th>1056795893175426952</th>\n",
       "      <th>210.0</th>\n",
       "      <td>1057022950765559371</td>\n",
       "      <td>f033cfd0-e91e-4428-9f45-c99186483d68</td>\n",
       "      <td>\\N</td>\n",
       "      <td>14245328</td>\n",
       "      <td>cf15a180-ccb7-4145-99ca-c62262d9f328</td>\n",
       "      <td>stb</td>\n",
       "      <td>163</td>\n",
       "      <td>0001631731288900</td>\n",
       "      <td>1057023125260951213</td>\n",
       "      <td>0</td>\n",
       "      <td>...</td>\n",
       "      <td>android-tv</td>\n",
       "      <td>1</td>\n",
       "      <td>2024-11-11 04:35:11</td>\n",
       "      <td>2024-11-11 04:38:41</td>\n",
       "      <td>0</td>\n",
       "      <td>f033cfd0-e91e-4428-9f45-c99186483d68</td>\n",
       "      <td>f6dabe11a63c4ba221669b91cbde9fcd20d05e4c</td>\n",
       "      <td>3619</td>\n",
       "      <td>switch</td>\n",
       "      <td>\\N</td>\n",
       "    </tr>\n",
       "    <tr>\n",
       "      <th>999996</th>\n",
       "      <th>5fd84fe1-432e-4650-8004-005234f2f84b</th>\n",
       "      <th>\\N</th>\n",
       "      <th>31.0</th>\n",
       "      <td>1057022950797333068</td>\n",
       "      <td>ba6aa69a-c882-407a-914c-33500a7f821e</td>\n",
       "      <td>\\N</td>\n",
       "      <td>216316</td>\n",
       "      <td>7f148fcb-213a-4912-8624-87372a134dc3</td>\n",
       "      <td>tv</td>\n",
       "      <td>115</td>\n",
       "      <td>\\N</td>\n",
       "      <td>\\N</td>\n",
       "      <td>1731897600</td>\n",
       "      <td>...</td>\n",
       "      <td>webkit</td>\n",
       "      <td>0</td>\n",
       "      <td>2024-11-11 02:10:12</td>\n",
       "      <td>2024-11-11 02:10:43</td>\n",
       "      <td>0</td>\n",
       "      <td>f9f5aeb8-c0a0-4a65-8422-472a13b33962</td>\n",
       "      <td>abddd28e0d864164f3a94ecafc82b5c16d1be0f9</td>\n",
       "      <td>324514</td>\n",
       "      <td>null_schedule</td>\n",
       "      <td>546332049783390964</td>\n",
       "    </tr>\n",
       "    <tr>\n",
       "      <th>999998</th>\n",
       "      <th>53a5c747-7d84-4fea-a56d-e171a6bb11e1</th>\n",
       "      <th>\\N</th>\n",
       "      <th>30.0</th>\n",
       "      <td>1057022950994326653</td>\n",
       "      <td>b3ad21ac-98f6-41d7-832a-e594de0e90ee</td>\n",
       "      <td>\\N</td>\n",
       "      <td>873353</td>\n",
       "      <td>d5f83ff8-e0e7-47a3-b841-c6000b4109c1</td>\n",
       "      <td>stb</td>\n",
       "      <td>116</td>\n",
       "      <td>\\N</td>\n",
       "      <td>\\N</td>\n",
       "      <td>1731890400</td>\n",
       "      <td>...</td>\n",
       "      <td>android-tv</td>\n",
       "      <td>0</td>\n",
       "      <td>2024-11-11 02:10:13</td>\n",
       "      <td>2024-11-11 02:10:43</td>\n",
       "      <td>0</td>\n",
       "      <td>82ae744e-de65-4ced-95f3-4896b36fd7ab</td>\n",
       "      <td>c848ca4252c690e7e001d6169ed7db856fb631f9</td>\n",
       "      <td>3619</td>\n",
       "      <td>null_schedule</td>\n",
       "      <td>\\N</td>\n",
       "    </tr>\n",
       "    <tr>\n",
       "      <th>999999</th>\n",
       "      <th>b311a0e6-5013-4304-a051-ee7578b22a66</th>\n",
       "      <th>1056223116016406572</th>\n",
       "      <th>30.0</th>\n",
       "      <td>1057022951217677416</td>\n",
       "      <td>1b30ebec-e9c0-4e40-ab6e-46fda8495e6a</td>\n",
       "      <td>\\N</td>\n",
       "      <td>2177484</td>\n",
       "      <td>c4e499f9-7467-41e6-9190-15bc9e3eb12b</td>\n",
       "      <td>stb</td>\n",
       "      <td>246</td>\n",
       "      <td>0002461731387060</td>\n",
       "      <td>1057005088794435644</td>\n",
       "      <td>1731387060</td>\n",
       "      <td>...</td>\n",
       "      <td>android-tv</td>\n",
       "      <td>0</td>\n",
       "      <td>2024-11-11 02:10:13</td>\n",
       "      <td>2024-11-11 02:10:43</td>\n",
       "      <td>0</td>\n",
       "      <td>07a34c00-92e6-43cb-b7ec-b6891916339d</td>\n",
       "      <td>b499877c1ce8a92daaf802123523e5b7db7605fa</td>\n",
       "      <td>3545</td>\n",
       "      <td>switch</td>\n",
       "      <td>546317075396690316</td>\n",
       "    </tr>\n",
       "    <tr>\n",
       "      <th>1000000</th>\n",
       "      <th>a0525bfd-a5ce-40f9-91b8-a6475055a002</th>\n",
       "      <th>643980295109733720</th>\n",
       "      <th>29.0</th>\n",
       "      <td>1057022951233486200</td>\n",
       "      <td>10f88c43-27c9-4e22-85f1-2df41b4045bb</td>\n",
       "      <td>\\N</td>\n",
       "      <td>347473</td>\n",
       "      <td>e742e1a5-7f31-4dd1-8208-66bfcea6bce4</td>\n",
       "      <td>stb</td>\n",
       "      <td>115</td>\n",
       "      <td>0001151731458400</td>\n",
       "      <td>1056989037378907395</td>\n",
       "      <td>1731458400</td>\n",
       "      <td>...</td>\n",
       "      <td>android-tv</td>\n",
       "      <td>0</td>\n",
       "      <td>2024-11-11 02:10:14</td>\n",
       "      <td>2024-11-11 02:10:43</td>\n",
       "      <td>0</td>\n",
       "      <td>7192766e-f67c-4b52-8c3c-c1143c79a76e</td>\n",
       "      <td>2efb557941fcba5bddd57778a5e8527ae07684d2</td>\n",
       "      <td>2885</td>\n",
       "      <td>switch</td>\n",
       "      <td>546313206562292140</td>\n",
       "    </tr>\n",
       "  </tbody>\n",
       "</table>\n",
       "<p>473434 rows × 27 columns</p>\n",
       "</div>"
      ],
      "text/plain": [
       "                                                                                             id  \\\n",
       "        profile                              content             time_diff                        \n",
       "5       9ec826f2-6f15-4b3c-8bce-b9475370ff3f 1056179973006797522 14.0       1057300220071140962   \n",
       "19      20bfa900-b2d9-4d5a-ba19-004c8a75b750 764028576874067336  328.0      1057300220486501819   \n",
       "21      494fef0a-b759-422b-b0be-58bfb4acd7e4 546313275189494771  249.0      1057300220516557250   \n",
       "24      54a2be20-b55a-44c4-b748-05be736593a1 791219009014729866  32.0       1057300220532719674   \n",
       "26      aabcbced-1e77-4372-86ce-e14841bba37a 1056189497323061859 153.0      1057300220587773853   \n",
       "...                                                                                         ...   \n",
       "999995  dd8b06bf-230e-421f-9a84-d7dcf77a0d88 1056795893175426952 210.0      1057022950765559371   \n",
       "999996  5fd84fe1-432e-4650-8004-005234f2f84b \\N                  31.0       1057022950797333068   \n",
       "999998  53a5c747-7d84-4fea-a56d-e171a6bb11e1 \\N                  30.0       1057022950994326653   \n",
       "999999  b311a0e6-5013-4304-a051-ee7578b22a66 1056223116016406572 30.0       1057022951217677416   \n",
       "1000000 a0525bfd-a5ce-40f9-91b8-a6475055a002 643980295109733720  29.0       1057022951233486200   \n",
       "\n",
       "                                                                                                            uuid  \\\n",
       "        profile                              content             time_diff                                         \n",
       "5       9ec826f2-6f15-4b3c-8bce-b9475370ff3f 1056179973006797522 14.0       fb38bb95-d0b5-4e75-b516-12550b8927ee   \n",
       "19      20bfa900-b2d9-4d5a-ba19-004c8a75b750 764028576874067336  328.0      cf42f37d-a9b1-4b04-88fd-1f6dee6d0e6e   \n",
       "21      494fef0a-b759-422b-b0be-58bfb4acd7e4 546313275189494771  249.0      814b4686-2106-4a65-a6ec-86c29e2315e5   \n",
       "24      54a2be20-b55a-44c4-b748-05be736593a1 791219009014729866  32.0       1b586896-4a25-42b4-8712-543bd2d8bbf6   \n",
       "26      aabcbced-1e77-4372-86ce-e14841bba37a 1056189497323061859 153.0      efb8d28f-0e13-4233-b19f-da9b9d3e69d0   \n",
       "...                                                                                                          ...   \n",
       "999995  dd8b06bf-230e-421f-9a84-d7dcf77a0d88 1056795893175426952 210.0      f033cfd0-e91e-4428-9f45-c99186483d68   \n",
       "999996  5fd84fe1-432e-4650-8004-005234f2f84b \\N                  31.0       ba6aa69a-c882-407a-914c-33500a7f821e   \n",
       "999998  53a5c747-7d84-4fea-a56d-e171a6bb11e1 \\N                  30.0       b3ad21ac-98f6-41d7-832a-e594de0e90ee   \n",
       "999999  b311a0e6-5013-4304-a051-ee7578b22a66 1056223116016406572 30.0       1b30ebec-e9c0-4e40-ab6e-46fda8495e6a   \n",
       "1000000 a0525bfd-a5ce-40f9-91b8-a6475055a002 643980295109733720  29.0       10f88c43-27c9-4e22-85f1-2df41b4045bb   \n",
       "\n",
       "                                                                           external_stat_id  \\\n",
       "        profile                              content             time_diff                    \n",
       "5       9ec826f2-6f15-4b3c-8bce-b9475370ff3f 1056179973006797522 14.0                    \\N   \n",
       "19      20bfa900-b2d9-4d5a-ba19-004c8a75b750 764028576874067336  328.0                   \\N   \n",
       "21      494fef0a-b759-422b-b0be-58bfb4acd7e4 546313275189494771  249.0                   \\N   \n",
       "24      54a2be20-b55a-44c4-b748-05be736593a1 791219009014729866  32.0                    \\N   \n",
       "26      aabcbced-1e77-4372-86ce-e14841bba37a 1056189497323061859 153.0                   \\N   \n",
       "...                                                                                     ...   \n",
       "999995  dd8b06bf-230e-421f-9a84-d7dcf77a0d88 1056795893175426952 210.0                   \\N   \n",
       "999996  5fd84fe1-432e-4650-8004-005234f2f84b \\N                  31.0                    \\N   \n",
       "999998  53a5c747-7d84-4fea-a56d-e171a6bb11e1 \\N                  30.0                    \\N   \n",
       "999999  b311a0e6-5013-4304-a051-ee7578b22a66 1056223116016406572 30.0                    \\N   \n",
       "1000000 a0525bfd-a5ce-40f9-91b8-a6475055a002 643980295109733720  29.0                    \\N   \n",
       "\n",
       "                                                                                user  \\\n",
       "        profile                              content             time_diff             \n",
       "5       9ec826f2-6f15-4b3c-8bce-b9475370ff3f 1056179973006797522 14.0       18159553   \n",
       "19      20bfa900-b2d9-4d5a-ba19-004c8a75b750 764028576874067336  328.0      12588293   \n",
       "21      494fef0a-b759-422b-b0be-58bfb4acd7e4 546313275189494771  249.0      16969810   \n",
       "24      54a2be20-b55a-44c4-b748-05be736593a1 791219009014729866  32.0       13476238   \n",
       "26      aabcbced-1e77-4372-86ce-e14841bba37a 1056189497323061859 153.0      11952324   \n",
       "...                                                                              ...   \n",
       "999995  dd8b06bf-230e-421f-9a84-d7dcf77a0d88 1056795893175426952 210.0      14245328   \n",
       "999996  5fd84fe1-432e-4650-8004-005234f2f84b \\N                  31.0         216316   \n",
       "999998  53a5c747-7d84-4fea-a56d-e171a6bb11e1 \\N                  30.0         873353   \n",
       "999999  b311a0e6-5013-4304-a051-ee7578b22a66 1056223116016406572 30.0        2177484   \n",
       "1000000 a0525bfd-a5ce-40f9-91b8-a6475055a002 643980295109733720  29.0         347473   \n",
       "\n",
       "                                                                                                          device  \\\n",
       "        profile                              content             time_diff                                         \n",
       "5       9ec826f2-6f15-4b3c-8bce-b9475370ff3f 1056179973006797522 14.0       a72e7af9-4ba8-402e-9958-45bc4c4506d0   \n",
       "19      20bfa900-b2d9-4d5a-ba19-004c8a75b750 764028576874067336  328.0      d08a306c-fc5e-48d4-beb0-7423bc35cbfd   \n",
       "21      494fef0a-b759-422b-b0be-58bfb4acd7e4 546313275189494771  249.0      51af3570-62dc-46a1-b620-c7b8e2c2fc60   \n",
       "24      54a2be20-b55a-44c4-b748-05be736593a1 791219009014729866  32.0       aefba572-5e1e-4cd9-b182-c4be315c7f9d   \n",
       "26      aabcbced-1e77-4372-86ce-e14841bba37a 1056189497323061859 153.0      f23c963f-1538-4c36-aab0-02ee79275ff3   \n",
       "...                                                                                                          ...   \n",
       "999995  dd8b06bf-230e-421f-9a84-d7dcf77a0d88 1056795893175426952 210.0      cf15a180-ccb7-4145-99ca-c62262d9f328   \n",
       "999996  5fd84fe1-432e-4650-8004-005234f2f84b \\N                  31.0       7f148fcb-213a-4912-8624-87372a134dc3   \n",
       "999998  53a5c747-7d84-4fea-a56d-e171a6bb11e1 \\N                  30.0       d5f83ff8-e0e7-47a3-b841-c6000b4109c1   \n",
       "999999  b311a0e6-5013-4304-a051-ee7578b22a66 1056223116016406572 30.0       c4e499f9-7467-41e6-9190-15bc9e3eb12b   \n",
       "1000000 a0525bfd-a5ce-40f9-91b8-a6475055a002 643980295109733720  29.0       e742e1a5-7f31-4dd1-8208-66bfcea6bce4   \n",
       "\n",
       "                                                                           device_type  \\\n",
       "        profile                              content             time_diff               \n",
       "5       9ec826f2-6f15-4b3c-8bce-b9475370ff3f 1056179973006797522 14.0              stb   \n",
       "19      20bfa900-b2d9-4d5a-ba19-004c8a75b750 764028576874067336  328.0             stb   \n",
       "21      494fef0a-b759-422b-b0be-58bfb4acd7e4 546313275189494771  249.0           phone   \n",
       "24      54a2be20-b55a-44c4-b748-05be736593a1 791219009014729866  32.0               tv   \n",
       "26      aabcbced-1e77-4372-86ce-e14841bba37a 1056189497323061859 153.0             stb   \n",
       "...                                                                                ...   \n",
       "999995  dd8b06bf-230e-421f-9a84-d7dcf77a0d88 1056795893175426952 210.0             stb   \n",
       "999996  5fd84fe1-432e-4650-8004-005234f2f84b \\N                  31.0               tv   \n",
       "999998  53a5c747-7d84-4fea-a56d-e171a6bb11e1 \\N                  30.0              stb   \n",
       "999999  b311a0e6-5013-4304-a051-ee7578b22a66 1056223116016406572 30.0              stb   \n",
       "1000000 a0525bfd-a5ce-40f9-91b8-a6475055a002 643980295109733720  29.0              stb   \n",
       "\n",
       "                                                                           channel  \\\n",
       "        profile                              content             time_diff           \n",
       "5       9ec826f2-6f15-4b3c-8bce-b9475370ff3f 1056179973006797522 14.0         3572   \n",
       "19      20bfa900-b2d9-4d5a-ba19-004c8a75b750 764028576874067336  328.0         228   \n",
       "21      494fef0a-b759-422b-b0be-58bfb4acd7e4 546313275189494771  249.0          49   \n",
       "24      54a2be20-b55a-44c4-b748-05be736593a1 791219009014729866  32.0          149   \n",
       "26      aabcbced-1e77-4372-86ce-e14841bba37a 1056189497323061859 153.0        4833   \n",
       "...                                                                            ...   \n",
       "999995  dd8b06bf-230e-421f-9a84-d7dcf77a0d88 1056795893175426952 210.0         163   \n",
       "999996  5fd84fe1-432e-4650-8004-005234f2f84b \\N                  31.0          115   \n",
       "999998  53a5c747-7d84-4fea-a56d-e171a6bb11e1 \\N                  30.0          116   \n",
       "999999  b311a0e6-5013-4304-a051-ee7578b22a66 1056223116016406572 30.0          246   \n",
       "1000000 a0525bfd-a5ce-40f9-91b8-a6475055a002 643980295109733720  29.0          115   \n",
       "\n",
       "                                                                                    schedule  \\\n",
       "        profile                              content             time_diff                     \n",
       "5       9ec826f2-6f15-4b3c-8bce-b9475370ff3f 1056179973006797522 14.0       0035721731348000   \n",
       "19      20bfa900-b2d9-4d5a-ba19-004c8a75b750 764028576874067336  328.0      0002281731348000   \n",
       "21      494fef0a-b759-422b-b0be-58bfb4acd7e4 546313275189494771  249.0      0000491731346800   \n",
       "24      54a2be20-b55a-44c4-b748-05be736593a1 791219009014729866  32.0       0001491731687600   \n",
       "26      aabcbced-1e77-4372-86ce-e14841bba37a 1056189497323061859 153.0      0048331731346800   \n",
       "...                                                                                      ...   \n",
       "999995  dd8b06bf-230e-421f-9a84-d7dcf77a0d88 1056795893175426952 210.0      0001631731288900   \n",
       "999996  5fd84fe1-432e-4650-8004-005234f2f84b \\N                  31.0                     \\N   \n",
       "999998  53a5c747-7d84-4fea-a56d-e171a6bb11e1 \\N                  30.0                     \\N   \n",
       "999999  b311a0e6-5013-4304-a051-ee7578b22a66 1056223116016406572 30.0       0002461731387060   \n",
       "1000000 a0525bfd-a5ce-40f9-91b8-a6475055a002 643980295109733720  29.0       0001151731458400   \n",
       "\n",
       "                                                                                        history  \\\n",
       "        profile                              content             time_diff                        \n",
       "5       9ec826f2-6f15-4b3c-8bce-b9475370ff3f 1056179973006797522 14.0       1057300601860866919   \n",
       "19      20bfa900-b2d9-4d5a-ba19-004c8a75b750 764028576874067336  328.0      1057300457480348641   \n",
       "21      494fef0a-b759-422b-b0be-58bfb4acd7e4 546313275189494771  249.0      1057300918383682787   \n",
       "24      54a2be20-b55a-44c4-b748-05be736593a1 791219009014729866  32.0       1057299500847387475   \n",
       "26      aabcbced-1e77-4372-86ce-e14841bba37a 1056189497323061859 153.0      1057300570463967671   \n",
       "...                                                                                         ...   \n",
       "999995  dd8b06bf-230e-421f-9a84-d7dcf77a0d88 1056795893175426952 210.0      1057023125260951213   \n",
       "999996  5fd84fe1-432e-4650-8004-005234f2f84b \\N                  31.0                        \\N   \n",
       "999998  53a5c747-7d84-4fea-a56d-e171a6bb11e1 \\N                  30.0                        \\N   \n",
       "999999  b311a0e6-5013-4304-a051-ee7578b22a66 1056223116016406572 30.0       1057005088794435644   \n",
       "1000000 a0525bfd-a5ce-40f9-91b8-a6475055a002 643980295109733720  29.0       1056989037378907395   \n",
       "\n",
       "                                                                             timestamp  \\\n",
       "        profile                              content             time_diff               \n",
       "5       9ec826f2-6f15-4b3c-8bce-b9475370ff3f 1056179973006797522 14.0                0   \n",
       "19      20bfa900-b2d9-4d5a-ba19-004c8a75b750 764028576874067336  328.0               0   \n",
       "21      494fef0a-b759-422b-b0be-58bfb4acd7e4 546313275189494771  249.0               0   \n",
       "24      54a2be20-b55a-44c4-b748-05be736593a1 791219009014729866  32.0       1731687600   \n",
       "26      aabcbced-1e77-4372-86ce-e14841bba37a 1056189497323061859 153.0               0   \n",
       "...                                                                                ...   \n",
       "999995  dd8b06bf-230e-421f-9a84-d7dcf77a0d88 1056795893175426952 210.0               0   \n",
       "999996  5fd84fe1-432e-4650-8004-005234f2f84b \\N                  31.0       1731897600   \n",
       "999998  53a5c747-7d84-4fea-a56d-e171a6bb11e1 \\N                  30.0       1731890400   \n",
       "999999  b311a0e6-5013-4304-a051-ee7578b22a66 1056223116016406572 30.0       1731387060   \n",
       "1000000 a0525bfd-a5ce-40f9-91b8-a6475055a002 643980295109733720  29.0       1731458400   \n",
       "\n",
       "                                                                            ...  \\\n",
       "        profile                              content             time_diff  ...   \n",
       "5       9ec826f2-6f15-4b3c-8bce-b9475370ff3f 1056179973006797522 14.0       ...   \n",
       "19      20bfa900-b2d9-4d5a-ba19-004c8a75b750 764028576874067336  328.0      ...   \n",
       "21      494fef0a-b759-422b-b0be-58bfb4acd7e4 546313275189494771  249.0      ...   \n",
       "24      54a2be20-b55a-44c4-b748-05be736593a1 791219009014729866  32.0       ...   \n",
       "26      aabcbced-1e77-4372-86ce-e14841bba37a 1056189497323061859 153.0      ...   \n",
       "...                                                                         ...   \n",
       "999995  dd8b06bf-230e-421f-9a84-d7dcf77a0d88 1056795893175426952 210.0      ...   \n",
       "999996  5fd84fe1-432e-4650-8004-005234f2f84b \\N                  31.0       ...   \n",
       "999998  53a5c747-7d84-4fea-a56d-e171a6bb11e1 \\N                  30.0       ...   \n",
       "999999  b311a0e6-5013-4304-a051-ee7578b22a66 1056223116016406572 30.0       ...   \n",
       "1000000 a0525bfd-a5ce-40f9-91b8-a6475055a002 643980295109733720  29.0       ...   \n",
       "\n",
       "                                                                           application_type  \\\n",
       "        profile                              content             time_diff                    \n",
       "5       9ec826f2-6f15-4b3c-8bce-b9475370ff3f 1056179973006797522 14.0            android-tv   \n",
       "19      20bfa900-b2d9-4d5a-ba19-004c8a75b750 764028576874067336  328.0           android-tv   \n",
       "21      494fef0a-b759-422b-b0be-58bfb4acd7e4 546313275189494771  249.0       android-mobile   \n",
       "24      54a2be20-b55a-44c4-b748-05be736593a1 791219009014729866  32.0                webkit   \n",
       "26      aabcbced-1e77-4372-86ce-e14841bba37a 1056189497323061859 153.0           android-tv   \n",
       "...                                                                                     ...   \n",
       "999995  dd8b06bf-230e-421f-9a84-d7dcf77a0d88 1056795893175426952 210.0           android-tv   \n",
       "999996  5fd84fe1-432e-4650-8004-005234f2f84b \\N                  31.0                webkit   \n",
       "999998  53a5c747-7d84-4fea-a56d-e171a6bb11e1 \\N                  30.0            android-tv   \n",
       "999999  b311a0e6-5013-4304-a051-ee7578b22a66 1056223116016406572 30.0            android-tv   \n",
       "1000000 a0525bfd-a5ce-40f9-91b8-a6475055a002 643980295109733720  29.0            android-tv   \n",
       "\n",
       "                                                                           is_live  \\\n",
       "        profile                              content             time_diff           \n",
       "5       9ec826f2-6f15-4b3c-8bce-b9475370ff3f 1056179973006797522 14.0            1   \n",
       "19      20bfa900-b2d9-4d5a-ba19-004c8a75b750 764028576874067336  328.0           1   \n",
       "21      494fef0a-b759-422b-b0be-58bfb4acd7e4 546313275189494771  249.0           1   \n",
       "24      54a2be20-b55a-44c4-b748-05be736593a1 791219009014729866  32.0            0   \n",
       "26      aabcbced-1e77-4372-86ce-e14841bba37a 1056189497323061859 153.0           1   \n",
       "...                                                                            ...   \n",
       "999995  dd8b06bf-230e-421f-9a84-d7dcf77a0d88 1056795893175426952 210.0           1   \n",
       "999996  5fd84fe1-432e-4650-8004-005234f2f84b \\N                  31.0            0   \n",
       "999998  53a5c747-7d84-4fea-a56d-e171a6bb11e1 \\N                  30.0            0   \n",
       "999999  b311a0e6-5013-4304-a051-ee7578b22a66 1056223116016406572 30.0            0   \n",
       "1000000 a0525bfd-a5ce-40f9-91b8-a6475055a002 643980295109733720  29.0            0   \n",
       "\n",
       "                                                                                     started_at  \\\n",
       "        profile                              content             time_diff                        \n",
       "5       9ec826f2-6f15-4b3c-8bce-b9475370ff3f 1056179973006797522 14.0       2024-11-11 21:00:29   \n",
       "19      20bfa900-b2d9-4d5a-ba19-004c8a75b750 764028576874067336  328.0      2024-11-11 21:02:55   \n",
       "21      494fef0a-b759-422b-b0be-58bfb4acd7e4 546313275189494771  249.0      2024-11-11 20:58:56   \n",
       "24      54a2be20-b55a-44c4-b748-05be736593a1 791219009014729866  32.0       2024-11-11 20:58:24   \n",
       "26      aabcbced-1e77-4372-86ce-e14841bba37a 1056189497323061859 153.0      2024-11-11 20:58:56   \n",
       "...                                                                                         ...   \n",
       "999995  dd8b06bf-230e-421f-9a84-d7dcf77a0d88 1056795893175426952 210.0      2024-11-11 04:35:11   \n",
       "999996  5fd84fe1-432e-4650-8004-005234f2f84b \\N                  31.0       2024-11-11 02:10:12   \n",
       "999998  53a5c747-7d84-4fea-a56d-e171a6bb11e1 \\N                  30.0       2024-11-11 02:10:13   \n",
       "999999  b311a0e6-5013-4304-a051-ee7578b22a66 1056223116016406572 30.0       2024-11-11 02:10:13   \n",
       "1000000 a0525bfd-a5ce-40f9-91b8-a6475055a002 643980295109733720  29.0       2024-11-11 02:10:14   \n",
       "\n",
       "                                                                                       ended_at  \\\n",
       "        profile                              content             time_diff                        \n",
       "5       9ec826f2-6f15-4b3c-8bce-b9475370ff3f 1056179973006797522 14.0       2024-11-11 21:00:43   \n",
       "19      20bfa900-b2d9-4d5a-ba19-004c8a75b750 764028576874067336  328.0      2024-11-11 21:08:23   \n",
       "21      494fef0a-b759-422b-b0be-58bfb4acd7e4 546313275189494771  249.0      2024-11-11 21:03:05   \n",
       "24      54a2be20-b55a-44c4-b748-05be736593a1 791219009014729866  32.0       2024-11-11 20:58:56   \n",
       "26      aabcbced-1e77-4372-86ce-e14841bba37a 1056189497323061859 153.0      2024-11-11 21:01:29   \n",
       "...                                                                                         ...   \n",
       "999995  dd8b06bf-230e-421f-9a84-d7dcf77a0d88 1056795893175426952 210.0      2024-11-11 04:38:41   \n",
       "999996  5fd84fe1-432e-4650-8004-005234f2f84b \\N                  31.0       2024-11-11 02:10:43   \n",
       "999998  53a5c747-7d84-4fea-a56d-e171a6bb11e1 \\N                  30.0       2024-11-11 02:10:43   \n",
       "999999  b311a0e6-5013-4304-a051-ee7578b22a66 1056223116016406572 30.0       2024-11-11 02:10:43   \n",
       "1000000 a0525bfd-a5ce-40f9-91b8-a6475055a002 643980295109733720  29.0       2024-11-11 02:10:43   \n",
       "\n",
       "                                                                           preview  \\\n",
       "        profile                              content             time_diff           \n",
       "5       9ec826f2-6f15-4b3c-8bce-b9475370ff3f 1056179973006797522 14.0            0   \n",
       "19      20bfa900-b2d9-4d5a-ba19-004c8a75b750 764028576874067336  328.0           0   \n",
       "21      494fef0a-b759-422b-b0be-58bfb4acd7e4 546313275189494771  249.0           0   \n",
       "24      54a2be20-b55a-44c4-b748-05be736593a1 791219009014729866  32.0            0   \n",
       "26      aabcbced-1e77-4372-86ce-e14841bba37a 1056189497323061859 153.0           0   \n",
       "...                                                                            ...   \n",
       "999995  dd8b06bf-230e-421f-9a84-d7dcf77a0d88 1056795893175426952 210.0           0   \n",
       "999996  5fd84fe1-432e-4650-8004-005234f2f84b \\N                  31.0            0   \n",
       "999998  53a5c747-7d84-4fea-a56d-e171a6bb11e1 \\N                  30.0            0   \n",
       "999999  b311a0e6-5013-4304-a051-ee7578b22a66 1056223116016406572 30.0            0   \n",
       "1000000 a0525bfd-a5ce-40f9-91b8-a6475055a002 643980295109733720  29.0            0   \n",
       "\n",
       "                                                                                                      session_id  \\\n",
       "        profile                              content             time_diff                                         \n",
       "5       9ec826f2-6f15-4b3c-8bce-b9475370ff3f 1056179973006797522 14.0       fb38bb95-d0b5-4e75-b516-12550b8927ee   \n",
       "19      20bfa900-b2d9-4d5a-ba19-004c8a75b750 764028576874067336  328.0      cf42f37d-a9b1-4b04-88fd-1f6dee6d0e6e   \n",
       "21      494fef0a-b759-422b-b0be-58bfb4acd7e4 546313275189494771  249.0      814b4686-2106-4a65-a6ec-86c29e2315e5   \n",
       "24      54a2be20-b55a-44c4-b748-05be736593a1 791219009014729866  32.0       964c99c2-2b5d-4baf-9633-3eae47b0cdd4   \n",
       "26      aabcbced-1e77-4372-86ce-e14841bba37a 1056189497323061859 153.0      efb8d28f-0e13-4233-b19f-da9b9d3e69d0   \n",
       "...                                                                                                          ...   \n",
       "999995  dd8b06bf-230e-421f-9a84-d7dcf77a0d88 1056795893175426952 210.0      f033cfd0-e91e-4428-9f45-c99186483d68   \n",
       "999996  5fd84fe1-432e-4650-8004-005234f2f84b \\N                  31.0       f9f5aeb8-c0a0-4a65-8422-472a13b33962   \n",
       "999998  53a5c747-7d84-4fea-a56d-e171a6bb11e1 \\N                  30.0       82ae744e-de65-4ced-95f3-4896b36fd7ab   \n",
       "999999  b311a0e6-5013-4304-a051-ee7578b22a66 1056223116016406572 30.0       07a34c00-92e6-43cb-b7ec-b6891916339d   \n",
       "1000000 a0525bfd-a5ce-40f9-91b8-a6475055a002 643980295109733720  29.0       7192766e-f67c-4b52-8c3c-c1143c79a76e   \n",
       "\n",
       "                                                                                                        access_token  \\\n",
       "        profile                              content             time_diff                                             \n",
       "5       9ec826f2-6f15-4b3c-8bce-b9475370ff3f 1056179973006797522 14.0       04752dd5cf844177deb6b7522d5c4740ea0235d5   \n",
       "19      20bfa900-b2d9-4d5a-ba19-004c8a75b750 764028576874067336  328.0      5f4e3c200ffdcfada3caa46a252abbe35d9c1511   \n",
       "21      494fef0a-b759-422b-b0be-58bfb4acd7e4 546313275189494771  249.0      1a7c7f87adfd3677e04e961a0703f58644b308f3   \n",
       "24      54a2be20-b55a-44c4-b748-05be736593a1 791219009014729866  32.0       90eefa8af65d9182c0f42c6579bd4e86c27106b9   \n",
       "26      aabcbced-1e77-4372-86ce-e14841bba37a 1056189497323061859 153.0      86aa194e4a653dde912310fb5e2044c8f6543591   \n",
       "...                                                                                                              ...   \n",
       "999995  dd8b06bf-230e-421f-9a84-d7dcf77a0d88 1056795893175426952 210.0      f6dabe11a63c4ba221669b91cbde9fcd20d05e4c   \n",
       "999996  5fd84fe1-432e-4650-8004-005234f2f84b \\N                  31.0       abddd28e0d864164f3a94ecafc82b5c16d1be0f9   \n",
       "999998  53a5c747-7d84-4fea-a56d-e171a6bb11e1 \\N                  30.0       c848ca4252c690e7e001d6169ed7db856fb631f9   \n",
       "999999  b311a0e6-5013-4304-a051-ee7578b22a66 1056223116016406572 30.0       b499877c1ce8a92daaf802123523e5b7db7605fa   \n",
       "1000000 a0525bfd-a5ce-40f9-91b8-a6475055a002 643980295109733720  29.0       2efb557941fcba5bddd57778a5e8527ae07684d2   \n",
       "\n",
       "                                                                           app_version  \\\n",
       "        profile                              content             time_diff               \n",
       "5       9ec826f2-6f15-4b3c-8bce-b9475370ff3f 1056179973006797522 14.0             3626   \n",
       "19      20bfa900-b2d9-4d5a-ba19-004c8a75b750 764028576874067336  328.0            3626   \n",
       "21      494fef0a-b759-422b-b0be-58bfb4acd7e4 546313275189494771  249.0              \\N   \n",
       "24      54a2be20-b55a-44c4-b748-05be736593a1 791219009014729866  32.0           324514   \n",
       "26      aabcbced-1e77-4372-86ce-e14841bba37a 1056189497323061859 153.0            3626   \n",
       "...                                                                                ...   \n",
       "999995  dd8b06bf-230e-421f-9a84-d7dcf77a0d88 1056795893175426952 210.0            3619   \n",
       "999996  5fd84fe1-432e-4650-8004-005234f2f84b \\N                  31.0           324514   \n",
       "999998  53a5c747-7d84-4fea-a56d-e171a6bb11e1 \\N                  30.0             3619   \n",
       "999999  b311a0e6-5013-4304-a051-ee7578b22a66 1056223116016406572 30.0             3545   \n",
       "1000000 a0525bfd-a5ce-40f9-91b8-a6475055a002 643980295109733720  29.0             2885   \n",
       "\n",
       "                                                                                    cause  \\\n",
       "        profile                              content             time_diff                  \n",
       "5       9ec826f2-6f15-4b3c-8bce-b9475370ff3f 1056179973006797522 14.0              switch   \n",
       "19      20bfa900-b2d9-4d5a-ba19-004c8a75b750 764028576874067336  328.0             switch   \n",
       "21      494fef0a-b759-422b-b0be-58bfb4acd7e4 546313275189494771  249.0                 \\N   \n",
       "24      54a2be20-b55a-44c4-b748-05be736593a1 791219009014729866  32.0              switch   \n",
       "26      aabcbced-1e77-4372-86ce-e14841bba37a 1056189497323061859 153.0                 \\N   \n",
       "...                                                                                   ...   \n",
       "999995  dd8b06bf-230e-421f-9a84-d7dcf77a0d88 1056795893175426952 210.0             switch   \n",
       "999996  5fd84fe1-432e-4650-8004-005234f2f84b \\N                  31.0       null_schedule   \n",
       "999998  53a5c747-7d84-4fea-a56d-e171a6bb11e1 \\N                  30.0       null_schedule   \n",
       "999999  b311a0e6-5013-4304-a051-ee7578b22a66 1056223116016406572 30.0              switch   \n",
       "1000000 a0525bfd-a5ce-40f9-91b8-a6475055a002 643980295109733720  29.0              switch   \n",
       "\n",
       "                                                                                     top_parent  \n",
       "        profile                              content             time_diff                       \n",
       "5       9ec826f2-6f15-4b3c-8bce-b9475370ff3f 1056179973006797522 14.0        546310946419639028  \n",
       "19      20bfa900-b2d9-4d5a-ba19-004c8a75b750 764028576874067336  328.0      1013522749525350272  \n",
       "21      494fef0a-b759-422b-b0be-58bfb4acd7e4 546313275189494771  249.0                       \\N  \n",
       "24      54a2be20-b55a-44c4-b748-05be736593a1 791219009014729866  32.0                        \\N  \n",
       "26      aabcbced-1e77-4372-86ce-e14841bba37a 1056189497323061859 153.0       546309885382361316  \n",
       "...                                                                                         ...  \n",
       "999995  dd8b06bf-230e-421f-9a84-d7dcf77a0d88 1056795893175426952 210.0                       \\N  \n",
       "999996  5fd84fe1-432e-4650-8004-005234f2f84b \\N                  31.0        546332049783390964  \n",
       "999998  53a5c747-7d84-4fea-a56d-e171a6bb11e1 \\N                  30.0                        \\N  \n",
       "999999  b311a0e6-5013-4304-a051-ee7578b22a66 1056223116016406572 30.0        546317075396690316  \n",
       "1000000 a0525bfd-a5ce-40f9-91b8-a6475055a002 643980295109733720  29.0        546313206562292140  \n",
       "\n",
       "[473434 rows x 27 columns]"
      ]
     },
     "execution_count": 48,
     "metadata": {},
     "output_type": "execute_result"
    }
   ],
   "source": [
    "data.set_index(['profile', 'content', 'time_diff'], append=True)\n"
   ]
  },
  {
   "cell_type": "code",
   "execution_count": 55,
   "id": "76f63545-156f-4163-bccd-173b9ce09c9f",
   "metadata": {},
   "outputs": [],
   "source": [
    "net = net.T\n",
    "\n"
   ]
  },
  {
   "cell_type": "code",
   "execution_count": 43,
   "id": "7ac9e7ad-6391-4239-9b5e-262f1dbfa2ba",
   "metadata": {},
   "outputs": [
    {
     "data": {
      "text/plain": [
       "0.0016037077723697188"
      ]
     },
     "execution_count": 43,
     "metadata": {},
     "output_type": "execute_result"
    }
   ],
   "source": [
    "2000/(802*1555)"
   ]
  },
  {
   "cell_type": "code",
   "execution_count": 53,
   "id": "d921b8a2-bb9a-4974-9274-6f5da39fb237",
   "metadata": {},
   "outputs": [],
   "source": [
    "data_joined = da.merge(data, on = 'profile')"
   ]
  },
  {
   "cell_type": "code",
   "execution_count": 52,
   "id": "5369763d-11c0-4780-9cf0-52cb52b16e5e",
   "metadata": {},
   "outputs": [
    {
     "data": {
      "text/plain": [
       "id                  object\n",
       "uuid                object\n",
       "external_stat_id    object\n",
       "user                object\n",
       "profile             object\n",
       "device              object\n",
       "device_type         object\n",
       "channel             object\n",
       "schedule            object\n",
       "history             object\n",
       "timestamp           object\n",
       "duration            object\n",
       "streamer            object\n",
       "stream_type         object\n",
       "client_ip           object\n",
       "provider            object\n",
       "is_guest            object\n",
       "user_state          object\n",
       "application_type    object\n",
       "is_live             object\n",
       "started_at          object\n",
       "ended_at            object\n",
       "preview             object\n",
       "session_id          object\n",
       "access_token        object\n",
       "app_version         object\n",
       "cause               object\n",
       "content             object\n",
       "top_parent          object\n",
       "dtype: object"
      ]
     },
     "execution_count": 52,
     "metadata": {},
     "output_type": "execute_result"
    }
   ],
   "source": [
    "data.dtypes\n"
   ]
  },
  {
   "cell_type": "code",
   "execution_count": 55,
   "id": "c41a21a2-a6a7-4ca4-9f4f-f100d2ff3b4f",
   "metadata": {},
   "outputs": [
    {
     "data": {
      "text/html": [
       "<div>\n",
       "<style scoped>\n",
       "    .dataframe tbody tr th:only-of-type {\n",
       "        vertical-align: middle;\n",
       "    }\n",
       "\n",
       "    .dataframe tbody tr th {\n",
       "        vertical-align: top;\n",
       "    }\n",
       "\n",
       "    .dataframe thead th {\n",
       "        text-align: right;\n",
       "    }\n",
       "</style>\n",
       "<table border=\"1\" class=\"dataframe\">\n",
       "  <thead>\n",
       "    <tr style=\"text-align: right;\">\n",
       "      <th></th>\n",
       "      <th>profile</th>\n",
       "      <th>content_id</th>\n",
       "      <th>top_parent_id</th>\n",
       "      <th>seconds</th>\n",
       "      <th>viewed_at</th>\n",
       "      <th>duration_x</th>\n",
       "      <th>video_id</th>\n",
       "      <th>episode_id</th>\n",
       "      <th>program_id</th>\n",
       "      <th>object_id</th>\n",
       "      <th>...</th>\n",
       "      <th>is_live</th>\n",
       "      <th>started_at</th>\n",
       "      <th>ended_at</th>\n",
       "      <th>preview</th>\n",
       "      <th>session_id</th>\n",
       "      <th>access_token</th>\n",
       "      <th>app_version</th>\n",
       "      <th>cause</th>\n",
       "      <th>content</th>\n",
       "      <th>top_parent</th>\n",
       "    </tr>\n",
       "  </thead>\n",
       "  <tbody>\n",
       "    <tr>\n",
       "      <th>0</th>\n",
       "      <td>7703a0ad-9833-4b24-ac34-fd526793ddd8</td>\n",
       "      <td>558370347452203662</td>\n",
       "      <td>546316688543449479</td>\n",
       "      <td>3634</td>\n",
       "      <td>2024-07-06 10:34:10</td>\n",
       "      <td>NaN</td>\n",
       "      <td>0</td>\n",
       "      <td>0</td>\n",
       "      <td>0</td>\n",
       "      <td>2.821720e+12</td>\n",
       "      <td>...</td>\n",
       "      <td>1</td>\n",
       "      <td>2024-11-11 19:34:36</td>\n",
       "      <td>2024-11-11 19:34:36</td>\n",
       "      <td>0</td>\n",
       "      <td>53a19e49-9d1c-4744-8d50-85b59455cf57</td>\n",
       "      <td>783e5f2c28df525840102f58153466e9d2d89707</td>\n",
       "      <td>3626</td>\n",
       "      <td>\\N</td>\n",
       "      <td>572469207506092136</td>\n",
       "      <td>546320148504511064</td>\n",
       "    </tr>\n",
       "    <tr>\n",
       "      <th>1</th>\n",
       "      <td>0f1ee1f8-ab2b-43bf-9edc-e3dcc233d1ff</td>\n",
       "      <td>547488304073801949</td>\n",
       "      <td>547488284595454673</td>\n",
       "      <td>269</td>\n",
       "      <td>2024-07-06 10:34:30</td>\n",
       "      <td>NaN</td>\n",
       "      <td>0</td>\n",
       "      <td>0</td>\n",
       "      <td>0</td>\n",
       "      <td>2.821720e+12</td>\n",
       "      <td>...</td>\n",
       "      <td>1</td>\n",
       "      <td>2024-11-11 19:34:41</td>\n",
       "      <td>2024-11-11 19:34:41</td>\n",
       "      <td>0</td>\n",
       "      <td>ffa91586-0653-4e34-9962-3c8fed4bd44e</td>\n",
       "      <td>01a683c8d55e674c90f28c03185b6f48d42ecd81</td>\n",
       "      <td>3545</td>\n",
       "      <td>\\N</td>\n",
       "      <td>547488060258910692</td>\n",
       "      <td>546316688543449479</td>\n",
       "    </tr>\n",
       "    <tr>\n",
       "      <th>2</th>\n",
       "      <td>2eee53a4-8efc-4b6d-a34c-ea2777957f15</td>\n",
       "      <td>1006635702612305797</td>\n",
       "      <td>986730752877548594</td>\n",
       "      <td>2069</td>\n",
       "      <td>2024-07-06 10:34:30</td>\n",
       "      <td>NaN</td>\n",
       "      <td>0</td>\n",
       "      <td>0</td>\n",
       "      <td>0</td>\n",
       "      <td>8.172025e+10</td>\n",
       "      <td>...</td>\n",
       "      <td>0</td>\n",
       "      <td>2024-11-11 18:52:32</td>\n",
       "      <td>2024-11-11 19:10:31</td>\n",
       "      <td>0</td>\n",
       "      <td>7269f1c9-faf9-45db-a398-391d7439738a</td>\n",
       "      <td>e1e86213599ab8ed25389e53f60962013cd1276d</td>\n",
       "      <td>3619</td>\n",
       "      <td>\\N</td>\n",
       "      <td>1057122840058095053</td>\n",
       "      <td>546311727910748959</td>\n",
       "    </tr>\n",
       "    <tr>\n",
       "      <th>3</th>\n",
       "      <td>b685bba3-2eda-4982-95c5-c181600f227c</td>\n",
       "      <td>546330729785590263</td>\n",
       "      <td>546314524995617441</td>\n",
       "      <td>523</td>\n",
       "      <td>2024-07-06 10:42:55</td>\n",
       "      <td>NaN</td>\n",
       "      <td>0</td>\n",
       "      <td>0</td>\n",
       "      <td>0</td>\n",
       "      <td>2.181720e+12</td>\n",
       "      <td>...</td>\n",
       "      <td>0</td>\n",
       "      <td>2024-11-11 19:34:04</td>\n",
       "      <td>2024-11-11 19:34:04</td>\n",
       "      <td>0</td>\n",
       "      <td>95502cbd-c040-4cfc-9b8b-7ff2d5f046ad</td>\n",
       "      <td>5b893bd20ed964171260a4063f0483c3b1b4de80</td>\n",
       "      <td>3619</td>\n",
       "      <td>\\N</td>\n",
       "      <td>546309805774472070</td>\n",
       "      <td>\\N</td>\n",
       "    </tr>\n",
       "    <tr>\n",
       "      <th>4</th>\n",
       "      <td>a65dd797-ef21-4b24-87c5-3f68b8d28536</td>\n",
       "      <td>546310393270633467</td>\n",
       "      <td>546310015753913209</td>\n",
       "      <td>9453</td>\n",
       "      <td>2024-07-06 10:34:35</td>\n",
       "      <td>NaN</td>\n",
       "      <td>0</td>\n",
       "      <td>0</td>\n",
       "      <td>0</td>\n",
       "      <td>6.172047e+10</td>\n",
       "      <td>...</td>\n",
       "      <td>0</td>\n",
       "      <td>2024-11-11 19:33:35</td>\n",
       "      <td>2024-11-11 19:34:03</td>\n",
       "      <td>0</td>\n",
       "      <td>ca34ff4e-41eb-455d-9ac0-08c2b4aae2bd</td>\n",
       "      <td>cf1071fb71af7827a9fff793300da5e434d0a900</td>\n",
       "      <td>3626</td>\n",
       "      <td>null_schedule</td>\n",
       "      <td>\\N</td>\n",
       "      <td>1053706819639757286</td>\n",
       "    </tr>\n",
       "    <tr>\n",
       "      <th>...</th>\n",
       "      <td>...</td>\n",
       "      <td>...</td>\n",
       "      <td>...</td>\n",
       "      <td>...</td>\n",
       "      <td>...</td>\n",
       "      <td>...</td>\n",
       "      <td>...</td>\n",
       "      <td>...</td>\n",
       "      <td>...</td>\n",
       "      <td>...</td>\n",
       "      <td>...</td>\n",
       "      <td>...</td>\n",
       "      <td>...</td>\n",
       "      <td>...</td>\n",
       "      <td>...</td>\n",
       "      <td>...</td>\n",
       "      <td>...</td>\n",
       "      <td>...</td>\n",
       "      <td>...</td>\n",
       "      <td>...</td>\n",
       "      <td>...</td>\n",
       "    </tr>\n",
       "    <tr>\n",
       "      <th>76</th>\n",
       "      <td>e250787e-e848-4bb2-ac14-afb00d0fec6b</td>\n",
       "      <td>818785867532946269</td>\n",
       "      <td>756600418471587689</td>\n",
       "      <td>454</td>\n",
       "      <td>2024-07-06 10:43:04</td>\n",
       "      <td>NaN</td>\n",
       "      <td>0</td>\n",
       "      <td>0</td>\n",
       "      <td>0</td>\n",
       "      <td>8.000000e+00</td>\n",
       "      <td>...</td>\n",
       "      <td>1</td>\n",
       "      <td>2024-11-11 19:34:32</td>\n",
       "      <td>2024-11-11 20:14:25</td>\n",
       "      <td>0</td>\n",
       "      <td>a61c8b4b-55ac-4a3f-a30c-6fa59b5bde14</td>\n",
       "      <td>c72aa75fd89863c2b17ab0a80d6baeb945045c8d</td>\n",
       "      <td>3619</td>\n",
       "      <td>\\N</td>\n",
       "      <td>1057122865634179579</td>\n",
       "      <td>546319679417746392</td>\n",
       "    </tr>\n",
       "    <tr>\n",
       "      <th>77</th>\n",
       "      <td>82d87d0a-b38b-444f-9b7c-4154691b7783</td>\n",
       "      <td>550023913178923841</td>\n",
       "      <td>575374350320927100</td>\n",
       "      <td>8016</td>\n",
       "      <td>2024-07-06 10:41:13</td>\n",
       "      <td>NaN</td>\n",
       "      <td>0</td>\n",
       "      <td>0</td>\n",
       "      <td>0</td>\n",
       "      <td>2.811721e+12</td>\n",
       "      <td>...</td>\n",
       "      <td>0</td>\n",
       "      <td>2024-11-11 19:27:23</td>\n",
       "      <td>2024-11-11 19:34:01</td>\n",
       "      <td>0</td>\n",
       "      <td>fe4f036b-481d-4074-95b9-52ad200c6f16</td>\n",
       "      <td>626be56c8cc08d22aadc25d01e3c88183cfe0b43</td>\n",
       "      <td>300278</td>\n",
       "      <td>\\N</td>\n",
       "      <td>600951211545330430</td>\n",
       "      <td>600951193119752387</td>\n",
       "    </tr>\n",
       "    <tr>\n",
       "      <th>78</th>\n",
       "      <td>591fd805-3eaa-44e4-8d05-72d94adb3f63</td>\n",
       "      <td>771387794690015717</td>\n",
       "      <td>568574330028426195</td>\n",
       "      <td>7447</td>\n",
       "      <td>2024-07-14 00:40:28</td>\n",
       "      <td>NaN</td>\n",
       "      <td>0</td>\n",
       "      <td>0</td>\n",
       "      <td>0</td>\n",
       "      <td>2.981720e+12</td>\n",
       "      <td>...</td>\n",
       "      <td>0</td>\n",
       "      <td>2024-11-11 18:52:35</td>\n",
       "      <td>2024-11-11 18:52:54</td>\n",
       "      <td>0</td>\n",
       "      <td>9698514c-37c0-4a42-942d-c111c6792562</td>\n",
       "      <td>c1a3da3029e23bb604ee169e8b58d8c46b5674d0</td>\n",
       "      <td>\\N</td>\n",
       "      <td>\\N</td>\n",
       "      <td>608526204835725607</td>\n",
       "      <td>\\N</td>\n",
       "    </tr>\n",
       "    <tr>\n",
       "      <th>79</th>\n",
       "      <td>4008b270-4bcc-48b2-bb76-d736ad2ec547</td>\n",
       "      <td>845894030071435424</td>\n",
       "      <td>546310935006937179</td>\n",
       "      <td>9658</td>\n",
       "      <td>2024-07-06 10:36:21</td>\n",
       "      <td>NaN</td>\n",
       "      <td>0</td>\n",
       "      <td>0</td>\n",
       "      <td>0</td>\n",
       "      <td>6.172051e+10</td>\n",
       "      <td>...</td>\n",
       "      <td>0</td>\n",
       "      <td>2024-11-11 18:52:34</td>\n",
       "      <td>2024-11-11 18:53:44</td>\n",
       "      <td>0</td>\n",
       "      <td>d37d50d7-c0a2-43e3-aa8d-1a7d68f0576a</td>\n",
       "      <td>986e3d5c849d300be658dfb5545cc3ffbad0af85</td>\n",
       "      <td>324514</td>\n",
       "      <td>\\N</td>\n",
       "      <td>927642662724954291</td>\n",
       "      <td>925165178208766737</td>\n",
       "    </tr>\n",
       "    <tr>\n",
       "      <th>80</th>\n",
       "      <td>cedff49a-afa5-475e-b32f-3b05aae1c91f</td>\n",
       "      <td>558370166337962852</td>\n",
       "      <td>558370157680919215</td>\n",
       "      <td>606</td>\n",
       "      <td>2024-07-06 10:48:42</td>\n",
       "      <td>NaN</td>\n",
       "      <td>0</td>\n",
       "      <td>0</td>\n",
       "      <td>0</td>\n",
       "      <td>7.171720e+12</td>\n",
       "      <td>...</td>\n",
       "      <td>0</td>\n",
       "      <td>2024-11-11 19:33:48</td>\n",
       "      <td>2024-11-11 19:34:20</td>\n",
       "      <td>0</td>\n",
       "      <td>24f50a15-3d99-409f-b507-c59574a38ef5</td>\n",
       "      <td>c7e5aaf764324e9eac18af46bbd938ef303e6514</td>\n",
       "      <td>290237</td>\n",
       "      <td>switch</td>\n",
       "      <td>600830317359530579</td>\n",
       "      <td>925165178208766737</td>\n",
       "    </tr>\n",
       "  </tbody>\n",
       "</table>\n",
       "<p>81 rows × 42 columns</p>\n",
       "</div>"
      ],
      "text/plain": [
       "                                 profile           content_id  \\\n",
       "0   7703a0ad-9833-4b24-ac34-fd526793ddd8   558370347452203662   \n",
       "1   0f1ee1f8-ab2b-43bf-9edc-e3dcc233d1ff   547488304073801949   \n",
       "2   2eee53a4-8efc-4b6d-a34c-ea2777957f15  1006635702612305797   \n",
       "3   b685bba3-2eda-4982-95c5-c181600f227c   546330729785590263   \n",
       "4   a65dd797-ef21-4b24-87c5-3f68b8d28536   546310393270633467   \n",
       "..                                   ...                  ...   \n",
       "76  e250787e-e848-4bb2-ac14-afb00d0fec6b   818785867532946269   \n",
       "77  82d87d0a-b38b-444f-9b7c-4154691b7783   550023913178923841   \n",
       "78  591fd805-3eaa-44e4-8d05-72d94adb3f63   771387794690015717   \n",
       "79  4008b270-4bcc-48b2-bb76-d736ad2ec547   845894030071435424   \n",
       "80  cedff49a-afa5-475e-b32f-3b05aae1c91f   558370166337962852   \n",
       "\n",
       "         top_parent_id  seconds            viewed_at  duration_x  video_id  \\\n",
       "0   546316688543449479     3634  2024-07-06 10:34:10         NaN         0   \n",
       "1   547488284595454673      269  2024-07-06 10:34:30         NaN         0   \n",
       "2   986730752877548594     2069  2024-07-06 10:34:30         NaN         0   \n",
       "3   546314524995617441      523  2024-07-06 10:42:55         NaN         0   \n",
       "4   546310015753913209     9453  2024-07-06 10:34:35         NaN         0   \n",
       "..                 ...      ...                  ...         ...       ...   \n",
       "76  756600418471587689      454  2024-07-06 10:43:04         NaN         0   \n",
       "77  575374350320927100     8016  2024-07-06 10:41:13         NaN         0   \n",
       "78  568574330028426195     7447  2024-07-14 00:40:28         NaN         0   \n",
       "79  546310935006937179     9658  2024-07-06 10:36:21         NaN         0   \n",
       "80  558370157680919215      606  2024-07-06 10:48:42         NaN         0   \n",
       "\n",
       "    episode_id  program_id     object_id  ...  is_live           started_at  \\\n",
       "0            0           0  2.821720e+12  ...        1  2024-11-11 19:34:36   \n",
       "1            0           0  2.821720e+12  ...        1  2024-11-11 19:34:41   \n",
       "2            0           0  8.172025e+10  ...        0  2024-11-11 18:52:32   \n",
       "3            0           0  2.181720e+12  ...        0  2024-11-11 19:34:04   \n",
       "4            0           0  6.172047e+10  ...        0  2024-11-11 19:33:35   \n",
       "..         ...         ...           ...  ...      ...                  ...   \n",
       "76           0           0  8.000000e+00  ...        1  2024-11-11 19:34:32   \n",
       "77           0           0  2.811721e+12  ...        0  2024-11-11 19:27:23   \n",
       "78           0           0  2.981720e+12  ...        0  2024-11-11 18:52:35   \n",
       "79           0           0  6.172051e+10  ...        0  2024-11-11 18:52:34   \n",
       "80           0           0  7.171720e+12  ...        0  2024-11-11 19:33:48   \n",
       "\n",
       "               ended_at  preview                            session_id  \\\n",
       "0   2024-11-11 19:34:36        0  53a19e49-9d1c-4744-8d50-85b59455cf57   \n",
       "1   2024-11-11 19:34:41        0  ffa91586-0653-4e34-9962-3c8fed4bd44e   \n",
       "2   2024-11-11 19:10:31        0  7269f1c9-faf9-45db-a398-391d7439738a   \n",
       "3   2024-11-11 19:34:04        0  95502cbd-c040-4cfc-9b8b-7ff2d5f046ad   \n",
       "4   2024-11-11 19:34:03        0  ca34ff4e-41eb-455d-9ac0-08c2b4aae2bd   \n",
       "..                  ...      ...                                   ...   \n",
       "76  2024-11-11 20:14:25        0  a61c8b4b-55ac-4a3f-a30c-6fa59b5bde14   \n",
       "77  2024-11-11 19:34:01        0  fe4f036b-481d-4074-95b9-52ad200c6f16   \n",
       "78  2024-11-11 18:52:54        0  9698514c-37c0-4a42-942d-c111c6792562   \n",
       "79  2024-11-11 18:53:44        0  d37d50d7-c0a2-43e3-aa8d-1a7d68f0576a   \n",
       "80  2024-11-11 19:34:20        0  24f50a15-3d99-409f-b507-c59574a38ef5   \n",
       "\n",
       "                                access_token app_version          cause  \\\n",
       "0   783e5f2c28df525840102f58153466e9d2d89707        3626             \\N   \n",
       "1   01a683c8d55e674c90f28c03185b6f48d42ecd81        3545             \\N   \n",
       "2   e1e86213599ab8ed25389e53f60962013cd1276d        3619             \\N   \n",
       "3   5b893bd20ed964171260a4063f0483c3b1b4de80        3619             \\N   \n",
       "4   cf1071fb71af7827a9fff793300da5e434d0a900        3626  null_schedule   \n",
       "..                                       ...         ...            ...   \n",
       "76  c72aa75fd89863c2b17ab0a80d6baeb945045c8d        3619             \\N   \n",
       "77  626be56c8cc08d22aadc25d01e3c88183cfe0b43      300278             \\N   \n",
       "78  c1a3da3029e23bb604ee169e8b58d8c46b5674d0          \\N             \\N   \n",
       "79  986e3d5c849d300be658dfb5545cc3ffbad0af85      324514             \\N   \n",
       "80  c7e5aaf764324e9eac18af46bbd938ef303e6514      290237         switch   \n",
       "\n",
       "                content           top_parent  \n",
       "0    572469207506092136   546320148504511064  \n",
       "1    547488060258910692   546316688543449479  \n",
       "2   1057122840058095053   546311727910748959  \n",
       "3    546309805774472070                   \\N  \n",
       "4                    \\N  1053706819639757286  \n",
       "..                  ...                  ...  \n",
       "76  1057122865634179579   546319679417746392  \n",
       "77   600951211545330430   600951193119752387  \n",
       "78   608526204835725607                   \\N  \n",
       "79   927642662724954291   925165178208766737  \n",
       "80   600830317359530579   925165178208766737  \n",
       "\n",
       "[81 rows x 42 columns]"
      ]
     },
     "execution_count": 55,
     "metadata": {},
     "output_type": "execute_result"
    }
   ],
   "source": [
    "data_joined"
   ]
  },
  {
   "cell_type": "code",
   "execution_count": 25,
   "id": "3481c220-6230-4c75-aec0-b6077e7ff374",
   "metadata": {},
   "outputs": [
    {
     "data": {
      "text/plain": [
       "1           0.0\n",
       "2           0.0\n",
       "3           0.0\n",
       "4           0.0\n",
       "6           0.0\n",
       "           ... \n",
       "10437640    0.0\n",
       "10437641    0.0\n",
       "10437642    0.0\n",
       "10437643    0.0\n",
       "10437651    0.0\n",
       "Name: time_diff, Length: 5427343, dtype: float64"
      ]
     },
     "execution_count": 25,
     "metadata": {},
     "output_type": "execute_result"
    }
   ],
   "source": [
    "dats.time_diff"
   ]
  },
  {
   "cell_type": "code",
   "execution_count": 56,
   "id": "3f48ca45-87ea-4d28-9707-59cc94595cfa",
   "metadata": {},
   "outputs": [],
   "source": [
    "net = net.fillna(0)"
   ]
  },
  {
   "cell_type": "code",
   "execution_count": 65,
   "id": "4b50d8f3-af95-473b-811c-6cc6b91b476b",
   "metadata": {},
   "outputs": [],
   "source": [
    "net = net.astype('int8')\n"
   ]
  },
  {
   "cell_type": "code",
   "execution_count": 67,
   "id": "be573ca1-5ccb-4e48-8b9a-613fad697abd",
   "metadata": {},
   "outputs": [
    {
     "data": {
      "text/plain": [
       "2109375102"
      ]
     },
     "execution_count": 67,
     "metadata": {},
     "output_type": "execute_result"
    }
   ],
   "source": [
    "net.memory_usage().sum()"
   ]
  },
  {
   "cell_type": "code",
   "execution_count": 72,
   "id": "eea6778e-2d81-4b64-8159-d1ca9c825414",
   "metadata": {},
   "outputs": [],
   "source": [
    "net = csr_matrix(net)\n"
   ]
  },
  {
   "cell_type": "code",
   "execution_count": 10,
   "id": "a7e1a707-f814-4889-8aae-2a4d7a738fc8",
   "metadata": {},
   "outputs": [],
   "source": [
    "def remove_sparse_rows(csr_mat, min_nonzero):\n",
    "    # Находим индексы строк, которые нужно сохранить\n",
    "    row_mask = csr_mat.getnnz(axis=1) >= min_nonzero\n",
    "    # Создаем новую CSR-матрицу с оставшимися строками\n",
    "    return csr_mat[row_mask]\n",
    "\n",
    "# Удаляем строки с менее чем 10 ненулевыми значениями\n",
    "filtered_nett = remove_sparse_rows(csr_result, 10)"
   ]
  },
  {
   "cell_type": "code",
   "execution_count": 19,
   "id": "ebb793db-0200-4970-ae75-5af6da9a5023",
   "metadata": {},
   "outputs": [
    {
     "data": {
      "text/plain": [
       "(76446, 31916)"
      ]
     },
     "execution_count": 19,
     "metadata": {},
     "output_type": "execute_result"
    }
   ],
   "source": [
    "filtered_net.shape"
   ]
  },
  {
   "cell_type": "code",
   "execution_count": 11,
   "id": "5fd4445d-a69f-4485-b59d-e642390057fb",
   "metadata": {},
   "outputs": [],
   "source": [
    "filtered_net = filtered_nett.tolil()"
   ]
  },
  {
   "cell_type": "code",
   "execution_count": 12,
   "id": "1a69d385-115e-47a7-8481-c5a31b0fb732",
   "metadata": {},
   "outputs": [
    {
     "data": {
      "text/plain": [
       "<76446x31916 sparse matrix of type '<class 'numpy.float64'>'\n",
       "\twith 1920530 stored elements in List of Lists format>"
      ]
     },
     "execution_count": 12,
     "metadata": {},
     "output_type": "execute_result"
    }
   ],
   "source": [
    "filtered_net"
   ]
  },
  {
   "cell_type": "code",
   "execution_count": null,
   "id": "d8686d91-1628-458c-89ea-8fcf474f6042",
   "metadata": {},
   "outputs": [],
   "source": [
    "index = nmslib.init(method='hnsw', space='l2')\n",
    "index.addDataPointBatch(filtered_nett.toarray())\n",
    "index.createIndex({'post': 2}, print_progress=True)"
   ]
  },
  {
   "cell_type": "code",
   "execution_count": 14,
   "id": "a1d7d463-6b00-462e-ba7c-81e340fc597f",
   "metadata": {},
   "outputs": [],
   "source": [
    "import matplotlib.pyplot as plt"
   ]
  },
  {
   "cell_type": "code",
   "execution_count": 13,
   "id": "8d287c29-0bec-4df6-b2e4-d33f667d7529",
   "metadata": {},
   "outputs": [
    {
     "data": {
      "text/plain": [
       "6.0"
      ]
     },
     "execution_count": 13,
     "metadata": {},
     "output_type": "execute_result"
    }
   ],
   "source": [
    "np.median(csr_result.getnnz(axis=1))"
   ]
  },
  {
   "cell_type": "code",
   "execution_count": 15,
   "id": "f38c3ece-7bba-474e-a861-5c58fefbe6f5",
   "metadata": {},
   "outputs": [],
   "source": [
    "distances, indices = nbrs.kneighbors(net)\n"
   ]
  },
  {
   "cell_type": "code",
   "execution_count": 19,
   "id": "091f0aa0-78e8-4459-a7a8-f0c42528111a",
   "metadata": {},
   "outputs": [
    {
     "data": {
      "text/plain": [
       "array([[   0, 1390,  280,   11, 1332],\n",
       "       [   1,  796,  141,  777,    5],\n",
       "       [   2, 1270,  318,  338,  623],\n",
       "       ...,\n",
       "       [1552, 1270,  338,  318,  623],\n",
       "       [1553, 1282, 1270,  318,  338],\n",
       "       [1554, 1254,  358, 1208,  441]], dtype=int64)"
      ]
     },
     "execution_count": 19,
     "metadata": {},
     "output_type": "execute_result"
    }
   ],
   "source": [
    "indices"
   ]
  },
  {
   "cell_type": "code",
   "execution_count": 183,
   "id": "72f1906a-6892-4407-8417-474ebe2005d7",
   "metadata": {},
   "outputs": [],
   "source": [
    "def predict(i, n_neighb):\n",
    "    d, ind = nbrs.kneighbors(filtered_net[i], n_neighbors=n_neighb+1)\n",
    "    print(filtered_net[i])\n",
    "    print('='*30)\n",
    "    for i in ind[0][1:]:\n",
    "        print(i)\n",
    "        #print(np.nonzero(filtered_net[i])[1])"
   ]
  },
  {
   "cell_type": "code",
   "execution_count": 184,
   "id": "e5e0289c-4863-4e6d-aa3c-350bba589a88",
   "metadata": {},
   "outputs": [
    {
     "name": "stdout",
     "output_type": "stream",
     "text": [
      "  (0, 70)\t1190.0\n",
      "  (0, 84)\t336.0\n",
      "  (0, 89)\t568.0\n",
      "  (0, 96)\t69.0\n",
      "  (0, 179)\t3785.0\n",
      "  (0, 183)\t836.0\n",
      "  (0, 195)\t1902.0\n",
      "  (0, 202)\t695.0\n",
      "  (0, 272)\t3267.0\n",
      "  (0, 318)\t31.0\n",
      "  (0, 375)\t3445.0\n",
      "  (0, 397)\t1201.0\n",
      "  (0, 460)\t1612.0\n",
      "  (0, 474)\t123.0\n",
      "  (0, 496)\t24.0\n",
      "  (0, 501)\t9231.0\n",
      "  (0, 583)\t434.0\n",
      "  (0, 660)\t194.0\n",
      "  (0, 681)\t1860.0\n",
      "  (0, 1506)\t513.0\n",
      "  (0, 1891)\t179.0\n",
      "  (0, 2124)\t526.0\n",
      "  (0, 2158)\t248.0\n",
      "  (0, 2650)\t372.0\n",
      "  (0, 3344)\t124.0\n",
      "  (0, 4053)\t2812.0\n",
      "  (0, 6105)\t117.0\n",
      "  (0, 7830)\t527.0\n",
      "  (0, 7875)\t4030.0\n",
      "  (0, 7897)\t1178.0\n",
      "  (0, 9541)\t539.0\n",
      "  (0, 9830)\t278.0\n",
      "  (0, 11128)\t117.0\n",
      "  (0, 26860)\t92.0\n",
      "==============================\n",
      "70439\n",
      "67347\n",
      "59247\n",
      "37717\n",
      "63649\n"
     ]
    }
   ],
   "source": [
    "predict(1488, 5)"
   ]
  },
  {
   "cell_type": "code",
   "execution_count": 24,
   "id": "57166f0a-dc9f-4590-95b8-8748cd938733",
   "metadata": {},
   "outputs": [],
   "source": [
    "net = filtered_net.copy()"
   ]
  },
  {
   "cell_type": "code",
   "execution_count": 25,
   "id": "9add69d5-7c30-4865-861f-d9652dee23f0",
   "metadata": {},
   "outputs": [
    {
     "data": {
      "text/plain": [
       "<76446x31916 sparse matrix of type '<class 'numpy.float64'>'\n",
       "\twith 1920530 stored elements in List of Lists format>"
      ]
     },
     "execution_count": 25,
     "metadata": {},
     "output_type": "execute_result"
    }
   ],
   "source": [
    "net"
   ]
  },
  {
   "cell_type": "code",
   "execution_count": 26,
   "id": "5ef74ccc-abff-4d70-9eb4-95a85c5af8da",
   "metadata": {},
   "outputs": [],
   "source": [
    "def predict_cnt(i, n_neighb, net):\n",
    "    d, ind = nbrs.kneighbors(net[i], n_neighbors=n_neighb+1)\n",
    "    a = net[ind[0][0]]\n",
    "    for ii in ind[0][1:]:\n",
    "        a+=net[ii]\n",
    "        #print('-'*30)\n",
    "    for j in range(a.shape[1]):\n",
    "        if a[0, j] != 0:  # Добавляем только ненулевые значения\n",
    "            net[i, j] = a[0, j]\n",
    "    \n"
   ]
  },
  {
   "cell_type": "code",
   "execution_count": 27,
   "id": "4da58cbb-9294-4b7d-974b-e7a4f7e0ee39",
   "metadata": {
    "scrolled": true
   },
   "outputs": [
    {
     "name": "stderr",
     "output_type": "stream",
     "text": [
      "100%|████████████████████████████████████████████████████████████████████████████████| 100/100 [00:17<00:00,  5.68it/s]"
     ]
    },
    {
     "name": "stdout",
     "output_type": "stream",
     "text": [
      "CPU times: total: 17.6 s\n",
      "Wall time: 17.6 s\n"
     ]
    },
    {
     "name": "stderr",
     "output_type": "stream",
     "text": [
      "\n"
     ]
    }
   ],
   "source": [
    "%%time\n",
    "for i in trange(100):\n",
    "    predict_cnt(i, 5, net)\n"
   ]
  },
  {
   "cell_type": "code",
   "execution_count": 171,
   "id": "f5fe38e6-f4e7-44e2-8122-c47e9ca82d13",
   "metadata": {},
   "outputs": [
    {
     "data": {
      "text/plain": [
       "(76446, 31916)"
      ]
     },
     "execution_count": 171,
     "metadata": {},
     "output_type": "execute_result"
    }
   ],
   "source": [
    "filtered_net.shape"
   ]
  },
  {
   "cell_type": "code",
   "execution_count": 174,
   "id": "3aeaa343-2b3b-4eea-b913-6424d7e9fee5",
   "metadata": {},
   "outputs": [],
   "source": [
    "save_npz(\"csr_user_item.npz\", filtered_net)"
   ]
  },
  {
   "cell_type": "code",
   "execution_count": null,
   "id": "a6c6a2a0-033a-414b-a5d2-687cc4c44291",
   "metadata": {},
   "outputs": [],
   "source": [
    "def predict_cnt(i, n_neighb):\n",
    "    d, ind = nbrs.kneighbors(filtered_net[i], n_neighbors=n_neighb+1)\n",
    "    print(filtered_net[ind[0][0]].nnz)\n",
    "    print('='*30)\n",
    "    a = filtered_net[ind[0][1]]\n",
    "    for i in ind[0][2:]:\n",
    "        a+=filtered_net[i]\n",
    "        #print('-'*30)\n",
    "    print(a.nnz)"
   ]
  },
  {
   "cell_type": "code",
   "execution_count": 84,
   "id": "6457f14b-392b-4218-9d1c-27d73731c0fd",
   "metadata": {},
   "outputs": [
    {
     "name": "stdout",
     "output_type": "stream",
     "text": [
      "  (0, 12831)\t-119\n"
     ]
    }
   ],
   "source": [
    "print(net[5,:])"
   ]
  },
  {
   "cell_type": "code",
   "execution_count": 35,
   "id": "64d41d91-2efb-4463-ba5f-1c456ee7ec37",
   "metadata": {},
   "outputs": [
    {
     "ename": "ValueError",
     "evalue": "setting an array element with a sequence.",
     "output_type": "error",
     "traceback": [
      "\u001b[1;31m---------------------------------------------------------------------------\u001b[0m",
      "\u001b[1;31mTypeError\u001b[0m                                 Traceback (most recent call last)",
      "\u001b[1;31mTypeError\u001b[0m: float() argument must be a string or a real number, not 'csr_matrix'",
      "\nThe above exception was the direct cause of the following exception:\n",
      "\u001b[1;31mValueError\u001b[0m                                Traceback (most recent call last)",
      "Cell \u001b[1;32mIn[35], line 8\u001b[0m\n\u001b[0;32m      5\u001b[0m R \u001b[38;5;241m=\u001b[39m np\u001b[38;5;241m.\u001b[39marray(filtered_net)\n\u001b[0;32m      7\u001b[0m \u001b[38;5;66;03m# Преобразуем в формат, подходящий для библиотеки\u001b[39;00m\n\u001b[1;32m----> 8\u001b[0m R \u001b[38;5;241m=\u001b[39m \u001b[43mR\u001b[49m\u001b[38;5;241;43m.\u001b[39;49m\u001b[43mastype\u001b[49m\u001b[43m(\u001b[49m\u001b[43mnp\u001b[49m\u001b[38;5;241;43m.\u001b[39;49m\u001b[43mfloat32\u001b[49m\u001b[43m)\u001b[49m\n\u001b[0;32m      9\u001b[0m model \u001b[38;5;241m=\u001b[39m implicit\u001b[38;5;241m.\u001b[39mals\u001b[38;5;241m.\u001b[39mAlternatingLeastSquares(factors\u001b[38;5;241m=\u001b[39m\u001b[38;5;241m5\u001b[39m, regularization\u001b[38;5;241m=\u001b[39m\u001b[38;5;241m0.1\u001b[39m, iterations\u001b[38;5;241m=\u001b[39m\u001b[38;5;241m10\u001b[39m)\n\u001b[0;32m     11\u001b[0m \u001b[38;5;66;03m# Обучаем модель\u001b[39;00m\n",
      "\u001b[1;31mValueError\u001b[0m: setting an array element with a sequence."
     ]
    }
   ],
   "source": [
    "import numpy as np\n",
    "import implicit\n",
    "\n",
    "# Пример матрицы взаимодействий\n",
    "R = np.array(filtered_net)\n",
    "\n",
    "# Преобразуем в формат, подходящий для библиотеки\n",
    "R = R.astype(np.float32)\n",
    "model = implicit.als.AlternatingLeastSquares(factors=5, regularization=0.1, iterations=10)\n",
    "\n",
    "# Обучаем модель\n",
    "model.fit(R)\n",
    "\n",
    "# Предсказание\n",
    "user_id = 0\n",
    "recommended = model.recommend(user_id, R[user_id])\n",
    "print(recommended)\n"
   ]
  },
  {
   "cell_type": "code",
   "execution_count": 83,
   "id": "4dedd316-dd4b-4df9-ade1-af81b0178d47",
   "metadata": {},
   "outputs": [
    {
     "name": "stdout",
     "output_type": "stream",
     "text": [
      "Microsoft Windows [Version 10.0.19045.5131]\n",
      "(c) ��௮��� �������� (Microsoft Corporation). �� �ࠢ� ���饭�.\n",
      "\n",
      "C:\\jupyter\\proj\\RecSys-24TV>pip install implicit\n",
      "Defaulting to user installation because normal site-packages is not writeable\n",
      "Collecting implicit\n",
      "  Downloading implicit-0.7.2-cp311-cp311-win_amd64.whl.metadata (6.3 kB)\n",
      "Requirement already satisfied: numpy>=1.17.0 in c:\\users\\���������\\appdata\\roaming\\python\\python311\\site-packages (from implicit) (1.26.4)\n",
      "Requirement already satisfied: scipy>=0.16 in c:\\users\\���������\\appdata\\roaming\\python\\python311\\site-packages (from implicit) (1.10.1)\n",
      "Requirement already satisfied: tqdm>=4.27 in c:\\users\\���������\\appdata\\roaming\\python\\python311\\site-packages (from implicit) (4.66.5)\n",
      "Requirement already satisfied: threadpoolctl in c:\\users\\���������\\appdata\\roaming\\python\\python311\\site-packages (from implicit) (3.4.0)\n",
      "Requirement already satisfied: colorama in c:\\users\\���������\\appdata\\roaming\\python\\python311\\site-packages (from tqdm>=4.27->implicit) (0.4.6)\n",
      "Downloading implicit-0.7.2-cp311-cp311-win_amd64.whl (750 kB)\n",
      "   ---------------------------------------- 750.8/750.8 kB 5.2 MB/s eta 0:00:00\n",
      "Installing collected packages: implicit\n",
      "Successfully installed implicit-0.7.2\n"
     ]
    },
    {
     "name": "stderr",
     "output_type": "stream",
     "text": [
      "\n",
      "[notice] A new release of pip is available: 24.2 -> 24.3.1\n",
      "[notice] To update, run: python.exe -m pip install --upgrade pip\n"
     ]
    },
    {
     "name": "stdout",
     "output_type": "stream",
     "text": [
      "\n",
      "C:\\jupyter\\proj\\RecSys-24TV>"
     ]
    }
   ],
   "source": [
    "%%cmd\n",
    "pip install implicit"
   ]
  },
  {
   "cell_type": "code",
   "execution_count": 48,
   "id": "3df84d63-9beb-4fc0-9d18-eaf3d91ef176",
   "metadata": {},
   "outputs": [
    {
     "data": {
      "application/vnd.jupyter.widget-view+json": {
       "model_id": "7917aaef5807405cbcfca77df7b0c1dd",
       "version_major": 2,
       "version_minor": 0
      },
      "text/plain": [
       "  0%|          | 0/10 [00:00<?, ?it/s]"
      ]
     },
     "metadata": {},
     "output_type": "display_data"
    },
    {
     "name": "stdout",
     "output_type": "stream",
     "text": [
      "[  51  318  183    8 1028 1432  246 4063  234  147]\n"
     ]
    },
    {
     "data": {
      "application/vnd.jupyter.widget-view+json": {
       "model_id": "51b57dab8c184f519cc08310702ee11a",
       "version_major": 2,
       "version_minor": 0
      },
      "text/plain": [
       "  0%|          | 0/10 [00:00<?, ?it/s]"
      ]
     },
     "metadata": {},
     "output_type": "display_data"
    },
    {
     "name": "stdout",
     "output_type": "stream",
     "text": [
      "[  51  318    8  183   10 1432 4063 1028  147  202]\n"
     ]
    },
    {
     "data": {
      "application/vnd.jupyter.widget-view+json": {
       "model_id": "05b50df851f14085ac32c81e20f5c288",
       "version_major": 2,
       "version_minor": 0
      },
      "text/plain": [
       "  0%|          | 0/10 [00:00<?, ?it/s]"
      ]
     },
     "metadata": {},
     "output_type": "display_data"
    },
    {
     "name": "stdout",
     "output_type": "stream",
     "text": [
      "[  10   51  318  183 1028    8 1432 4063  246  147]\n"
     ]
    },
    {
     "data": {
      "application/vnd.jupyter.widget-view+json": {
       "model_id": "80afe6dd2b68403f900b569d4bef6139",
       "version_major": 2,
       "version_minor": 0
      },
      "text/plain": [
       "  0%|          | 0/10 [00:00<?, ?it/s]"
      ]
     },
     "metadata": {},
     "output_type": "display_data"
    },
    {
     "ename": "KeyboardInterrupt",
     "evalue": "",
     "output_type": "error",
     "traceback": [
      "\u001b[1;31m---------------------------------------------------------------------------\u001b[0m",
      "\u001b[1;31mKeyboardInterrupt\u001b[0m                         Traceback (most recent call last)",
      "File \u001b[1;32m<timed exec>:7\u001b[0m\n",
      "File \u001b[1;32m~\\AppData\\Roaming\\Python\\Python311\\site-packages\\implicit\\cpu\\als.py:163\u001b[0m, in \u001b[0;36mAlternatingLeastSquares.fit\u001b[1;34m(self, user_items, show_progress, callback)\u001b[0m\n\u001b[0;32m    161\u001b[0m \u001b[38;5;28;01mfor\u001b[39;00m iteration \u001b[38;5;129;01min\u001b[39;00m \u001b[38;5;28mrange\u001b[39m(\u001b[38;5;28mself\u001b[39m\u001b[38;5;241m.\u001b[39miterations):\n\u001b[0;32m    162\u001b[0m     s \u001b[38;5;241m=\u001b[39m time\u001b[38;5;241m.\u001b[39mtime()\n\u001b[1;32m--> 163\u001b[0m     \u001b[43msolver\u001b[49m\u001b[43m(\u001b[49m\n\u001b[0;32m    164\u001b[0m \u001b[43m        \u001b[49m\u001b[43mCui\u001b[49m\u001b[43m,\u001b[49m\n\u001b[0;32m    165\u001b[0m \u001b[43m        \u001b[49m\u001b[38;5;28;43mself\u001b[39;49m\u001b[38;5;241;43m.\u001b[39;49m\u001b[43muser_factors\u001b[49m\u001b[43m,\u001b[49m\n\u001b[0;32m    166\u001b[0m \u001b[43m        \u001b[49m\u001b[38;5;28;43mself\u001b[39;49m\u001b[38;5;241;43m.\u001b[39;49m\u001b[43mitem_factors\u001b[49m\u001b[43m,\u001b[49m\n\u001b[0;32m    167\u001b[0m \u001b[43m        \u001b[49m\u001b[38;5;28;43mself\u001b[39;49m\u001b[38;5;241;43m.\u001b[39;49m\u001b[43mregularization\u001b[49m\u001b[43m,\u001b[49m\n\u001b[0;32m    168\u001b[0m \u001b[43m        \u001b[49m\u001b[43mnum_threads\u001b[49m\u001b[38;5;241;43m=\u001b[39;49m\u001b[38;5;28;43mself\u001b[39;49m\u001b[38;5;241;43m.\u001b[39;49m\u001b[43mnum_threads\u001b[49m\u001b[43m,\u001b[49m\n\u001b[0;32m    169\u001b[0m \u001b[43m    \u001b[49m\u001b[43m)\u001b[49m\n\u001b[0;32m    170\u001b[0m     solver(\n\u001b[0;32m    171\u001b[0m         Ciu,\n\u001b[0;32m    172\u001b[0m         \u001b[38;5;28mself\u001b[39m\u001b[38;5;241m.\u001b[39mitem_factors,\n\u001b[1;32m   (...)\u001b[0m\n\u001b[0;32m    175\u001b[0m         num_threads\u001b[38;5;241m=\u001b[39m\u001b[38;5;28mself\u001b[39m\u001b[38;5;241m.\u001b[39mnum_threads,\n\u001b[0;32m    176\u001b[0m     )\n\u001b[0;32m    177\u001b[0m     progress\u001b[38;5;241m.\u001b[39mupdate(\u001b[38;5;241m1\u001b[39m)\n",
      "\u001b[1;31mKeyboardInterrupt\u001b[0m: "
     ]
    }
   ],
   "source": [
    "%%time\n",
    "\n",
    "\n",
    "a=0\n",
    "for i in range(10):\n",
    "    R = filtered_net\n",
    "\n",
    "    # Создаем и обучаем модель\n",
    "    model = implicit.als.AlternatingLeastSquares(factors=10, regularization=0.1, iterations=10)\n",
    "    model.fit(R)\n",
    "\n",
    "    \n",
    "    # Рекомендуем элементы для пользователя\n",
    "    user_id = 59247\n",
    "    recommended, _ = model.recommend(user_id, R[user_id])\n",
    "    a += (70439 in recommended or 67347 in recommended or 59247 in recommended)\n",
    "    print(recommended)"
   ]
  },
  {
   "cell_type": "code",
   "execution_count": 46,
   "id": "46e00877-3b61-405c-88e3-1b71cb5ebd86",
   "metadata": {},
   "outputs": [
    {
     "data": {
      "text/plain": [
       "0"
      ]
     },
     "execution_count": 46,
     "metadata": {},
     "output_type": "execute_result"
    }
   ],
   "source": [
    "a"
   ]
  },
  {
   "cell_type": "code",
   "execution_count": null,
   "id": "d2cbbad0-7239-4eed-9a4b-fad8720c0406",
   "metadata": {},
   "outputs": [],
   "source": [
    "[ 208 1247 1083 1889  736 1910 9240 4073 2887 4056]\n"
   ]
  }
 ],
 "metadata": {
  "kernelspec": {
   "display_name": "Python 3 (ipykernel)",
   "language": "python",
   "name": "python3"
  },
  "language_info": {
   "codemirror_mode": {
    "name": "ipython",
    "version": 3
   },
   "file_extension": ".py",
   "mimetype": "text/x-python",
   "name": "python",
   "nbconvert_exporter": "python",
   "pygments_lexer": "ipython3",
   "version": "3.11.3"
  }
 },
 "nbformat": 4,
 "nbformat_minor": 5
}
