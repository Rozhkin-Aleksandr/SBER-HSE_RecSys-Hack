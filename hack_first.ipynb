{
 "cells": [
  {
   "cell_type": "code",
   "execution_count": 1,
   "id": "87d33d03-05ef-4058-ae14-f2deb5a46f21",
   "metadata": {},
   "outputs": [],
   "source": [
    "import numpy as np\n",
    "from scipy.sparse import coo_matrix, csr_matrix\n",
    "import implicit\n",
    "from tqdm.notebook import trange\n",
    "import pandas as pd\n",
    "from implicit.als import AlternatingLeastSquares\n",
    "import torch"
   ]
  },
  {
   "cell_type": "code",
   "execution_count": null,
   "id": "0ab37724-a3f7-466d-9845-bc51ebcd0d20",
   "metadata": {},
   "outputs": [],
   "source": [
    "train_zvuk = pd.read_parquet('train_zvuk.parquet')\n",
    "\n",
    "train_smm = pd.read_parquet('train_smm.parquet')\n",
    "\n",
    "test_smm = pd.read_parquet('test_smm.parquet')\n",
    "\n",
    "test_zvuk = pd.read_parquet('test_zvuk.parquet')"
   ]
  },
  {
   "cell_type": "code",
   "execution_count": 156,
   "id": "aee3ecce-07a1-498c-b7b3-4670617f4c87",
   "metadata": {},
   "outputs": [],
   "source": [
    "train_zvuk = train_zvuk[train_zvuk['rating']<=10]\n",
    "train_smm = train_smm[train_smm['rating']<=10]\n",
    "test_smm = test_smm[test_smm['rating']<=10]\n",
    "test_zvuk = test_zvuk[test_zvuk['rating']<=10]"
   ]
  },
  {
   "cell_type": "code",
   "execution_count": 157,
   "id": "d8d80607-0c9d-4e52-adbe-2d57ca537872",
   "metadata": {},
   "outputs": [
    {
     "data": {
      "text/plain": [
       "35278"
      ]
     },
     "execution_count": 157,
     "metadata": {},
     "output_type": "execute_result"
    }
   ],
   "source": [
    "u_ids_z = set(train_zvuk.user_id.unique())\n",
    "u_ids_s = set(train_smm.user_id.unique())\n",
    "US_ID = u_ids_z.intersection(u_ids_s)\n",
    "len(US_ID)"
   ]
  },
  {
   "cell_type": "code",
   "execution_count": 158,
   "id": "0fb3b94f-ec2f-46b8-a585-743d1e7a2fb3",
   "metadata": {},
   "outputs": [
    {
     "data": {
      "text/plain": [
       "853"
      ]
     },
     "execution_count": 158,
     "metadata": {},
     "output_type": "execute_result"
    }
   ],
   "source": [
    "u_test_z = set(test_zvuk.user_id.unique())\n",
    "u_test_s = set(test_smm.user_id.unique())\n",
    "US_VAL = (u_ids_z - u_test_z).intersection(u_ids_s-u_test_s)\n",
    "len(US_VAL)\n"
   ]
  },
  {
   "cell_type": "code",
   "execution_count": 159,
   "id": "0c184943-1b36-4961-9c6b-3880e59ac21d",
   "metadata": {},
   "outputs": [
    {
     "data": {
      "text/plain": [
       "set"
      ]
     },
     "execution_count": 159,
     "metadata": {},
     "output_type": "execute_result"
    }
   ],
   "source": [
    "type(US_VAL)"
   ]
  },
  {
   "cell_type": "code",
   "execution_count": 160,
   "id": "22488ec9-7c24-4d9b-bb5d-9949d3157756",
   "metadata": {},
   "outputs": [],
   "source": [
    "val_zvuk = train_zvuk[train_zvuk['user_id'].isin(US_VAL)].sort_values(by='user_id', ascending=False)\n",
    "val_smm = train_smm[train_smm['user_id'].isin(US_VAL)].sort_values(by='user_id', ascending=False)\n",
    "\n",
    "train_z = train_zvuk[train_zvuk['user_id'].isin(US_ID)].sort_values(by='user_id', ascending=False)\n",
    "train_s = train_smm[train_smm['user_id'].isin(US_ID) ].sort_values(by='user_id', ascending=False)\n",
    "\n",
    "\n",
    "\n",
    "RET_Z, RET_S = train_zvuk.user_id.unique(), train_smm.user_id.unique()\n"
   ]
  },
  {
   "cell_type": "code",
   "execution_count": 168,
   "id": "2e73e4cb-462d-4b18-a9f1-20e34a9d302a",
   "metadata": {},
   "outputs": [
    {
     "name": "stdout",
     "output_type": "stream",
     "text": [
      "Индексы, где элементы равны 3: 2\n"
     ]
    }
   ],
   "source": [
    "import numpy as np\n",
    "\n",
    "# Создаем пример массива\n",
    "array = np.array([1, 2, 3])\n",
    "\n",
    "# Заданное значение для поиска\n",
    "X = 3\n",
    "\n",
    "# Находим индексы, где элементы равны X\n",
    "indices = np.where(array == X)[0][0]  # [0] для получения индексов\n",
    "\n",
    "# Выводим индексы\n",
    "print(f'Индексы, где элементы равны {X}: {indices}')"
   ]
  },
  {
   "cell_type": "code",
   "execution_count": 163,
   "id": "f3abbf30-f6a7-41c8-8ef3-e33b6e479eb2",
   "metadata": {},
   "outputs": [
    {
     "data": {
      "text/plain": [
       "array([6486258, 7436216, 1736489, ..., 1005181, 2002945, 8820532],\n",
       "      dtype=int64)"
      ]
     },
     "execution_count": 163,
     "metadata": {},
     "output_type": "execute_result"
    }
   ],
   "source": [
    "RET_Z"
   ]
  },
  {
   "cell_type": "code",
   "execution_count": 15,
   "id": "970fecd1-8c11-4618-90ee-f9bcfd505209",
   "metadata": {},
   "outputs": [],
   "source": [
    "def pivot_csr(df):\n",
    "    row_indices = pd.factorize(df['user_id'])[0]\n",
    "    col_indices = pd.factorize(df['item_id'])[0]\n",
    "    \n",
    "    # Создаем CSR-матрицу\n",
    "    csr_result = csr_matrix((df['rating'], (row_indices, col_indices)), \n",
    "                         shape=(len(df['user_id'].unique()), len(df['item_id'].unique())))\n",
    "    return csr_result\n",
    "\n",
    "val_zvuk_csr = pivot_csr(val_zvuk)\n",
    "val_smm_csr = pivot_csr(val_smm)\n",
    "train_z_csr = pivot_csr(train_z)\n",
    "train_s_csr = pivot_csr(train_s)\n"
   ]
  },
  {
   "cell_type": "code",
   "execution_count": 16,
   "id": "7000f402-acef-41ad-ade8-4cc24a864b6b",
   "metadata": {},
   "outputs": [
    {
     "name": "stdout",
     "output_type": "stream",
     "text": [
      "(853, 40207)\n",
      "(853, 46044)\n",
      "(35278, 106407)\n",
      "(35278, 166307)\n"
     ]
    }
   ],
   "source": [
    "for el in [val_zvuk_csr, val_smm_csr, train_z_csr, train_s_csr]:\n",
    "    print(el.shape)"
   ]
  },
  {
   "cell_type": "code",
   "execution_count": 127,
   "id": "da5ba1e9-b7ae-4ad5-8078-111dfdf47cfa",
   "metadata": {},
   "outputs": [
    {
     "data": {
      "application/vnd.jupyter.widget-view+json": {
       "model_id": "98cdf46718ba43a1a7f47f7e2fe8b327",
       "version_major": 2,
       "version_minor": 0
      },
      "text/plain": [
       "  0%|          | 0/30 [00:00<?, ?it/s]"
      ]
     },
     "metadata": {},
     "output_type": "display_data"
    },
    {
     "data": {
      "application/vnd.jupyter.widget-view+json": {
       "model_id": "c9bbe87c98b74646bb2e09ccba29932e",
       "version_major": 2,
       "version_minor": 0
      },
      "text/plain": [
       "  0%|          | 0/30 [00:00<?, ?it/s]"
      ]
     },
     "metadata": {},
     "output_type": "display_data"
    }
   ],
   "source": [
    "df_z = train_z_csr\n",
    "R = df_z\n",
    "model = implicit.als.AlternatingLeastSquares(factors=300, regularization=0.01, iterations=30)\n",
    "model.fit(R)\n",
    "user_factors_z = model.user_factors  # Размер (num_users, 10)\n",
    "item_factors_z = model.item_factors  # Размер (num_items, 10)\n",
    "R = train_s_csr\n",
    "model = implicit.als.AlternatingLeastSquares(factors=300, regularization=0.01, iterations=30)\n",
    "model.fit(R)\n",
    "user_factors_s = model.user_factors  # Размер (num_users, 10)\n",
    "item_factors_s = model.item_factors  # Размер (num_items, 10)"
   ]
  },
  {
   "cell_type": "code",
   "execution_count": 128,
   "id": "fec448e3-e545-4986-9e12-8f20f43cba97",
   "metadata": {},
   "outputs": [
    {
     "data": {
      "application/vnd.jupyter.widget-view+json": {
       "model_id": "5ae9a6c720b945d8bff761406e52c4ca",
       "version_major": 2,
       "version_minor": 0
      },
      "text/plain": [
       "  0%|          | 0/30 [00:00<?, ?it/s]"
      ]
     },
     "metadata": {},
     "output_type": "display_data"
    },
    {
     "data": {
      "application/vnd.jupyter.widget-view+json": {
       "model_id": "db4025a1d7fd4cbd8842360b04e8f5a1",
       "version_major": 2,
       "version_minor": 0
      },
      "text/plain": [
       "  0%|          | 0/30 [00:00<?, ?it/s]"
      ]
     },
     "metadata": {},
     "output_type": "display_data"
    }
   ],
   "source": [
    "df_z_val = val_zvuk_csr\n",
    "R = df_z_val\n",
    "model = implicit.als.AlternatingLeastSquares(factors=300, regularization=0.01, iterations=30)\n",
    "model.fit(R)\n",
    "user_factors_z_val = model.user_factors  # Размер (num_users, 10)\n",
    "item_factors_z_val = model.item_factors  # Размер (num_items, 10)\n",
    "R = val_smm_csr\n",
    "model = implicit.als.AlternatingLeastSquares(factors=300, regularization=0.01, iterations=30)\n",
    "model.fit(R)\n",
    "user_factors_s_val = model.user_factors  # Размер (num_users, 10)\n",
    "item_factors_s_val = model.item_factors  # Размер (num_items, 10)"
   ]
  },
  {
   "cell_type": "code",
   "execution_count": 129,
   "id": "1b635893-6b03-4ecc-9dc7-408dd3b0763f",
   "metadata": {},
   "outputs": [
    {
     "data": {
      "application/vnd.jupyter.widget-view+json": {
       "model_id": "5465fcc5a4e74bf48787996199e3e2f1",
       "version_major": 2,
       "version_minor": 0
      },
      "text/plain": [
       "  0%|          | 0/35278 [00:00<?, ?it/s]"
      ]
     },
     "metadata": {},
     "output_type": "display_data"
    }
   ],
   "source": [
    "X_train = []\n",
    "y_train = []\n",
    "for user in trange(df_z.shape[0]):\n",
    "    for item in range(df_z.shape[1]):\n",
    "        if df_z[user, item] > 0:  # Проверяем наличие взаимодействия\n",
    "            #print(user_factors_z.shape,item_factors_z.shape, user_factors_s.shape)\n",
    "            X_train.append(np.concatenate((user_factors_z[user],item_factors_z[item],user_factors_s[user]), axis=0))  # Добавляем в X_train вектор пользователя\n",
    "            y_train.append(df_z[user, item])  # Добавляем значение в y_train\n",
    "        if len(X_train)>=50000:\n",
    "            break\n",
    "    if len(X_train)>=50000:\n",
    "            break\n",
    "              "
   ]
  },
  {
   "cell_type": "code",
   "execution_count": 131,
   "id": "3ab9eb83-a625-4466-816e-87ed403a52e4",
   "metadata": {},
   "outputs": [],
   "source": [
    "X_train = torch.tensor(np.array(X_train)).float()\n",
    "\n",
    "y_train = torch.tensor(np.array(y_train)).float()\n",
    "\n",
    "mean = y_train.mean()\n",
    "std = y_train.std()\n",
    "\n",
    "# Стандартизация\n",
    "y_train = (y_train - mean) / std"
   ]
  },
  {
   "cell_type": "code",
   "execution_count": 139,
   "id": "f55b0d42-59f4-498f-97c3-329982e8ed7d",
   "metadata": {},
   "outputs": [
    {
     "data": {
      "application/vnd.jupyter.widget-view+json": {
       "model_id": "12303d89a36c4cbc8da045a6186361ea",
       "version_major": 2,
       "version_minor": 0
      },
      "text/plain": [
       "  0%|          | 0/20 [00:00<?, ?it/s]"
      ]
     },
     "metadata": {},
     "output_type": "display_data"
    },
    {
     "ename": "KeyboardInterrupt",
     "evalue": "",
     "output_type": "error",
     "traceback": [
      "\u001b[1;31m---------------------------------------------------------------------------\u001b[0m",
      "\u001b[1;31mKeyboardInterrupt\u001b[0m                         Traceback (most recent call last)",
      "Cell \u001b[1;32mIn[139], line 42\u001b[0m\n\u001b[0;32m     40\u001b[0m \u001b[38;5;66;03m# Обратный проход и оптимизация\u001b[39;00m\n\u001b[0;32m     41\u001b[0m optimizer\u001b[38;5;241m.\u001b[39mzero_grad()  \u001b[38;5;66;03m# Обнуление градиентов\u001b[39;00m\n\u001b[1;32m---> 42\u001b[0m \u001b[43mloss\u001b[49m\u001b[38;5;241;43m.\u001b[39;49m\u001b[43mbackward\u001b[49m\u001b[43m(\u001b[49m\u001b[43m)\u001b[49m        \u001b[38;5;66;03m# Вычисление градиентов\u001b[39;00m\n\u001b[0;32m     43\u001b[0m optimizer\u001b[38;5;241m.\u001b[39mstep()       \u001b[38;5;66;03m# Обновление весов\u001b[39;00m\n\u001b[0;32m     45\u001b[0m \u001b[38;5;66;03m# Вывод информации о ходе обучения\u001b[39;00m\n",
      "File \u001b[1;32m~\\AppData\\Roaming\\Python\\Python311\\site-packages\\torch\\_tensor.py:521\u001b[0m, in \u001b[0;36mTensor.backward\u001b[1;34m(self, gradient, retain_graph, create_graph, inputs)\u001b[0m\n\u001b[0;32m    511\u001b[0m \u001b[38;5;28;01mif\u001b[39;00m has_torch_function_unary(\u001b[38;5;28mself\u001b[39m):\n\u001b[0;32m    512\u001b[0m     \u001b[38;5;28;01mreturn\u001b[39;00m handle_torch_function(\n\u001b[0;32m    513\u001b[0m         Tensor\u001b[38;5;241m.\u001b[39mbackward,\n\u001b[0;32m    514\u001b[0m         (\u001b[38;5;28mself\u001b[39m,),\n\u001b[1;32m   (...)\u001b[0m\n\u001b[0;32m    519\u001b[0m         inputs\u001b[38;5;241m=\u001b[39minputs,\n\u001b[0;32m    520\u001b[0m     )\n\u001b[1;32m--> 521\u001b[0m \u001b[43mtorch\u001b[49m\u001b[38;5;241;43m.\u001b[39;49m\u001b[43mautograd\u001b[49m\u001b[38;5;241;43m.\u001b[39;49m\u001b[43mbackward\u001b[49m\u001b[43m(\u001b[49m\n\u001b[0;32m    522\u001b[0m \u001b[43m    \u001b[49m\u001b[38;5;28;43mself\u001b[39;49m\u001b[43m,\u001b[49m\u001b[43m \u001b[49m\u001b[43mgradient\u001b[49m\u001b[43m,\u001b[49m\u001b[43m \u001b[49m\u001b[43mretain_graph\u001b[49m\u001b[43m,\u001b[49m\u001b[43m \u001b[49m\u001b[43mcreate_graph\u001b[49m\u001b[43m,\u001b[49m\u001b[43m \u001b[49m\u001b[43minputs\u001b[49m\u001b[38;5;241;43m=\u001b[39;49m\u001b[43minputs\u001b[49m\n\u001b[0;32m    523\u001b[0m \u001b[43m\u001b[49m\u001b[43m)\u001b[49m\n",
      "File \u001b[1;32m~\\AppData\\Roaming\\Python\\Python311\\site-packages\\torch\\autograd\\__init__.py:289\u001b[0m, in \u001b[0;36mbackward\u001b[1;34m(tensors, grad_tensors, retain_graph, create_graph, grad_variables, inputs)\u001b[0m\n\u001b[0;32m    284\u001b[0m     retain_graph \u001b[38;5;241m=\u001b[39m create_graph\n\u001b[0;32m    286\u001b[0m \u001b[38;5;66;03m# The reason we repeat the same comment below is that\u001b[39;00m\n\u001b[0;32m    287\u001b[0m \u001b[38;5;66;03m# some Python versions print out the first line of a multi-line function\u001b[39;00m\n\u001b[0;32m    288\u001b[0m \u001b[38;5;66;03m# calls in the traceback and some print out the last line\u001b[39;00m\n\u001b[1;32m--> 289\u001b[0m \u001b[43m_engine_run_backward\u001b[49m\u001b[43m(\u001b[49m\n\u001b[0;32m    290\u001b[0m \u001b[43m    \u001b[49m\u001b[43mtensors\u001b[49m\u001b[43m,\u001b[49m\n\u001b[0;32m    291\u001b[0m \u001b[43m    \u001b[49m\u001b[43mgrad_tensors_\u001b[49m\u001b[43m,\u001b[49m\n\u001b[0;32m    292\u001b[0m \u001b[43m    \u001b[49m\u001b[43mretain_graph\u001b[49m\u001b[43m,\u001b[49m\n\u001b[0;32m    293\u001b[0m \u001b[43m    \u001b[49m\u001b[43mcreate_graph\u001b[49m\u001b[43m,\u001b[49m\n\u001b[0;32m    294\u001b[0m \u001b[43m    \u001b[49m\u001b[43minputs\u001b[49m\u001b[43m,\u001b[49m\n\u001b[0;32m    295\u001b[0m \u001b[43m    \u001b[49m\u001b[43mallow_unreachable\u001b[49m\u001b[38;5;241;43m=\u001b[39;49m\u001b[38;5;28;43;01mTrue\u001b[39;49;00m\u001b[43m,\u001b[49m\n\u001b[0;32m    296\u001b[0m \u001b[43m    \u001b[49m\u001b[43maccumulate_grad\u001b[49m\u001b[38;5;241;43m=\u001b[39;49m\u001b[38;5;28;43;01mTrue\u001b[39;49;00m\u001b[43m,\u001b[49m\n\u001b[0;32m    297\u001b[0m \u001b[43m\u001b[49m\u001b[43m)\u001b[49m\n",
      "File \u001b[1;32m~\\AppData\\Roaming\\Python\\Python311\\site-packages\\torch\\autograd\\graph.py:769\u001b[0m, in \u001b[0;36m_engine_run_backward\u001b[1;34m(t_outputs, *args, **kwargs)\u001b[0m\n\u001b[0;32m    767\u001b[0m     unregister_hooks \u001b[38;5;241m=\u001b[39m _register_logging_hooks_on_whole_graph(t_outputs)\n\u001b[0;32m    768\u001b[0m \u001b[38;5;28;01mtry\u001b[39;00m:\n\u001b[1;32m--> 769\u001b[0m     \u001b[38;5;28;01mreturn\u001b[39;00m \u001b[43mVariable\u001b[49m\u001b[38;5;241;43m.\u001b[39;49m\u001b[43m_execution_engine\u001b[49m\u001b[38;5;241;43m.\u001b[39;49m\u001b[43mrun_backward\u001b[49m\u001b[43m(\u001b[49m\u001b[43m  \u001b[49m\u001b[38;5;66;43;03m# Calls into the C++ engine to run the backward pass\u001b[39;49;00m\n\u001b[0;32m    770\u001b[0m \u001b[43m        \u001b[49m\u001b[43mt_outputs\u001b[49m\u001b[43m,\u001b[49m\u001b[43m \u001b[49m\u001b[38;5;241;43m*\u001b[39;49m\u001b[43margs\u001b[49m\u001b[43m,\u001b[49m\u001b[43m \u001b[49m\u001b[38;5;241;43m*\u001b[39;49m\u001b[38;5;241;43m*\u001b[39;49m\u001b[43mkwargs\u001b[49m\n\u001b[0;32m    771\u001b[0m \u001b[43m    \u001b[49m\u001b[43m)\u001b[49m  \u001b[38;5;66;03m# Calls into the C++ engine to run the backward pass\u001b[39;00m\n\u001b[0;32m    772\u001b[0m \u001b[38;5;28;01mfinally\u001b[39;00m:\n\u001b[0;32m    773\u001b[0m     \u001b[38;5;28;01mif\u001b[39;00m attach_logging_hooks:\n",
      "\u001b[1;31mKeyboardInterrupt\u001b[0m: "
     ]
    }
   ],
   "source": [
    "import torch\n",
    "import torch.nn as nn\n",
    "import torch.optim as optim\n",
    "\n",
    "# Определение модели\n",
    "class FullyConnectedNN(nn.Module):\n",
    "    def __init__(self):\n",
    "        super(FullyConnectedNN, self).__init__()\n",
    "        self.fc1 = nn.Linear(900, 1000)\n",
    "        self.fc2 = nn.Linear(1000, 1000)\n",
    "        self.fc3 = nn.Linear(1000, 1)\n",
    "        self.relu = nn.ReLU()\n",
    "\n",
    "    def forward(self, x):\n",
    "        x = self.relu(self.fc1(x))\n",
    "        x = self.fc3(x)  # Выходной слой без активации\n",
    "        return x\n",
    "\n",
    "# Инициализация модели, функции потерь и оптимизатора\n",
    "model_nn_z1 = FullyConnectedNN()\n",
    "criterion = nn.MSELoss()\n",
    "optimizer = optim.Adam(model_nn_z1.parameters(), lr=0.001)\n",
    "\n",
    "# Пример данных\n",
    "# Замените на ваши данные\n",
    "\n",
    "# Цикл обучения\n",
    "num_epochs = 20  # Количество эпох\n",
    "batch_size = 32\n",
    "LOSS=[]\n",
    "for epoch in trange(num_epochs):\n",
    "    l_s=0\n",
    "    for i in range(0, len(y_train), batch_size):\n",
    "        model_nn_z1.train()  # Установка модели в режим обучения\n",
    "    \n",
    "        # Прямой проход\n",
    "        outputs = model_nn_z1(X_train[i:i+batch_size])\n",
    "        loss = criterion(outputs.flatten(), y_train[i:i+batch_size])\n",
    "    \n",
    "        # Обратный проход и оптимизация\n",
    "        optimizer.zero_grad()  # Обнуление градиентов\n",
    "        loss.backward()        # Вычисление градиентов\n",
    "        optimizer.step()       # Обновление весов\n",
    "    \n",
    "        # Вывод информации о ходе обучения\n",
    "        l_s+=loss*batch_size/len(y_train)\n",
    "    LOSS.append(l_s.detach().numpy())\n"
   ]
  },
  {
   "cell_type": "code",
   "execution_count": null,
   "id": "ec4ca1e2-270d-44fe-a9b9-9c10a65a44d9",
   "metadata": {},
   "outputs": [],
   "source": [
    "import matplotlib.pyplot as plt\n",
    "plt.plot(LOSS)"
   ]
  },
  {
   "cell_type": "code",
   "execution_count": 64,
   "id": "44b6877d-3846-443d-a4ab-af471d7a53c6",
   "metadata": {},
   "outputs": [
    {
     "ename": "NameError",
     "evalue": "name 'VALIDATION' is not defined",
     "output_type": "error",
     "traceback": [
      "\u001b[1;31m---------------------------------------------------------------------------\u001b[0m",
      "\u001b[1;31mNameError\u001b[0m                                 Traceback (most recent call last)",
      "Cell \u001b[1;32mIn[64], line 1\u001b[0m\n\u001b[1;32m----> 1\u001b[0m \u001b[43mVALIDATION\u001b[49m\n",
      "\u001b[1;31mNameError\u001b[0m: name 'VALIDATION' is not defined"
     ]
    }
   ],
   "source": [
    "VALIDATION"
   ]
  },
  {
   "cell_type": "code",
   "execution_count": 75,
   "id": "b4a2d7a7-7e07-4f92-af35-fc50c63d7ff8",
   "metadata": {},
   "outputs": [
    {
     "data": {
      "application/vnd.jupyter.widget-view+json": {
       "model_id": "449f036d0e534ec4b7665f87f2230a14",
       "version_major": 2,
       "version_minor": 0
      },
      "text/plain": [
       "  0%|          | 0/30 [00:00<?, ?it/s]"
      ]
     },
     "metadata": {},
     "output_type": "display_data"
    },
    {
     "data": {
      "application/vnd.jupyter.widget-view+json": {
       "model_id": "557f88e118ad4cf19cc179b0db303f48",
       "version_major": 2,
       "version_minor": 0
      },
      "text/plain": [
       "  0%|          | 0/30 [00:00<?, ?it/s]"
      ]
     },
     "metadata": {},
     "output_type": "display_data"
    }
   ],
   "source": []
  },
  {
   "cell_type": "code",
   "execution_count": 134,
   "id": "d149795f-426e-4c9e-9b5a-7a3052852531",
   "metadata": {},
   "outputs": [
    {
     "data": {
      "application/vnd.jupyter.widget-view+json": {
       "model_id": "19dc8df52c7a434197e7bcccc78dc477",
       "version_major": 2,
       "version_minor": 0
      },
      "text/plain": [
       "  0%|          | 0/853 [00:00<?, ?it/s]"
      ]
     },
     "metadata": {},
     "output_type": "display_data"
    }
   ],
   "source": [
    "X_val = []\n",
    "y_val = []\n",
    "for user in trange(df_z_val.shape[0]):\n",
    "    for item in range(df_z_val.shape[1]):\n",
    "        if df_z_val[user, item] > 0:  # Проверяем наличие взаимодействия\n",
    "            #print(user_factors_z.shape,item_factors_z.shape, user_factors_s.shape)\n",
    "            X_val.append(np.concatenate((user_factors_z_val[user],item_factors_z_val[item],user_factors_s_val[user]), axis=0))  # Добавляем в X_train вектор пользователя\n",
    "            y_val.append(df_z_val[user, item])  # Добавляем значение в y_train\n",
    "        if len(X_val)>=50000:\n",
    "            break\n",
    "    if len(X_val)>=50000:\n",
    "            break\n",
    "              "
   ]
  },
  {
   "cell_type": "code",
   "execution_count": 135,
   "id": "70f6b09c-5c44-4448-935c-d316dc914918",
   "metadata": {},
   "outputs": [],
   "source": [
    "X_val = torch.tensor(np.array(X_val)).float()\n",
    "y_val = torch.tensor(np.array(y_val)).float()\n",
    "\n",
    "mean = y_val.mean()\n",
    "std = y_val.std()\n",
    "\n",
    "# Стандартизация\n",
    "y_val = (y_val - mean) / std"
   ]
  },
  {
   "cell_type": "code",
   "execution_count": 140,
   "id": "2f89de63-6ab5-4e67-9b0e-20d8dde563ef",
   "metadata": {},
   "outputs": [],
   "source": [
    "model_nn_z1.eval()  # Устанавливаем модель в режим оценки\n",
    "total_loss = 0.0\n",
    "\n",
    "with torch.no_grad():  # Отключаем градиенты для валидации\n",
    "    for i in range(0, len(y_val), batch_size):         \n",
    "        outputs = model_nn_z1(X_val[i:i+batch_size])  # Получаем предсказания модели\n",
    "        loss = criterion(outputs.flatten(), y_val[i:i+batch_size])  # Вычисляем потерю\n",
    "        total_loss += loss.item() \n",
    "\n",
    "average_loss = total_loss*batch_size / len(y_val)  # Средняя потеря"
   ]
  },
  {
   "cell_type": "code",
   "execution_count": 141,
   "id": "a6e33e6f-2ab1-443f-a33e-efd76e9783cd",
   "metadata": {},
   "outputs": [
    {
     "data": {
      "text/plain": [
       "5.76751309203662"
      ]
     },
     "execution_count": 141,
     "metadata": {},
     "output_type": "execute_result"
    }
   ],
   "source": [
    "average_loss"
   ]
  },
  {
   "cell_type": "code",
   "execution_count": 142,
   "id": "232b4839-9e91-49b7-82d6-fdb8646e74ee",
   "metadata": {},
   "outputs": [
    {
     "data": {
      "text/plain": [
       "tensor([-1.8046, -1.6832, -1.7683, -1.7708, -1.8032, -1.6676, -1.7337, -1.5873,\n",
       "         0.4780,  0.3049,  0.5841,  0.6153,  1.0681, -0.6134,  0.1281, -0.2657])"
      ]
     },
     "execution_count": 142,
     "metadata": {},
     "output_type": "execute_result"
    }
   ],
   "source": [
    "outputs.flatten()"
   ]
  },
  {
   "cell_type": "code",
   "execution_count": null,
   "id": "3d175ee2-b1fa-475c-bf27-47a610247043",
   "metadata": {},
   "outputs": [],
   "source": []
  },
  {
   "cell_type": "code",
   "execution_count": null,
   "id": "a7dc5c5b-5b26-45be-b986-e228f07d87be",
   "metadata": {},
   "outputs": [],
   "source": []
  },
  {
   "cell_type": "code",
   "execution_count": 55,
   "id": "4242c025-abb8-4782-851c-2bdaeb61c388",
   "metadata": {},
   "outputs": [
    {
     "data": {
      "application/vnd.jupyter.widget-view+json": {
       "model_id": "2ea2f1825aea4ee8923c3648e9b08046",
       "version_major": 2,
       "version_minor": 0
      },
      "text/plain": [
       "  0%|          | 0/30 [00:00<?, ?it/s]"
      ]
     },
     "metadata": {},
     "output_type": "display_data"
    },
    {
     "data": {
      "application/vnd.jupyter.widget-view+json": {
       "model_id": "9e0d73768c5f4a7bbdea74082c42a14d",
       "version_major": 2,
       "version_minor": 0
      },
      "text/plain": [
       "  0%|          | 0/30 [00:00<?, ?it/s]"
      ]
     },
     "metadata": {},
     "output_type": "display_data"
    }
   ],
   "source": [
    "\n"
   ]
  },
  {
   "cell_type": "code",
   "execution_count": 84,
   "id": "ca810ae2-1201-45d7-b659-5d214ec9da5c",
   "metadata": {},
   "outputs": [
    {
     "data": {
      "application/vnd.jupyter.widget-view+json": {
       "model_id": "63c95250bebf4937b1ca4f05604d89e9",
       "version_major": 2,
       "version_minor": 0
      },
      "text/plain": [
       "  0%|          | 0/35278 [00:00<?, ?it/s]"
      ]
     },
     "metadata": {},
     "output_type": "display_data"
    }
   ],
   "source": [
    "df_s = train_s_csr\n",
    "X_train = []\n",
    "y_train = []\n",
    "for user in trange(df_s.shape[0]):\n",
    "    for item in range(df_s.shape[1]):\n",
    "        if df_s[user, item] > 0:  # Проверяем наличие взаимодействия\n",
    "            #print(user_factors_z.shape,item_factors_z.shape, user_factors_s.shape)\n",
    "            X_train.append(np.concatenate((user_factors_z[user],item_factors_s[item],user_factors_s[user]), axis=0))  # Добавляем в X_train вектор пользователя\n",
    "            y_train.append(df_s[user, item])  # Добавляем значение в y_train\n",
    "        if len(X_train)>=25000:\n",
    "            break\n",
    "    if len(X_train)>=25000:\n",
    "            break"
   ]
  },
  {
   "cell_type": "code",
   "execution_count": 85,
   "id": "07f2bf6f-9c9e-4506-ae70-2d91c07137ac",
   "metadata": {},
   "outputs": [
    {
     "data": {
      "text/plain": [
       "25000"
      ]
     },
     "execution_count": 85,
     "metadata": {},
     "output_type": "execute_result"
    }
   ],
   "source": [
    "len(X_train)"
   ]
  },
  {
   "cell_type": "code",
   "execution_count": 86,
   "id": "8cbdc21f-91a6-4b00-bec8-59f4db5f7910",
   "metadata": {},
   "outputs": [],
   "source": [
    "X_train = torch.tensor(np.array(X_train)).float()\n",
    "y_train = torch.tensor(np.array(y_train)).float()\n",
    "\n",
    "mean = y_train.mean()\n",
    "std = y_train.std()\n",
    "\n",
    "# Стандартизация\n",
    "y_train = (y_train - mean) / std"
   ]
  },
  {
   "cell_type": "code",
   "execution_count": 87,
   "id": "ac67bdf3-1be4-467f-b6a1-c68aa966dfaa",
   "metadata": {},
   "outputs": [
    {
     "data": {
      "application/vnd.jupyter.widget-view+json": {
       "model_id": "818d2814c0ed484ab5ae31ab380fc8a7",
       "version_major": 2,
       "version_minor": 0
      },
      "text/plain": [
       "  0%|          | 0/200 [00:00<?, ?it/s]"
      ]
     },
     "metadata": {},
     "output_type": "display_data"
    }
   ],
   "source": [
    "import torch\n",
    "import torch.nn as nn\n",
    "import torch.optim as optim\n",
    "\n",
    "# Определение модели\n",
    "class FullyConnectedNN(nn.Module):\n",
    "    def __init__(self):\n",
    "        super(FullyConnectedNN, self).__init__()\n",
    "        self.fc1 = nn.Linear(900, 1000)\n",
    "        self.fc3 = nn.Linear(1000, 1)\n",
    "        self.relu = nn.ReLU()\n",
    "\n",
    "    def forward(self, x):\n",
    "        x = self.relu(self.fc1(x))\n",
    "        x = self.fc3(x)  # Выходной слой без активации\n",
    "        return x\n",
    "\n",
    "# Инициализация модели, функции потерь и оптимизатора\n",
    "model_nn_s1 = FullyConnectedNN()\n",
    "criterion = nn.MSELoss()\n",
    "optimizer = optim.Adam(model_nn_s1.parameters(), lr=0.001)\n",
    "\n",
    "# Пример данных\n",
    "# Замените на ваши данные\n",
    "\n",
    "# Цикл обучения\n",
    "num_epochs = 200  # Количество эпох\n",
    "batch_size = 32\n",
    "LOSS=[]\n",
    "for epoch in trange(num_epochs):\n",
    "    l_s=0\n",
    "    for i in range(0, len(y_train), batch_size):\n",
    "        model_nn_s1.train()  # Установка модели в режим обучения\n",
    "    \n",
    "        # Прямой проход\n",
    "        outputs = model_nn_s1(X_train[i:i+batch_size])\n",
    "        loss = criterion(outputs.flatten(), y_train[i:i+batch_size])\n",
    "    \n",
    "        # Обратный проход и оптимизация\n",
    "        optimizer.zero_grad()  # Обнуление градиентов\n",
    "        loss.backward()        # Вычисление градиентов\n",
    "        optimizer.step()       # Обновление весов\n",
    "    \n",
    "        # Вывод информации о ходе обучения\n",
    "        l_s+=loss*batch_size/len(y_train)\n",
    "    LOSS.append(l_s.detach().numpy())\n"
   ]
  },
  {
   "cell_type": "code",
   "execution_count": 88,
   "id": "ece97592-99b6-485b-8a56-b572aa542c53",
   "metadata": {},
   "outputs": [
    {
     "data": {
      "text/plain": [
       "[<matplotlib.lines.Line2D at 0x2153d172d10>]"
      ]
     },
     "execution_count": 88,
     "metadata": {},
     "output_type": "execute_result"
    },
    {
     "data": {
      "image/png": "[encoded data removed]",
      "text/plain": [
       "<Figure size 640x480 with 1 Axes>"
      ]
     },
     "metadata": {},
     "output_type": "display_data"
    }
   ],
   "source": [
    "import matplotlib.pyplot as plt\n",
    "plt.plot(LOSS)"
   ]
  },
  {
   "cell_type": "code",
   "execution_count": 92,
   "id": "3a6fa732-175c-404f-a2fe-1f72043c402e",
   "metadata": {},
   "outputs": [],
   "source": [
    "X_val = torch.tensor(np.array(X_val)).float()\n",
    "y_val = torch.tensor(np.array(y_val)).float()\n",
    "\n",
    "mean = y_val.mean()\n",
    "std = y_val.std()\n",
    "\n",
    "# Стандартизация\n",
    "y_val = (y_val - mean) / std"
   ]
  },
  {
   "cell_type": "code",
   "execution_count": 95,
   "id": "531a0ca1-88e6-455c-ae0a-a742fe0e1883",
   "metadata": {},
   "outputs": [],
   "source": [
    "model_nn_s1.eval()  # Устанавливаем модель в режим оценки\n",
    "total_loss = 0.0\n",
    "\n",
    "with torch.no_grad():  # Отключаем градиенты для валидации\n",
    "    for i in range(0, len(y_val), batch_size):         \n",
    "        outputs = model_nn_s1(X_val[i:i+batch_size])  # Получаем предсказания модели\n",
    "        loss = criterion(outputs.flatten(), y_val[i:i+batch_size])  # Вычисляем потерю\n",
    "        total_loss += loss.item() \n",
    "\n",
    "average_loss = total_loss*batch_size / len(y_val)  # Средняя потеря"
   ]
  },
  {
   "cell_type": "code",
   "execution_count": 96,
   "id": "9aca548c-c4e0-495e-ba68-b4c6d115ba0c",
   "metadata": {},
   "outputs": [
    {
     "data": {
      "text/plain": [
       "35.314860303316784"
      ]
     },
     "execution_count": 96,
     "metadata": {},
     "output_type": "execute_result"
    }
   ],
   "source": [
    "average_loss"
   ]
  },
  {
   "cell_type": "code",
   "execution_count": null,
   "id": "7ccdf3d2-6573-4bca-9e0d-5f1a63e989ef",
   "metadata": {},
   "outputs": [],
   "source": []
  },
  {
   "cell_type": "code",
   "execution_count": null,
   "id": "b64b0529-7289-4ee0-9af3-e928d2d639ac",
   "metadata": {},
   "outputs": [],
   "source": []
  },
  {
   "cell_type": "code",
   "execution_count": 144,
   "id": "4b5ee26e-d367-4411-925a-3e5f75a62062",
   "metadata": {},
   "outputs": [],
   "source": [
    "u_ids_z = set(train_zvuk.user_id.unique())\n",
    "u_ids_s = set(test_zvuk.user_id.unique())\n",
    "US_ID = u_ids_z.intersection(u_ids_s)\n",
    "US_VAL = u_ids_z - u_ids_s\n"
   ]
  },
  {
   "cell_type": "code",
   "execution_count": 145,
   "id": "9d11e479-5f23-4b1e-98b5-5d6f13149108",
   "metadata": {},
   "outputs": [],
   "source": [
    "val_zvuk = train_zvuk[train_zvuk['user_id'].isin(US_VAL)].sort_values(by='user_id', ascending=False)\n",
    "\n",
    "train_z = train_zvuk[train_zvuk['user_id'].isin(US_ID)].sort_values(by='user_id', ascending=False)\n",
    "\n",
    "\n",
    "\n",
    "val_zvuk_csr = pivot_csr(val_zvuk)\n",
    "\n",
    "train_z_csr = pivot_csr(train_z)\n"
   ]
  },
  {
   "cell_type": "code",
   "execution_count": 146,
   "id": "f4e0e6f2-c19e-445c-9acc-bae1cb760581",
   "metadata": {},
   "outputs": [
    {
     "data": {
      "application/vnd.jupyter.widget-view+json": {
       "model_id": "400975966373475da9b31807362e29e4",
       "version_major": 2,
       "version_minor": 0
      },
      "text/plain": [
       "  0%|          | 0/30 [00:00<?, ?it/s]"
      ]
     },
     "metadata": {},
     "output_type": "display_data"
    },
    {
     "data": {
      "application/vnd.jupyter.widget-view+json": {
       "model_id": "1eed762cc6a0467287846a1bcb7d25b2",
       "version_major": 2,
       "version_minor": 0
      },
      "text/plain": [
       "  0%|          | 0/30 [00:00<?, ?it/s]"
      ]
     },
     "metadata": {},
     "output_type": "display_data"
    }
   ],
   "source": [
    "df_z = train_z_csr\n",
    "R = df_z\n",
    "model = implicit.als.AlternatingLeastSquares(factors=300, regularization=0.01, iterations=30)\n",
    "model.fit(R)\n",
    "user_factors_z = model.user_factors  # Размер (num_users, 10)\n",
    "item_factors_z = model.item_factors  # Размер (num_items, 10)\n",
    "df_z_val = val_zvuk_csr\n",
    "R = df_z_val\n",
    "model = implicit.als.AlternatingLeastSquares(factors=300, regularization=0.01, iterations=30)\n",
    "model.fit(R)\n",
    "user_factors_z_val = model.user_factors  # Размер (num_users, 10)\n",
    "item_factors_z_val = model.item_factors  # Размер (num_items, 10)"
   ]
  },
  {
   "cell_type": "code",
   "execution_count": 147,
   "id": "03fcb5f7-7c96-47ba-850c-2fa93ac3ae82",
   "metadata": {},
   "outputs": [
    {
     "data": {
      "application/vnd.jupyter.widget-view+json": {
       "model_id": "39bd0ba0838e44f787e258c0e2607951",
       "version_major": 2,
       "version_minor": 0
      },
      "text/plain": [
       "  0%|          | 0/118057 [00:00<?, ?it/s]"
      ]
     },
     "metadata": {},
     "output_type": "display_data"
    },
    {
     "ename": "KeyboardInterrupt",
     "evalue": "",
     "output_type": "error",
     "traceback": [
      "\u001b[1;31m---------------------------------------------------------------------------\u001b[0m",
      "\u001b[1;31mKeyboardInterrupt\u001b[0m                         Traceback (most recent call last)",
      "Cell \u001b[1;32mIn[147], line 5\u001b[0m\n\u001b[0;32m      3\u001b[0m \u001b[38;5;28;01mfor\u001b[39;00m user \u001b[38;5;129;01min\u001b[39;00m trange(df_z\u001b[38;5;241m.\u001b[39mshape[\u001b[38;5;241m0\u001b[39m]):\n\u001b[0;32m      4\u001b[0m     \u001b[38;5;28;01mfor\u001b[39;00m item \u001b[38;5;129;01min\u001b[39;00m \u001b[38;5;28mrange\u001b[39m(df_z\u001b[38;5;241m.\u001b[39mshape[\u001b[38;5;241m1\u001b[39m]):\n\u001b[1;32m----> 5\u001b[0m         \u001b[38;5;28;01mif\u001b[39;00m \u001b[43mdf_z\u001b[49m\u001b[43m[\u001b[49m\u001b[43muser\u001b[49m\u001b[43m,\u001b[49m\u001b[43m \u001b[49m\u001b[43mitem\u001b[49m\u001b[43m]\u001b[49m \u001b[38;5;241m>\u001b[39m \u001b[38;5;241m0\u001b[39m:  \u001b[38;5;66;03m# Проверяем наличие взаимодействия\u001b[39;00m\n\u001b[0;32m      6\u001b[0m             \u001b[38;5;66;03m#print(user_factors_z.shape,item_factors_z.shape, user_factors_s.shape)\u001b[39;00m\n\u001b[0;32m      7\u001b[0m             X_train\u001b[38;5;241m.\u001b[39mappend(np\u001b[38;5;241m.\u001b[39mconcatenate((user_factors_z[user],item_factors_z[item]), axis\u001b[38;5;241m=\u001b[39m\u001b[38;5;241m0\u001b[39m))  \u001b[38;5;66;03m# Добавляем в X_train вектор пользователя\u001b[39;00m\n\u001b[0;32m      8\u001b[0m             y_train\u001b[38;5;241m.\u001b[39mappend(df_z[user, item])  \u001b[38;5;66;03m# Добавляем значение в y_train\u001b[39;00m\n",
      "File \u001b[1;32m~\\AppData\\Roaming\\Python\\Python311\\site-packages\\scipy\\sparse\\_index.py:52\u001b[0m, in \u001b[0;36mIndexMixin.__getitem__\u001b[1;34m(self, key)\u001b[0m\n\u001b[0;32m     50\u001b[0m \u001b[38;5;28;01mif\u001b[39;00m \u001b[38;5;28misinstance\u001b[39m(row, INT_TYPES):\n\u001b[0;32m     51\u001b[0m     \u001b[38;5;28;01mif\u001b[39;00m \u001b[38;5;28misinstance\u001b[39m(col, INT_TYPES):\n\u001b[1;32m---> 52\u001b[0m         \u001b[38;5;28;01mreturn\u001b[39;00m \u001b[38;5;28;43mself\u001b[39;49m\u001b[38;5;241;43m.\u001b[39;49m\u001b[43m_get_intXint\u001b[49m\u001b[43m(\u001b[49m\u001b[43mrow\u001b[49m\u001b[43m,\u001b[49m\u001b[43m \u001b[49m\u001b[43mcol\u001b[49m\u001b[43m)\u001b[49m\n\u001b[0;32m     53\u001b[0m     \u001b[38;5;28;01melif\u001b[39;00m \u001b[38;5;28misinstance\u001b[39m(col, \u001b[38;5;28mslice\u001b[39m):\n\u001b[0;32m     54\u001b[0m         \u001b[38;5;28mself\u001b[39m\u001b[38;5;241m.\u001b[39m_raise_on_1d_array_slice()\n",
      "File \u001b[1;32m~\\AppData\\Roaming\\Python\\Python311\\site-packages\\scipy\\sparse\\_compressed.py:657\u001b[0m, in \u001b[0;36m_cs_matrix._get_intXint\u001b[1;34m(self, row, col)\u001b[0m\n\u001b[0;32m    655\u001b[0m M, N \u001b[38;5;241m=\u001b[39m \u001b[38;5;28mself\u001b[39m\u001b[38;5;241m.\u001b[39m_swap(\u001b[38;5;28mself\u001b[39m\u001b[38;5;241m.\u001b[39mshape)\n\u001b[0;32m    656\u001b[0m major, minor \u001b[38;5;241m=\u001b[39m \u001b[38;5;28mself\u001b[39m\u001b[38;5;241m.\u001b[39m_swap((row, col))\n\u001b[1;32m--> 657\u001b[0m indptr, indices, data \u001b[38;5;241m=\u001b[39m \u001b[43mget_csr_submatrix\u001b[49m\u001b[43m(\u001b[49m\n\u001b[0;32m    658\u001b[0m \u001b[43m    \u001b[49m\u001b[43mM\u001b[49m\u001b[43m,\u001b[49m\u001b[43m \u001b[49m\u001b[43mN\u001b[49m\u001b[43m,\u001b[49m\u001b[43m \u001b[49m\u001b[38;5;28;43mself\u001b[39;49m\u001b[38;5;241;43m.\u001b[39;49m\u001b[43mindptr\u001b[49m\u001b[43m,\u001b[49m\u001b[43m \u001b[49m\u001b[38;5;28;43mself\u001b[39;49m\u001b[38;5;241;43m.\u001b[39;49m\u001b[43mindices\u001b[49m\u001b[43m,\u001b[49m\u001b[43m \u001b[49m\u001b[38;5;28;43mself\u001b[39;49m\u001b[38;5;241;43m.\u001b[39;49m\u001b[43mdata\u001b[49m\u001b[43m,\u001b[49m\n\u001b[0;32m    659\u001b[0m \u001b[43m    \u001b[49m\u001b[43mmajor\u001b[49m\u001b[43m,\u001b[49m\u001b[43m \u001b[49m\u001b[43mmajor\u001b[49m\u001b[43m \u001b[49m\u001b[38;5;241;43m+\u001b[39;49m\u001b[43m \u001b[49m\u001b[38;5;241;43m1\u001b[39;49m\u001b[43m,\u001b[49m\u001b[43m \u001b[49m\u001b[43mminor\u001b[49m\u001b[43m,\u001b[49m\u001b[43m \u001b[49m\u001b[43mminor\u001b[49m\u001b[43m \u001b[49m\u001b[38;5;241;43m+\u001b[39;49m\u001b[43m \u001b[49m\u001b[38;5;241;43m1\u001b[39;49m\u001b[43m)\u001b[49m\n\u001b[0;32m    660\u001b[0m \u001b[38;5;28;01mreturn\u001b[39;00m data\u001b[38;5;241m.\u001b[39msum(dtype\u001b[38;5;241m=\u001b[39m\u001b[38;5;28mself\u001b[39m\u001b[38;5;241m.\u001b[39mdtype)\n",
      "\u001b[1;31mKeyboardInterrupt\u001b[0m: "
     ]
    }
   ],
   "source": [
    "X_train = []\n",
    "y_train = []\n",
    "for user in trange(df_z.shape[0]):\n",
    "    for item in range(df_z.shape[1]):\n",
    "        if df_z[user, item] > 0:  # Проверяем наличие взаимодействия\n",
    "            #print(user_factors_z.shape,item_factors_z.shape, user_factors_s.shape)\n",
    "            X_train.append(np.concatenate((user_factors_z[user],item_factors_z[item]), axis=0))  # Добавляем в X_train вектор пользователя\n",
    "            y_train.append(df_z[user, item])  # Добавляем значение в y_train\n",
    "        if len(X_train)>=50000:\n",
    "            break\n",
    "    if len(X_train)>=50000:\n",
    "            break\n",
    "              "
   ]
  },
  {
   "cell_type": "code",
   "execution_count": 148,
   "id": "27bf9158-7589-49bb-a6bb-238bd83de157",
   "metadata": {},
   "outputs": [],
   "source": [
    "X_train = torch.tensor(np.array(X_train)).float()\n",
    "\n",
    "y_train = torch.tensor(np.array(y_train)).float()\n",
    "\n",
    "mean = y_train.mean()\n",
    "std = y_train.std()\n",
    "\n",
    "# Стандартизация\n",
    "y_train = (y_train - mean) / std"
   ]
  },
  {
   "cell_type": "code",
   "execution_count": 149,
   "id": "1a359c65-3926-4fa6-95d2-a8fcce26f1fd",
   "metadata": {},
   "outputs": [
    {
     "data": {
      "application/vnd.jupyter.widget-view+json": {
       "model_id": "b8bc8e354a9342f88c3b8359b292479e",
       "version_major": 2,
       "version_minor": 0
      },
      "text/plain": [
       "  0%|          | 0/200 [00:00<?, ?it/s]"
      ]
     },
     "metadata": {},
     "output_type": "display_data"
    },
    {
     "ename": "KeyboardInterrupt",
     "evalue": "",
     "output_type": "error",
     "traceback": [
      "\u001b[1;31m---------------------------------------------------------------------------\u001b[0m",
      "\u001b[1;31mKeyboardInterrupt\u001b[0m                         Traceback (most recent call last)",
      "Cell \u001b[1;32mIn[149], line 43\u001b[0m\n\u001b[0;32m     41\u001b[0m optimizer\u001b[38;5;241m.\u001b[39mzero_grad()  \u001b[38;5;66;03m# Обнуление градиентов\u001b[39;00m\n\u001b[0;32m     42\u001b[0m loss\u001b[38;5;241m.\u001b[39mbackward()        \u001b[38;5;66;03m# Вычисление градиентов\u001b[39;00m\n\u001b[1;32m---> 43\u001b[0m \u001b[43moptimizer\u001b[49m\u001b[38;5;241;43m.\u001b[39;49m\u001b[43mstep\u001b[49m\u001b[43m(\u001b[49m\u001b[43m)\u001b[49m       \u001b[38;5;66;03m# Обновление весов\u001b[39;00m\n\u001b[0;32m     45\u001b[0m \u001b[38;5;66;03m# Вывод информации о ходе обучения\u001b[39;00m\n\u001b[0;32m     46\u001b[0m l_s\u001b[38;5;241m+\u001b[39m\u001b[38;5;241m=\u001b[39mloss\u001b[38;5;241m*\u001b[39mbatch_size\u001b[38;5;241m/\u001b[39m\u001b[38;5;28mlen\u001b[39m(y_train)\n",
      "File \u001b[1;32m~\\AppData\\Roaming\\Python\\Python311\\site-packages\\torch\\optim\\optimizer.py:484\u001b[0m, in \u001b[0;36mOptimizer.profile_hook_step.<locals>.wrapper\u001b[1;34m(*args, **kwargs)\u001b[0m\n\u001b[0;32m    479\u001b[0m         \u001b[38;5;28;01melse\u001b[39;00m:\n\u001b[0;32m    480\u001b[0m             \u001b[38;5;28;01mraise\u001b[39;00m \u001b[38;5;167;01mRuntimeError\u001b[39;00m(\n\u001b[0;32m    481\u001b[0m                 \u001b[38;5;124mf\u001b[39m\u001b[38;5;124m\"\u001b[39m\u001b[38;5;132;01m{\u001b[39;00mfunc\u001b[38;5;132;01m}\u001b[39;00m\u001b[38;5;124m must return None or a tuple of (new_args, new_kwargs), but got \u001b[39m\u001b[38;5;132;01m{\u001b[39;00mresult\u001b[38;5;132;01m}\u001b[39;00m\u001b[38;5;124m.\u001b[39m\u001b[38;5;124m\"\u001b[39m\n\u001b[0;32m    482\u001b[0m             )\n\u001b[1;32m--> 484\u001b[0m out \u001b[38;5;241m=\u001b[39m \u001b[43mfunc\u001b[49m\u001b[43m(\u001b[49m\u001b[38;5;241;43m*\u001b[39;49m\u001b[43margs\u001b[49m\u001b[43m,\u001b[49m\u001b[43m \u001b[49m\u001b[38;5;241;43m*\u001b[39;49m\u001b[38;5;241;43m*\u001b[39;49m\u001b[43mkwargs\u001b[49m\u001b[43m)\u001b[49m\n\u001b[0;32m    485\u001b[0m \u001b[38;5;28mself\u001b[39m\u001b[38;5;241m.\u001b[39m_optimizer_step_code()\n\u001b[0;32m    487\u001b[0m \u001b[38;5;66;03m# call optimizer step post hooks\u001b[39;00m\n",
      "File \u001b[1;32m~\\AppData\\Roaming\\Python\\Python311\\site-packages\\torch\\optim\\optimizer.py:89\u001b[0m, in \u001b[0;36m_use_grad_for_differentiable.<locals>._use_grad\u001b[1;34m(self, *args, **kwargs)\u001b[0m\n\u001b[0;32m     87\u001b[0m     torch\u001b[38;5;241m.\u001b[39mset_grad_enabled(\u001b[38;5;28mself\u001b[39m\u001b[38;5;241m.\u001b[39mdefaults[\u001b[38;5;124m\"\u001b[39m\u001b[38;5;124mdifferentiable\u001b[39m\u001b[38;5;124m\"\u001b[39m])\n\u001b[0;32m     88\u001b[0m     torch\u001b[38;5;241m.\u001b[39m_dynamo\u001b[38;5;241m.\u001b[39mgraph_break()\n\u001b[1;32m---> 89\u001b[0m     ret \u001b[38;5;241m=\u001b[39m \u001b[43mfunc\u001b[49m\u001b[43m(\u001b[49m\u001b[38;5;28;43mself\u001b[39;49m\u001b[43m,\u001b[49m\u001b[43m \u001b[49m\u001b[38;5;241;43m*\u001b[39;49m\u001b[43margs\u001b[49m\u001b[43m,\u001b[49m\u001b[43m \u001b[49m\u001b[38;5;241;43m*\u001b[39;49m\u001b[38;5;241;43m*\u001b[39;49m\u001b[43mkwargs\u001b[49m\u001b[43m)\u001b[49m\n\u001b[0;32m     90\u001b[0m \u001b[38;5;28;01mfinally\u001b[39;00m:\n\u001b[0;32m     91\u001b[0m     torch\u001b[38;5;241m.\u001b[39m_dynamo\u001b[38;5;241m.\u001b[39mgraph_break()\n",
      "File \u001b[1;32m~\\AppData\\Roaming\\Python\\Python311\\site-packages\\torch\\optim\\adam.py:226\u001b[0m, in \u001b[0;36mAdam.step\u001b[1;34m(self, closure)\u001b[0m\n\u001b[0;32m    214\u001b[0m     beta1, beta2 \u001b[38;5;241m=\u001b[39m group[\u001b[38;5;124m\"\u001b[39m\u001b[38;5;124mbetas\u001b[39m\u001b[38;5;124m\"\u001b[39m]\n\u001b[0;32m    216\u001b[0m     has_complex \u001b[38;5;241m=\u001b[39m \u001b[38;5;28mself\u001b[39m\u001b[38;5;241m.\u001b[39m_init_group(\n\u001b[0;32m    217\u001b[0m         group,\n\u001b[0;32m    218\u001b[0m         params_with_grad,\n\u001b[1;32m   (...)\u001b[0m\n\u001b[0;32m    223\u001b[0m         state_steps,\n\u001b[0;32m    224\u001b[0m     )\n\u001b[1;32m--> 226\u001b[0m     \u001b[43madam\u001b[49m\u001b[43m(\u001b[49m\n\u001b[0;32m    227\u001b[0m \u001b[43m        \u001b[49m\u001b[43mparams_with_grad\u001b[49m\u001b[43m,\u001b[49m\n\u001b[0;32m    228\u001b[0m \u001b[43m        \u001b[49m\u001b[43mgrads\u001b[49m\u001b[43m,\u001b[49m\n\u001b[0;32m    229\u001b[0m \u001b[43m        \u001b[49m\u001b[43mexp_avgs\u001b[49m\u001b[43m,\u001b[49m\n\u001b[0;32m    230\u001b[0m \u001b[43m        \u001b[49m\u001b[43mexp_avg_sqs\u001b[49m\u001b[43m,\u001b[49m\n\u001b[0;32m    231\u001b[0m \u001b[43m        \u001b[49m\u001b[43mmax_exp_avg_sqs\u001b[49m\u001b[43m,\u001b[49m\n\u001b[0;32m    232\u001b[0m \u001b[43m        \u001b[49m\u001b[43mstate_steps\u001b[49m\u001b[43m,\u001b[49m\n\u001b[0;32m    233\u001b[0m \u001b[43m        \u001b[49m\u001b[43mamsgrad\u001b[49m\u001b[38;5;241;43m=\u001b[39;49m\u001b[43mgroup\u001b[49m\u001b[43m[\u001b[49m\u001b[38;5;124;43m\"\u001b[39;49m\u001b[38;5;124;43mamsgrad\u001b[39;49m\u001b[38;5;124;43m\"\u001b[39;49m\u001b[43m]\u001b[49m\u001b[43m,\u001b[49m\n\u001b[0;32m    234\u001b[0m \u001b[43m        \u001b[49m\u001b[43mhas_complex\u001b[49m\u001b[38;5;241;43m=\u001b[39;49m\u001b[43mhas_complex\u001b[49m\u001b[43m,\u001b[49m\n\u001b[0;32m    235\u001b[0m \u001b[43m        \u001b[49m\u001b[43mbeta1\u001b[49m\u001b[38;5;241;43m=\u001b[39;49m\u001b[43mbeta1\u001b[49m\u001b[43m,\u001b[49m\n\u001b[0;32m    236\u001b[0m \u001b[43m        \u001b[49m\u001b[43mbeta2\u001b[49m\u001b[38;5;241;43m=\u001b[39;49m\u001b[43mbeta2\u001b[49m\u001b[43m,\u001b[49m\n\u001b[0;32m    237\u001b[0m \u001b[43m        \u001b[49m\u001b[43mlr\u001b[49m\u001b[38;5;241;43m=\u001b[39;49m\u001b[43mgroup\u001b[49m\u001b[43m[\u001b[49m\u001b[38;5;124;43m\"\u001b[39;49m\u001b[38;5;124;43mlr\u001b[39;49m\u001b[38;5;124;43m\"\u001b[39;49m\u001b[43m]\u001b[49m\u001b[43m,\u001b[49m\n\u001b[0;32m    238\u001b[0m \u001b[43m        \u001b[49m\u001b[43mweight_decay\u001b[49m\u001b[38;5;241;43m=\u001b[39;49m\u001b[43mgroup\u001b[49m\u001b[43m[\u001b[49m\u001b[38;5;124;43m\"\u001b[39;49m\u001b[38;5;124;43mweight_decay\u001b[39;49m\u001b[38;5;124;43m\"\u001b[39;49m\u001b[43m]\u001b[49m\u001b[43m,\u001b[49m\n\u001b[0;32m    239\u001b[0m \u001b[43m        \u001b[49m\u001b[43meps\u001b[49m\u001b[38;5;241;43m=\u001b[39;49m\u001b[43mgroup\u001b[49m\u001b[43m[\u001b[49m\u001b[38;5;124;43m\"\u001b[39;49m\u001b[38;5;124;43meps\u001b[39;49m\u001b[38;5;124;43m\"\u001b[39;49m\u001b[43m]\u001b[49m\u001b[43m,\u001b[49m\n\u001b[0;32m    240\u001b[0m \u001b[43m        \u001b[49m\u001b[43mmaximize\u001b[49m\u001b[38;5;241;43m=\u001b[39;49m\u001b[43mgroup\u001b[49m\u001b[43m[\u001b[49m\u001b[38;5;124;43m\"\u001b[39;49m\u001b[38;5;124;43mmaximize\u001b[39;49m\u001b[38;5;124;43m\"\u001b[39;49m\u001b[43m]\u001b[49m\u001b[43m,\u001b[49m\n\u001b[0;32m    241\u001b[0m \u001b[43m        \u001b[49m\u001b[43mforeach\u001b[49m\u001b[38;5;241;43m=\u001b[39;49m\u001b[43mgroup\u001b[49m\u001b[43m[\u001b[49m\u001b[38;5;124;43m\"\u001b[39;49m\u001b[38;5;124;43mforeach\u001b[39;49m\u001b[38;5;124;43m\"\u001b[39;49m\u001b[43m]\u001b[49m\u001b[43m,\u001b[49m\n\u001b[0;32m    242\u001b[0m \u001b[43m        \u001b[49m\u001b[43mcapturable\u001b[49m\u001b[38;5;241;43m=\u001b[39;49m\u001b[43mgroup\u001b[49m\u001b[43m[\u001b[49m\u001b[38;5;124;43m\"\u001b[39;49m\u001b[38;5;124;43mcapturable\u001b[39;49m\u001b[38;5;124;43m\"\u001b[39;49m\u001b[43m]\u001b[49m\u001b[43m,\u001b[49m\n\u001b[0;32m    243\u001b[0m \u001b[43m        \u001b[49m\u001b[43mdifferentiable\u001b[49m\u001b[38;5;241;43m=\u001b[39;49m\u001b[43mgroup\u001b[49m\u001b[43m[\u001b[49m\u001b[38;5;124;43m\"\u001b[39;49m\u001b[38;5;124;43mdifferentiable\u001b[39;49m\u001b[38;5;124;43m\"\u001b[39;49m\u001b[43m]\u001b[49m\u001b[43m,\u001b[49m\n\u001b[0;32m    244\u001b[0m \u001b[43m        \u001b[49m\u001b[43mfused\u001b[49m\u001b[38;5;241;43m=\u001b[39;49m\u001b[43mgroup\u001b[49m\u001b[43m[\u001b[49m\u001b[38;5;124;43m\"\u001b[39;49m\u001b[38;5;124;43mfused\u001b[39;49m\u001b[38;5;124;43m\"\u001b[39;49m\u001b[43m]\u001b[49m\u001b[43m,\u001b[49m\n\u001b[0;32m    245\u001b[0m \u001b[43m        \u001b[49m\u001b[43mgrad_scale\u001b[49m\u001b[38;5;241;43m=\u001b[39;49m\u001b[38;5;28;43mgetattr\u001b[39;49m\u001b[43m(\u001b[49m\u001b[38;5;28;43mself\u001b[39;49m\u001b[43m,\u001b[49m\u001b[43m \u001b[49m\u001b[38;5;124;43m\"\u001b[39;49m\u001b[38;5;124;43mgrad_scale\u001b[39;49m\u001b[38;5;124;43m\"\u001b[39;49m\u001b[43m,\u001b[49m\u001b[43m \u001b[49m\u001b[38;5;28;43;01mNone\u001b[39;49;00m\u001b[43m)\u001b[49m\u001b[43m,\u001b[49m\n\u001b[0;32m    246\u001b[0m \u001b[43m        \u001b[49m\u001b[43mfound_inf\u001b[49m\u001b[38;5;241;43m=\u001b[39;49m\u001b[38;5;28;43mgetattr\u001b[39;49m\u001b[43m(\u001b[49m\u001b[38;5;28;43mself\u001b[39;49m\u001b[43m,\u001b[49m\u001b[43m \u001b[49m\u001b[38;5;124;43m\"\u001b[39;49m\u001b[38;5;124;43mfound_inf\u001b[39;49m\u001b[38;5;124;43m\"\u001b[39;49m\u001b[43m,\u001b[49m\u001b[43m \u001b[49m\u001b[38;5;28;43;01mNone\u001b[39;49;00m\u001b[43m)\u001b[49m\u001b[43m,\u001b[49m\n\u001b[0;32m    247\u001b[0m \u001b[43m    \u001b[49m\u001b[43m)\u001b[49m\n\u001b[0;32m    249\u001b[0m \u001b[38;5;28;01mreturn\u001b[39;00m loss\n",
      "File \u001b[1;32m~\\AppData\\Roaming\\Python\\Python311\\site-packages\\torch\\optim\\optimizer.py:161\u001b[0m, in \u001b[0;36m_disable_dynamo_if_unsupported.<locals>.wrapper.<locals>.maybe_fallback\u001b[1;34m(*args, **kwargs)\u001b[0m\n\u001b[0;32m    159\u001b[0m     \u001b[38;5;28;01mreturn\u001b[39;00m disabled_func(\u001b[38;5;241m*\u001b[39margs, \u001b[38;5;241m*\u001b[39m\u001b[38;5;241m*\u001b[39mkwargs)\n\u001b[0;32m    160\u001b[0m \u001b[38;5;28;01melse\u001b[39;00m:\n\u001b[1;32m--> 161\u001b[0m     \u001b[38;5;28;01mreturn\u001b[39;00m \u001b[43mfunc\u001b[49m\u001b[43m(\u001b[49m\u001b[38;5;241;43m*\u001b[39;49m\u001b[43margs\u001b[49m\u001b[43m,\u001b[49m\u001b[43m \u001b[49m\u001b[38;5;241;43m*\u001b[39;49m\u001b[38;5;241;43m*\u001b[39;49m\u001b[43mkwargs\u001b[49m\u001b[43m)\u001b[49m\n",
      "File \u001b[1;32m~\\AppData\\Roaming\\Python\\Python311\\site-packages\\torch\\optim\\adam.py:766\u001b[0m, in \u001b[0;36madam\u001b[1;34m(params, grads, exp_avgs, exp_avg_sqs, max_exp_avg_sqs, state_steps, foreach, capturable, differentiable, fused, grad_scale, found_inf, has_complex, amsgrad, beta1, beta2, lr, weight_decay, eps, maximize)\u001b[0m\n\u001b[0;32m    763\u001b[0m \u001b[38;5;28;01melse\u001b[39;00m:\n\u001b[0;32m    764\u001b[0m     func \u001b[38;5;241m=\u001b[39m _single_tensor_adam\n\u001b[1;32m--> 766\u001b[0m \u001b[43mfunc\u001b[49m\u001b[43m(\u001b[49m\n\u001b[0;32m    767\u001b[0m \u001b[43m    \u001b[49m\u001b[43mparams\u001b[49m\u001b[43m,\u001b[49m\n\u001b[0;32m    768\u001b[0m \u001b[43m    \u001b[49m\u001b[43mgrads\u001b[49m\u001b[43m,\u001b[49m\n\u001b[0;32m    769\u001b[0m \u001b[43m    \u001b[49m\u001b[43mexp_avgs\u001b[49m\u001b[43m,\u001b[49m\n\u001b[0;32m    770\u001b[0m \u001b[43m    \u001b[49m\u001b[43mexp_avg_sqs\u001b[49m\u001b[43m,\u001b[49m\n\u001b[0;32m    771\u001b[0m \u001b[43m    \u001b[49m\u001b[43mmax_exp_avg_sqs\u001b[49m\u001b[43m,\u001b[49m\n\u001b[0;32m    772\u001b[0m \u001b[43m    \u001b[49m\u001b[43mstate_steps\u001b[49m\u001b[43m,\u001b[49m\n\u001b[0;32m    773\u001b[0m \u001b[43m    \u001b[49m\u001b[43mamsgrad\u001b[49m\u001b[38;5;241;43m=\u001b[39;49m\u001b[43mamsgrad\u001b[49m\u001b[43m,\u001b[49m\n\u001b[0;32m    774\u001b[0m \u001b[43m    \u001b[49m\u001b[43mhas_complex\u001b[49m\u001b[38;5;241;43m=\u001b[39;49m\u001b[43mhas_complex\u001b[49m\u001b[43m,\u001b[49m\n\u001b[0;32m    775\u001b[0m \u001b[43m    \u001b[49m\u001b[43mbeta1\u001b[49m\u001b[38;5;241;43m=\u001b[39;49m\u001b[43mbeta1\u001b[49m\u001b[43m,\u001b[49m\n\u001b[0;32m    776\u001b[0m \u001b[43m    \u001b[49m\u001b[43mbeta2\u001b[49m\u001b[38;5;241;43m=\u001b[39;49m\u001b[43mbeta2\u001b[49m\u001b[43m,\u001b[49m\n\u001b[0;32m    777\u001b[0m \u001b[43m    \u001b[49m\u001b[43mlr\u001b[49m\u001b[38;5;241;43m=\u001b[39;49m\u001b[43mlr\u001b[49m\u001b[43m,\u001b[49m\n\u001b[0;32m    778\u001b[0m \u001b[43m    \u001b[49m\u001b[43mweight_decay\u001b[49m\u001b[38;5;241;43m=\u001b[39;49m\u001b[43mweight_decay\u001b[49m\u001b[43m,\u001b[49m\n\u001b[0;32m    779\u001b[0m \u001b[43m    \u001b[49m\u001b[43meps\u001b[49m\u001b[38;5;241;43m=\u001b[39;49m\u001b[43meps\u001b[49m\u001b[43m,\u001b[49m\n\u001b[0;32m    780\u001b[0m \u001b[43m    \u001b[49m\u001b[43mmaximize\u001b[49m\u001b[38;5;241;43m=\u001b[39;49m\u001b[43mmaximize\u001b[49m\u001b[43m,\u001b[49m\n\u001b[0;32m    781\u001b[0m \u001b[43m    \u001b[49m\u001b[43mcapturable\u001b[49m\u001b[38;5;241;43m=\u001b[39;49m\u001b[43mcapturable\u001b[49m\u001b[43m,\u001b[49m\n\u001b[0;32m    782\u001b[0m \u001b[43m    \u001b[49m\u001b[43mdifferentiable\u001b[49m\u001b[38;5;241;43m=\u001b[39;49m\u001b[43mdifferentiable\u001b[49m\u001b[43m,\u001b[49m\n\u001b[0;32m    783\u001b[0m \u001b[43m    \u001b[49m\u001b[43mgrad_scale\u001b[49m\u001b[38;5;241;43m=\u001b[39;49m\u001b[43mgrad_scale\u001b[49m\u001b[43m,\u001b[49m\n\u001b[0;32m    784\u001b[0m \u001b[43m    \u001b[49m\u001b[43mfound_inf\u001b[49m\u001b[38;5;241;43m=\u001b[39;49m\u001b[43mfound_inf\u001b[49m\u001b[43m,\u001b[49m\n\u001b[0;32m    785\u001b[0m \u001b[43m\u001b[49m\u001b[43m)\u001b[49m\n",
      "File \u001b[1;32m~\\AppData\\Roaming\\Python\\Python311\\site-packages\\torch\\optim\\adam.py:431\u001b[0m, in \u001b[0;36m_single_tensor_adam\u001b[1;34m(params, grads, exp_avgs, exp_avg_sqs, max_exp_avg_sqs, state_steps, grad_scale, found_inf, amsgrad, has_complex, beta1, beta2, lr, weight_decay, eps, maximize, capturable, differentiable)\u001b[0m\n\u001b[0;32m    429\u001b[0m         denom \u001b[38;5;241m=\u001b[39m (max_exp_avg_sqs[i]\u001b[38;5;241m.\u001b[39msqrt() \u001b[38;5;241m/\u001b[39m bias_correction2_sqrt)\u001b[38;5;241m.\u001b[39madd_(eps)\n\u001b[0;32m    430\u001b[0m     \u001b[38;5;28;01melse\u001b[39;00m:\n\u001b[1;32m--> 431\u001b[0m         denom \u001b[38;5;241m=\u001b[39m (\u001b[43mexp_avg_sq\u001b[49m\u001b[38;5;241;43m.\u001b[39;49m\u001b[43msqrt\u001b[49m\u001b[43m(\u001b[49m\u001b[43m)\u001b[49m \u001b[38;5;241m/\u001b[39m bias_correction2_sqrt)\u001b[38;5;241m.\u001b[39madd_(eps)\n\u001b[0;32m    433\u001b[0m     param\u001b[38;5;241m.\u001b[39maddcdiv_(exp_avg, denom, value\u001b[38;5;241m=\u001b[39m\u001b[38;5;241m-\u001b[39mstep_size)\n\u001b[0;32m    435\u001b[0m \u001b[38;5;66;03m# Lastly, switch back to complex view\u001b[39;00m\n",
      "\u001b[1;31mKeyboardInterrupt\u001b[0m: "
     ]
    }
   ],
   "source": [
    "import torch\n",
    "import torch.nn as nn\n",
    "import torch.optim as optim\n",
    "\n",
    "# Определение модели\n",
    "class FullyConnectedNN(nn.Module):\n",
    "    def __init__(self):\n",
    "        super(FullyConnectedNN, self).__init__()\n",
    "        self.fc1 = nn.Linear(600, 1000)\n",
    "        self.fc2 = nn.Linear(1000, 1000)\n",
    "        self.fc3 = nn.Linear(1000, 1)\n",
    "        self.relu = nn.ReLU()\n",
    "\n",
    "    def forward(self, x):\n",
    "        x = self.relu(self.fc1(x))\n",
    "        x = self.fc3(x)  # Выходной слой без активации\n",
    "        return x\n",
    "\n",
    "# Инициализация модели, функции потерь и оптимизатора\n",
    "model_nn_z1 = FullyConnectedNN()\n",
    "criterion = nn.MSELoss()\n",
    "optimizer = optim.Adam(model_nn_z1.parameters(), lr=0.001)\n",
    "\n",
    "# Пример данных\n",
    "# Замените на ваши данные\n",
    "\n",
    "# Цикл обучения\n",
    "num_epochs = 200  # Количество эпох\n",
    "batch_size = 32\n",
    "LOSS=[]\n",
    "for epoch in trange(num_epochs):\n",
    "    l_s=0\n",
    "    for i in range(0, len(y_train), batch_size):\n",
    "        model_nn_z1.train()  # Установка модели в режим обучения\n",
    "    \n",
    "        # Прямой проход\n",
    "        outputs = model_nn_z1(X_train[i:i+batch_size])\n",
    "        loss = criterion(outputs.flatten(), y_train[i:i+batch_size])\n",
    "    \n",
    "        # Обратный проход и оптимизация\n",
    "        optimizer.zero_grad()  # Обнуление градиентов\n",
    "        loss.backward()        # Вычисление градиентов\n",
    "        optimizer.step()       # Обновление весов\n",
    "    \n",
    "        # Вывод информации о ходе обучения\n",
    "        l_s+=loss*batch_size/len(y_train)\n",
    "    LOSS.append(l_s.detach().numpy())\n"
   ]
  },
  {
   "cell_type": "code",
   "execution_count": null,
   "id": "3bbb5632-223b-49a0-86d9-a84f625db7d9",
   "metadata": {},
   "outputs": [],
   "source": []
  },
  {
   "cell_type": "code",
   "execution_count": null,
   "id": "711d3222-d4e0-4182-a3c3-711d7c814610",
   "metadata": {},
   "outputs": [],
   "source": []
  },
  {
   "cell_type": "code",
   "execution_count": null,
   "id": "3c4fa1f8-74fe-4385-a994-12b83e41c801",
   "metadata": {},
   "outputs": [],
   "source": []
  },
  {
   "cell_type": "code",
   "execution_count": null,
   "id": "13c27e73-2d4d-465f-9698-04a7783b8728",
   "metadata": {},
   "outputs": [],
   "source": []
  },
  {
   "cell_type": "code",
   "execution_count": 150,
   "id": "b8c11f33-1604-4435-8da0-d6511ac3c585",
   "metadata": {},
   "outputs": [],
   "source": [
    "u_ids_z = set(train_smm.user_id.unique())\n",
    "u_ids_s = set(test_smm.user_id.unique())\n",
    "US_ID = u_ids_z.intersection(u_ids_s)\n",
    "US_VAL = u_ids_z - u_ids_s\n"
   ]
  },
  {
   "cell_type": "code",
   "execution_count": 151,
   "id": "f1525061-ed51-43e2-b22d-9808467a3d4f",
   "metadata": {},
   "outputs": [],
   "source": [
    "val_zvuk = train_smm[train_smm['user_id'].isin(US_VAL)].sort_values(by='user_id', ascending=False)\n",
    "\n",
    "train_z = train_smm[train_smm['user_id'].isin(US_ID)].sort_values(by='user_id', ascending=False)\n",
    "\n",
    "\n",
    "\n",
    "val_zvuk_csr = pivot_csr(val_zvuk)\n",
    "\n",
    "train_z_csr = pivot_csr(train_z)\n"
   ]
  },
  {
   "cell_type": "code",
   "execution_count": 152,
   "id": "7502c523-4b51-46ef-9a9a-d4d49a714c35",
   "metadata": {},
   "outputs": [
    {
     "data": {
      "application/vnd.jupyter.widget-view+json": {
       "model_id": "556663cef9404c22ad568a619638ac16",
       "version_major": 2,
       "version_minor": 0
      },
      "text/plain": [
       "  0%|          | 0/30 [00:00<?, ?it/s]"
      ]
     },
     "metadata": {},
     "output_type": "display_data"
    },
    {
     "data": {
      "application/vnd.jupyter.widget-view+json": {
       "model_id": "bf23e788e1fa4e03915b59bbb9b83eb2",
       "version_major": 2,
       "version_minor": 0
      },
      "text/plain": [
       "  0%|          | 0/30 [00:00<?, ?it/s]"
      ]
     },
     "metadata": {},
     "output_type": "display_data"
    }
   ],
   "source": [
    "df_z = train_z_csr\n",
    "R = df_z\n",
    "model = implicit.als.AlternatingLeastSquares(factors=300, regularization=0.01, iterations=30)\n",
    "model.fit(R)\n",
    "user_factors_z = model.user_factors  # Размер (num_users, 10)\n",
    "item_factors_z = model.item_factors  # Размер (num_items, 10)\n",
    "df_z_val = val_zvuk_csr\n",
    "R = df_z_val\n",
    "model = implicit.als.AlternatingLeastSquares(factors=300, regularization=0.01, iterations=30)\n",
    "model.fit(R)\n",
    "user_factors_z_val = model.user_factors  # Размер (num_users, 10)\n",
    "item_factors_z_val = model.item_factors  # Размер (num_items, 10)"
   ]
  },
  {
   "cell_type": "code",
   "execution_count": 153,
   "id": "a16f6b96-e6b0-4e9a-9158-d8027903a3dd",
   "metadata": {},
   "outputs": [
    {
     "data": {
      "application/vnd.jupyter.widget-view+json": {
       "model_id": "e53722a2b7d04f6985cd31e67712c17f",
       "version_major": 2,
       "version_minor": 0
      },
      "text/plain": [
       "  0%|          | 0/158383 [00:00<?, ?it/s]"
      ]
     },
     "metadata": {},
     "output_type": "display_data"
    },
    {
     "ename": "KeyboardInterrupt",
     "evalue": "",
     "output_type": "error",
     "traceback": [
      "\u001b[1;31m---------------------------------------------------------------------------\u001b[0m",
      "\u001b[1;31mKeyboardInterrupt\u001b[0m                         Traceback (most recent call last)",
      "Cell \u001b[1;32mIn[153], line 5\u001b[0m\n\u001b[0;32m      3\u001b[0m \u001b[38;5;28;01mfor\u001b[39;00m user \u001b[38;5;129;01min\u001b[39;00m trange(df_z\u001b[38;5;241m.\u001b[39mshape[\u001b[38;5;241m0\u001b[39m]):\n\u001b[0;32m      4\u001b[0m     \u001b[38;5;28;01mfor\u001b[39;00m item \u001b[38;5;129;01min\u001b[39;00m \u001b[38;5;28mrange\u001b[39m(df_z\u001b[38;5;241m.\u001b[39mshape[\u001b[38;5;241m1\u001b[39m]):\n\u001b[1;32m----> 5\u001b[0m         \u001b[38;5;28;01mif\u001b[39;00m \u001b[43mdf_z\u001b[49m\u001b[43m[\u001b[49m\u001b[43muser\u001b[49m\u001b[43m,\u001b[49m\u001b[43m \u001b[49m\u001b[43mitem\u001b[49m\u001b[43m]\u001b[49m \u001b[38;5;241m>\u001b[39m \u001b[38;5;241m0\u001b[39m:  \u001b[38;5;66;03m# Проверяем наличие взаимодействия\u001b[39;00m\n\u001b[0;32m      6\u001b[0m             \u001b[38;5;66;03m#print(user_factors_z.shape,item_factors_z.shape, user_factors_s.shape)\u001b[39;00m\n\u001b[0;32m      7\u001b[0m             X_train\u001b[38;5;241m.\u001b[39mappend(np\u001b[38;5;241m.\u001b[39mconcatenate((user_factors_z[user],item_factors_z[item]), axis\u001b[38;5;241m=\u001b[39m\u001b[38;5;241m0\u001b[39m))  \u001b[38;5;66;03m# Добавляем в X_train вектор пользователя\u001b[39;00m\n\u001b[0;32m      8\u001b[0m             y_train\u001b[38;5;241m.\u001b[39mappend(df_z[user, item])  \u001b[38;5;66;03m# Добавляем значение в y_train\u001b[39;00m\n",
      "File \u001b[1;32m~\\AppData\\Roaming\\Python\\Python311\\site-packages\\scipy\\sparse\\_index.py:52\u001b[0m, in \u001b[0;36mIndexMixin.__getitem__\u001b[1;34m(self, key)\u001b[0m\n\u001b[0;32m     50\u001b[0m \u001b[38;5;28;01mif\u001b[39;00m \u001b[38;5;28misinstance\u001b[39m(row, INT_TYPES):\n\u001b[0;32m     51\u001b[0m     \u001b[38;5;28;01mif\u001b[39;00m \u001b[38;5;28misinstance\u001b[39m(col, INT_TYPES):\n\u001b[1;32m---> 52\u001b[0m         \u001b[38;5;28;01mreturn\u001b[39;00m \u001b[38;5;28;43mself\u001b[39;49m\u001b[38;5;241;43m.\u001b[39;49m\u001b[43m_get_intXint\u001b[49m\u001b[43m(\u001b[49m\u001b[43mrow\u001b[49m\u001b[43m,\u001b[49m\u001b[43m \u001b[49m\u001b[43mcol\u001b[49m\u001b[43m)\u001b[49m\n\u001b[0;32m     53\u001b[0m     \u001b[38;5;28;01melif\u001b[39;00m \u001b[38;5;28misinstance\u001b[39m(col, \u001b[38;5;28mslice\u001b[39m):\n\u001b[0;32m     54\u001b[0m         \u001b[38;5;28mself\u001b[39m\u001b[38;5;241m.\u001b[39m_raise_on_1d_array_slice()\n",
      "File \u001b[1;32m~\\AppData\\Roaming\\Python\\Python311\\site-packages\\scipy\\sparse\\_compressed.py:657\u001b[0m, in \u001b[0;36m_cs_matrix._get_intXint\u001b[1;34m(self, row, col)\u001b[0m\n\u001b[0;32m    655\u001b[0m M, N \u001b[38;5;241m=\u001b[39m \u001b[38;5;28mself\u001b[39m\u001b[38;5;241m.\u001b[39m_swap(\u001b[38;5;28mself\u001b[39m\u001b[38;5;241m.\u001b[39mshape)\n\u001b[0;32m    656\u001b[0m major, minor \u001b[38;5;241m=\u001b[39m \u001b[38;5;28mself\u001b[39m\u001b[38;5;241m.\u001b[39m_swap((row, col))\n\u001b[1;32m--> 657\u001b[0m indptr, indices, data \u001b[38;5;241m=\u001b[39m \u001b[43mget_csr_submatrix\u001b[49m\u001b[43m(\u001b[49m\n\u001b[0;32m    658\u001b[0m \u001b[43m    \u001b[49m\u001b[43mM\u001b[49m\u001b[43m,\u001b[49m\u001b[43m \u001b[49m\u001b[43mN\u001b[49m\u001b[43m,\u001b[49m\u001b[43m \u001b[49m\u001b[38;5;28;43mself\u001b[39;49m\u001b[38;5;241;43m.\u001b[39;49m\u001b[43mindptr\u001b[49m\u001b[43m,\u001b[49m\u001b[43m \u001b[49m\u001b[38;5;28;43mself\u001b[39;49m\u001b[38;5;241;43m.\u001b[39;49m\u001b[43mindices\u001b[49m\u001b[43m,\u001b[49m\u001b[43m \u001b[49m\u001b[38;5;28;43mself\u001b[39;49m\u001b[38;5;241;43m.\u001b[39;49m\u001b[43mdata\u001b[49m\u001b[43m,\u001b[49m\n\u001b[0;32m    659\u001b[0m \u001b[43m    \u001b[49m\u001b[43mmajor\u001b[49m\u001b[43m,\u001b[49m\u001b[43m \u001b[49m\u001b[43mmajor\u001b[49m\u001b[43m \u001b[49m\u001b[38;5;241;43m+\u001b[39;49m\u001b[43m \u001b[49m\u001b[38;5;241;43m1\u001b[39;49m\u001b[43m,\u001b[49m\u001b[43m \u001b[49m\u001b[43mminor\u001b[49m\u001b[43m,\u001b[49m\u001b[43m \u001b[49m\u001b[43mminor\u001b[49m\u001b[43m \u001b[49m\u001b[38;5;241;43m+\u001b[39;49m\u001b[43m \u001b[49m\u001b[38;5;241;43m1\u001b[39;49m\u001b[43m)\u001b[49m\n\u001b[0;32m    660\u001b[0m \u001b[38;5;28;01mreturn\u001b[39;00m data\u001b[38;5;241m.\u001b[39msum(dtype\u001b[38;5;241m=\u001b[39m\u001b[38;5;28mself\u001b[39m\u001b[38;5;241m.\u001b[39mdtype)\n",
      "\u001b[1;31mKeyboardInterrupt\u001b[0m: "
     ]
    }
   ],
   "source": [
    "X_train = []\n",
    "y_train = []\n",
    "for user in trange(df_z.shape[0]):\n",
    "    for item in range(df_z.shape[1]):\n",
    "        if df_z[user, item] > 0:  # Проверяем наличие взаимодействия\n",
    "            #print(user_factors_z.shape,item_factors_z.shape, user_factors_s.shape)\n",
    "            X_train.append(np.concatenate((user_factors_z[user],item_factors_z[item]), axis=0))  # Добавляем в X_train вектор пользователя\n",
    "            y_train.append(df_z[user, item])  # Добавляем значение в y_train\n",
    "        if len(X_train)>=50000:\n",
    "            break\n",
    "    if len(X_train)>=50000:\n",
    "            break\n",
    "              "
   ]
  },
  {
   "cell_type": "code",
   "execution_count": 154,
   "id": "2ec034a4-3c93-4d5a-9945-409ea73672a0",
   "metadata": {},
   "outputs": [],
   "source": [
    "X_train = torch.tensor(np.array(X_train)).float()\n",
    "\n",
    "y_train = torch.tensor(np.array(y_train)).float()\n",
    "\n",
    "mean = y_train.mean()\n",
    "std = y_train.std()\n",
    "\n",
    "# Стандартизация\n",
    "y_train = (y_train - mean) / std"
   ]
  },
  {
   "cell_type": "code",
   "execution_count": 155,
   "id": "fa4779ee-4776-46b1-b6c8-4b92f9c77219",
   "metadata": {},
   "outputs": [
    {
     "data": {
      "application/vnd.jupyter.widget-view+json": {
       "model_id": "6ada9e2f90fc44a7b3b3839c4cac0069",
       "version_major": 2,
       "version_minor": 0
      },
      "text/plain": [
       "  0%|          | 0/200 [00:00<?, ?it/s]"
      ]
     },
     "metadata": {},
     "output_type": "display_data"
    }
   ],
   "source": [
    "import torch\n",
    "import torch.nn as nn\n",
    "import torch.optim as optim\n",
    "\n",
    "# Определение модели\n",
    "class FullyConnectedNN(nn.Module):\n",
    "    def __init__(self):\n",
    "        super(FullyConnectedNN, self).__init__()\n",
    "        self.fc1 = nn.Linear(600, 1000)\n",
    "        self.fc2 = nn.Linear(1000, 1000)\n",
    "        self.fc3 = nn.Linear(1000, 1)\n",
    "        self.relu = nn.ReLU()\n",
    "\n",
    "    def forward(self, x):\n",
    "        x = self.relu(self.fc1(x))\n",
    "        x = self.fc3(x)  # Выходной слой без активации\n",
    "        return x\n",
    "\n",
    "# Инициализация модели, функции потерь и оптимизатора\n",
    "model_nn_z1 = FullyConnectedNN()\n",
    "criterion = nn.MSELoss()\n",
    "optimizer = optim.Adam(model_nn_z1.parameters(), lr=0.001)\n",
    "\n",
    "# Пример данных\n",
    "# Замените на ваши данные\n",
    "\n",
    "# Цикл обучения\n",
    "num_epochs = 200  # Количество эпох\n",
    "batch_size = 32\n",
    "LOSS=[]\n",
    "for epoch in trange(num_epochs):\n",
    "    l_s=0\n",
    "    for i in range(0, len(y_train), batch_size):\n",
    "        model_nn_z1.train()  # Установка модели в режим обучения\n",
    "    \n",
    "        # Прямой проход\n",
    "        outputs = model_nn_z1(X_train[i:i+batch_size])\n",
    "        loss = criterion(outputs.flatten(), y_train[i:i+batch_size])\n",
    "    \n",
    "        # Обратный проход и оптимизация\n",
    "        optimizer.zero_grad()  # Обнуление градиентов\n",
    "        loss.backward()        # Вычисление градиентов\n",
    "        optimizer.step()       # Обновление весов\n",
    "    \n",
    "        # Вывод информации о ходе обучения\n",
    "        l_s+=loss*batch_size/len(y_train)\n",
    "    LOSS.append(l_s.detach().numpy())\n"
   ]
  },
  {
   "cell_type": "code",
   "execution_count": 91,
   "id": "f8812c5a-62b0-4450-ba45-3f163ce10f28",
   "metadata": {},
   "outputs": [
    {
     "data": {
      "application/vnd.jupyter.widget-view+json": {
       "model_id": "f543b91528b44637a238decf4ae04f63",
       "version_major": 2,
       "version_minor": 0
      },
      "text/plain": [
       "  0%|          | 0/853 [00:00<?, ?it/s]"
      ]
     },
     "metadata": {},
     "output_type": "display_data"
    }
   ],
   "source": [
    "df_s_val = val_smm_csr\n",
    "\n",
    "X_val = []\n",
    "y_val = []\n",
    "for user in trange(df_s_val.shape[0]):\n",
    "    for item in range(df_s_val.shape[1]):\n",
    "        if df_s_val[user, item] > 0:  # Проверяем наличие взаимодействия\n",
    "            #print(user_factors_z.shape,item_factors_z.shape, user_factors_s.shape)\n",
    "            X_val.append(np.concatenate((user_factors_z_val[user],item_factors_s_val[item],user_factors_s_val[user]), axis=0))  # Добавляем в X_train вектор пользователя\n",
    "            y_val.append(df_s_val[user, item])  # Добавляем значение в y_train\n",
    "        if len(X_val)>=50000:\n",
    "            break\n",
    "    if len(X_val)>=50000:\n",
    "            break\n",
    "              "
   ]
  },
  {
   "cell_type": "code",
   "execution_count": null,
   "id": "545b91f3-7244-447e-9db1-a429451e6561",
   "metadata": {},
   "outputs": [],
   "source": []
  },
  {
   "cell_type": "code",
   "execution_count": null,
   "id": "55a3b5e8-50ff-40f3-b648-2e754f0bf193",
   "metadata": {},
   "outputs": [],
   "source": []
  },
  {
   "cell_type": "code",
   "execution_count": null,
   "id": "db215172-6c6d-49c3-b495-9bf0d37c2f5a",
   "metadata": {},
   "outputs": [],
   "source": []
  },
  {
   "cell_type": "code",
   "execution_count": null,
   "id": "5b689dde-b626-4a67-b7a8-d6fbf7936a49",
   "metadata": {},
   "outputs": [],
   "source": []
  },
  {
   "cell_type": "code",
   "execution_count": 169,
   "id": "ebd246e6-d592-49b6-90f9-02a5f4c67d2e",
   "metadata": {},
   "outputs": [],
   "source": [
    "tensor1 = torch.tensor([[1, 2], [3, 4]], dtype=torch.float32)\n",
    "tensor2 = torch.tensor([[1, 6], [3, 8]], dtype=torch.float32)\n",
    "\n",
    "# Создаем объект функции потерь\n",
    "mse_loss = nn.MSELoss()\n",
    "\n",
    "# Вычисляем потерю\n",
    "loss = mse_loss(tensor1, tensor2)"
   ]
  },
  {
   "cell_type": "code",
   "execution_count": 170,
   "id": "7c772d7a-cf40-478b-b4ff-f089a9b5079a",
   "metadata": {},
   "outputs": [
    {
     "data": {
      "text/plain": [
       "tensor(8.)"
      ]
     },
     "execution_count": 170,
     "metadata": {},
     "output_type": "execute_result"
    }
   ],
   "source": [
    "loss"
   ]
  },
  {
   "cell_type": "code",
   "execution_count": 173,
   "id": "f48378c5-11dd-453c-96ce-eb9de2b5feea",
   "metadata": {},
   "outputs": [
    {
     "data": {
      "text/plain": [
       "2"
      ]
     },
     "execution_count": 173,
     "metadata": {},
     "output_type": "execute_result"
    }
   ],
   "source": [
    "tensor1.shape[0]"
   ]
  },
  {
   "cell_type": "code",
   "execution_count": null,
   "id": "351f96cc-7f57-4d31-9336-994fcb263140",
   "metadata": {},
   "outputs": [],
   "source": []
  }
 ],
 "metadata": {
  "kernelspec": {
   "display_name": "Python 3 (ipykernel)",
   "language": "python",
   "name": "python3"
  },
  "language_info": {
   "codemirror_mode": {
    "name": "ipython",
    "version": 3
   },
   "file_extension": ".py",
   "mimetype": "text/x-python",
   "name": "python",
   "nbconvert_exporter": "python",
   "pygments_lexer": "ipython3",
   "version": "3.11.3"
  }
 },
 "nbformat": 4,
 "nbformat_minor": 5
}
